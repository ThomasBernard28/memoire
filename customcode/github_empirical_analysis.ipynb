{
 "cells": [
  {
   "cell_type": "code",
   "id": "initial_id",
   "metadata": {
    "collapsed": true,
    "ExecuteTime": {
     "end_time": "2025-05-09T15:10:56.943534Z",
     "start_time": "2025-05-09T15:10:56.940607Z"
    }
   },
   "source": [
    "import parser\n",
    "import info_extractor\n",
    "import snapshoter\n",
    "import pickle\n",
    "import gzip\n",
    "import pandas as pd\n",
    "import altair as alt\n",
    "\n",
    "from tabulate import tabulate\n",
    "from plotter import *\n",
    "from importlib import reload\n"
   ],
   "outputs": [],
   "execution_count": 24
  },
  {
   "metadata": {
    "ExecuteTime": {
     "end_time": "2025-05-09T15:12:26.156530Z",
     "start_time": "2025-05-09T15:12:26.146985Z"
    }
   },
   "cell_type": "code",
   "source": [
    "import parser\n",
    "import info_extractor\n",
    "import snapshoter\n",
    "reload(parser)\n",
    "reload(info_extractor)\n",
    "reload(snapshoter)"
   ],
   "id": "7c630bb960fa9d0f",
   "outputs": [
    {
     "data": {
      "text/plain": [
       "<module 'snapshoter' from 'C:\\\\Users\\\\Thomas\\\\PycharmProjects\\\\memoire\\\\customcode\\\\snapshoter.py'>"
      ]
     },
     "execution_count": 28,
     "metadata": {},
     "output_type": "execute_result"
    }
   ],
   "execution_count": 28
  },
  {
   "metadata": {},
   "cell_type": "markdown",
   "source": "## Loading the dataset",
   "id": "d0f477814f578a2"
  },
  {
   "metadata": {
    "ExecuteTime": {
     "end_time": "2025-05-09T09:45:30.349173Z",
     "start_time": "2025-05-09T09:45:19.393315Z"
    }
   },
   "cell_type": "code",
   "source": [
    "df = pd.read_csv(\"../dataset/200_workflowsonly.csv\")\n",
    "print(f\"Total number of records: {df.shape[0]}\")\n",
    "\n",
    "# Drop the records that were deleted from the dataset\n",
    "df = df.dropna(subset=[\"file_hash\"])\n",
    "\n",
    "\n",
    "# Force the type of the valid_yaml column to be boolean\n",
    "# (After a check it appears that the column is boolean but better to be sure)\n",
    "df[\"valid_yaml\"] = df[\"valid_yaml\"].astype(bool)"
   ],
   "id": "cc818992c800ca4",
   "outputs": [
    {
     "name": "stdout",
     "output_type": "stream",
     "text": [
      "Total number of records: 2595399\n"
     ]
    }
   ],
   "execution_count": 3
  },
  {
   "metadata": {},
   "cell_type": "markdown",
   "source": "## Counting the number of invalid YAML files per year",
   "id": "beca1878ff258a7b"
  },
  {
   "metadata": {
    "ExecuteTime": {
     "end_time": "2025-04-22T09:13:44.368574Z",
     "start_time": "2025-04-22T09:13:43.735270Z"
    }
   },
   "cell_type": "code",
   "source": [
    "# Total number of invalid records in the dataset\n",
    "nbr_invalid_yaml = df[df['valid_yaml'] == False].shape[0]\n",
    "print(f\"Number of invalid records: {nbr_invalid_yaml}\")\n",
    "\n",
    "df['committed_date'] = pd.to_datetime(df['committed_date'], unit='s')\n",
    "df['committed_year'] = df['committed_date'].dt.year\n",
    "\n",
    "# Only keep the records that are invalid and then sort them by year\n",
    "invalid_df = df[df['valid_yaml'] == False]\n",
    "invalids_per_year = invalid_df['committed_year'].value_counts().sort_index()\n",
    "\n",
    "print(\"Number of invalid records per year: \")\n",
    "print(invalids_per_year)"
   ],
   "id": "be3af95ca54ced5",
   "outputs": [
    {
     "name": "stdout",
     "output_type": "stream",
     "text": [
      "Number of invalid records: 15417\n",
      "Number of invalid records per year: \n",
      "committed_year\n",
      "2019     386\n",
      "2020    2455\n",
      "2021    3201\n",
      "2022    3780\n",
      "2023    3466\n",
      "2024    2129\n",
      "Name: count, dtype: int64\n"
     ]
    }
   ],
   "execution_count": 4
  },
  {
   "metadata": {},
   "cell_type": "markdown",
   "source": "## Snapshot without filtering",
   "id": "cc7cd2bdb3dafc9a"
  },
  {
   "metadata": {
    "ExecuteTime": {
     "end_time": "2025-04-14T16:39:00.589651Z",
     "start_time": "2025-04-14T16:38:53.563360Z"
    }
   },
   "cell_type": "code",
   "source": [
    "unfiltered_snapshots = []\n",
    "year = 2019\n",
    "while year <= 2024:\n",
    "    snapshot = snapshoter.extract_snapshot(df,year)\n",
    "    unfiltered_snapshots.append((year,snapshot))\n",
    "    print(f\"Year : {year}\")\n",
    "    print(f\"Number of workflows in the snapshot : {snapshot.shape[0]}\\n\")\n",
    "    year += 1"
   ],
   "id": "66e04f8aba50693a",
   "outputs": [
    {
     "name": "stdout",
     "output_type": "stream",
     "text": [
      "Year : 2019\n",
      "Number of workflows in the snapshot : 1905\n",
      "\n",
      "Year : 2020\n",
      "Number of workflows in the snapshot : 31145\n",
      "\n",
      "Year : 2021\n",
      "Number of workflows in the snapshot : 79553\n",
      "\n",
      "Year : 2022\n",
      "Number of workflows in the snapshot : 127814\n",
      "\n",
      "Year : 2023\n",
      "Number of workflows in the snapshot : 179073\n",
      "\n",
      "Year : 2024\n",
      "Number of workflows in the snapshot : 219401\n",
      "\n"
     ]
    }
   ],
   "execution_count": 3
  },
  {
   "metadata": {},
   "cell_type": "markdown",
   "source": [
    "## Snapshot with filtering the invalid workflows\n",
    "\n",
    "- Here we only consider the workflows that are valid (valid_yaml = True).\n",
    "- The other workflows will be dropped from the resulting snapshot dataframe\n"
   ],
   "id": "9f13cad4660bffa8"
  },
  {
   "metadata": {
    "ExecuteTime": {
     "end_time": "2025-05-09T09:46:05.194074Z",
     "start_time": "2025-05-09T09:46:05.182831Z"
    }
   },
   "cell_type": "code",
   "source": [
    "# This block of code is only used to gather information\n",
    "# on the number of invalid records\n",
    "\n",
    "invalid_yaml = df.loc[df['valid_yaml'] == False]\n",
    "print(f\"Number of invalid records : {len(invalid_yaml)}\\n\")"
   ],
   "id": "78a04bb6d2925503",
   "outputs": [
    {
     "name": "stdout",
     "output_type": "stream",
     "text": [
      "Number of invalid records : 15417\n",
      "\n"
     ]
    }
   ],
   "execution_count": 4
  },
  {
   "metadata": {
    "ExecuteTime": {
     "end_time": "2025-05-09T09:46:14.408261Z",
     "start_time": "2025-05-09T09:46:06.532574Z"
    }
   },
   "cell_type": "code",
   "source": [
    "filtered_snapshots = []\n",
    "\n",
    "filtered_df = snapshoter.delete_invalid_yaml_records(df)\n",
    "\n",
    "year = 2019\n",
    "while year <= 2024:\n",
    "    snapshot_filtered = snapshoter.extract_snapshot(filtered_df, year)\n",
    "    filtered_snapshots.append((year,snapshot_filtered))\n",
    "    print(f\"Year: {year}\")\n",
    "    print(f\"Number of workflows in the snapshot: {snapshot_filtered.shape[0]}\\n\")\n",
    "    year += 1\n"
   ],
   "id": "9c794f12d83f4777",
   "outputs": [
    {
     "name": "stdout",
     "output_type": "stream",
     "text": [
      "Year: 2019\n",
      "Number of workflows in the snapshot: 1902\n",
      "\n",
      "Year: 2020\n",
      "Number of workflows in the snapshot: 31092\n",
      "\n",
      "Year: 2021\n",
      "Number of workflows in the snapshot: 79476\n",
      "\n",
      "Year: 2022\n",
      "Number of workflows in the snapshot: 127675\n",
      "\n",
      "Year: 2023\n",
      "Number of workflows in the snapshot: 178886\n",
      "\n",
      "Year: 2024\n",
      "Number of workflows in the snapshot: 219186\n",
      "\n"
     ]
    }
   ],
   "execution_count": 5
  },
  {
   "metadata": {},
   "cell_type": "markdown",
   "source": "## Get language repartition",
   "id": "63569e904e85e2a8"
  },
  {
   "metadata": {
    "ExecuteTime": {
     "end_time": "2025-05-06T13:08:07.384348Z",
     "start_time": "2025-05-06T13:08:06.456989Z"
    }
   },
   "cell_type": "code",
   "source": [
    "language_repartitions = []\n",
    "\n",
    "for year, snapshot in filtered_snapshots:\n",
    "    repartition, nbr_repositories = info_extractor.extract_languages_by_repository(snapshot)\n",
    "    language_repartitions.append((year, nbr_repositories, repartition))\n",
    "\n",
    "print(\"Languages counts: \")\n",
    "for year, repositories, language_count in language_repartitions:\n",
    "    print(f\"Year {year}:\")\n",
    "    print(language_count)\n",
    "    print()\n"
   ],
   "id": "af7f7801c308351f",
   "outputs": [
    {
     "name": "stdout",
     "output_type": "stream",
     "text": [
      "Languages counts: \n",
      "Year 2019:\n",
      "{'TypeScript': 231, 'Go': 139, 'JavaScript': 128, 'Python': 126, 'Java': 96, 'Rust': 93, 'C++': 65, 'Ruby': 62, 'PHP': 55, 'C': 46, 'C#': 43, 'Kotlin': 28, 'Shell': 27, 'Swift': 22, 'Elixir': 12, 'Scala': 9, 'Haskell': 7, 'Jupyter Notebook': 6, 'Lua': 6, 'Dart': 6, 'Dockerfile': 5, 'Vue': 5, 'Perl': 4, 'Objective-C': 3, 'Common Lisp': 3, 'Julia': 3, 'Clojure': 2, 'Erlang': 2, 'Fortran': 2, 'Groovy': 2, 'R': 2, 'TeX': 2, 'Racket': 1, 'Nix': 1, 'OCaml': 1, 'F#': 1, 'Zig': 1, 'Elm': 1}\n",
      "\n",
      "Year 2020:\n",
      "{'Python': 1998, 'TypeScript': 1666, 'Go': 1147, 'JavaScript': 1134, 'Java': 987, 'C++': 892, 'Rust': 878, 'PHP': 610, 'C#': 535, 'C': 523, 'Ruby': 370, 'Julia': 314, 'Kotlin': 291, 'Shell': 286, 'R': 221, 'Scala': 152, 'Swift': 145, 'Dart': 104, 'Dockerfile': 97, 'Jupyter Notebook': 97, 'Haskell': 93, 'Elixir': 74, 'Vue': 61, 'Lua': 47, 'OCaml': 38, 'Clojure': 33, 'Groovy': 28, 'Perl': 26, 'F#': 24, 'Nix': 23, 'Objective-C': 21, 'Makefile': 20, 'TeX': 20, 'Erlang': 19, 'Fortran': 12, 'Elm': 9, 'Common Lisp': 8, 'Zig': 6, 'Pascal': 5, 'Racket': 4, 'Verilog': 3, 'MATLAB': 2, 'Smalltalk': 2, 'CoffeeScript': 1}\n",
      "\n",
      "Year 2021:\n",
      "{'Python': 4579, 'TypeScript': 3215, 'JavaScript': 2327, 'Go': 2245, 'Java': 1994, 'C++': 1937, 'Rust': 1587, 'PHP': 1301, 'C': 1220, 'C#': 987, 'Ruby': 854, 'Shell': 539, 'Kotlin': 527, 'R': 383, 'Scala': 382, 'Julia': 361, 'Dart': 253, 'Swift': 251, 'Jupyter Notebook': 232, 'Haskell': 215, 'Elixir': 139, 'Lua': 137, 'Vue': 132, 'Dockerfile': 128, 'OCaml': 75, 'Objective-C': 62, 'Perl': 59, 'Clojure': 58, 'Nix': 58, 'Erlang': 56, 'TeX': 56, 'Groovy': 49, 'Makefile': 42, 'F#': 41, 'Fortran': 32, 'Common Lisp': 23, 'Verilog': 17, 'Elm': 16, 'Pascal': 13, 'Zig': 13, 'Racket': 10, 'Smalltalk': 6, 'CoffeeScript': 5, 'MATLAB': 5}\n",
      "\n",
      "Year 2022:\n",
      "{'Python': 5906, 'TypeScript': 4446, 'JavaScript': 3001, 'Go': 2898, 'C++': 2543, 'Java': 2497, 'Rust': 2096, 'C': 1631, 'PHP': 1577, 'C#': 1306, 'Ruby': 1047, 'Shell': 715, 'Kotlin': 715, 'Scala': 449, 'R': 434, 'Julia': 381, 'Dart': 345, 'Swift': 328, 'Jupyter Notebook': 310, 'Haskell': 249, 'Lua': 214, 'Vue': 193, 'Elixir': 181, 'Dockerfile': 149, 'OCaml': 93, 'Clojure': 91, 'Objective-C': 79, 'Perl': 78, 'Nix': 77, 'TeX': 74, 'Erlang': 66, 'Groovy': 60, 'Makefile': 60, 'F#': 55, 'Fortran': 46, 'Common Lisp': 28, 'Zig': 23, 'Elm': 21, 'Pascal': 20, 'Verilog': 20, 'Racket': 10, 'CoffeeScript': 7, 'MATLAB': 7, 'Smalltalk': 6}\n",
      "\n",
      "Year 2023:\n",
      "{'Python': 7016, 'TypeScript': 5433, 'JavaScript': 3433, 'Go': 3296, 'C++': 2965, 'Java': 2858, 'Rust': 2591, 'C': 1898, 'PHP': 1722, 'C#': 1538, 'Ruby': 1154, 'Kotlin': 876, 'Shell': 829, 'Scala': 469, 'R': 468, 'Dart': 444, 'Swift': 393, 'Julia': 389, 'Jupyter Notebook': 385, 'Lua': 268, 'Vue': 264, 'Haskell': 257, 'Elixir': 203, 'Dockerfile': 161, 'Clojure': 128, 'Nix': 109, 'OCaml': 105, 'Perl': 98, 'TeX': 85, 'Objective-C': 85, 'Erlang': 72, 'Makefile': 67, 'Groovy': 65, 'F#': 60, 'Fortran': 51, 'Zig': 38, 'Common Lisp': 30, 'Pascal': 23, 'Elm': 22, 'Verilog': 21, 'MATLAB': 12, 'Racket': 11, 'CoffeeScript': 10, 'Smalltalk': 7}\n",
      "\n",
      "Year 2024:\n",
      "{'Python': 7570, 'TypeScript': 5779, 'JavaScript': 3692, 'Go': 3460, 'C++': 3205, 'Java': 3018, 'Rust': 2744, 'C': 2108, 'PHP': 1867, 'C#': 1698, 'Ruby': 1218, 'Kotlin': 961, 'Shell': 885, 'R': 485, 'Scala': 480, 'Dart': 465, 'Swift': 427, 'Jupyter Notebook': 425, 'Julia': 392, 'Lua': 294, 'Vue': 289, 'Haskell': 276, 'Elixir': 218, 'Dockerfile': 165, 'Clojure': 141, 'Nix': 118, 'OCaml': 118, 'Perl': 106, 'TeX': 95, 'Objective-C': 95, 'Erlang': 80, 'Makefile': 71, 'Groovy': 69, 'F#': 62, 'Fortran': 54, 'Zig': 41, 'Common Lisp': 35, 'Pascal': 29, 'Elm': 24, 'Verilog': 24, 'MATLAB': 14, 'Racket': 11, 'CoffeeScript': 10, 'Smalltalk': 7}\n",
      "\n"
     ]
    }
   ],
   "execution_count": 19
  },
  {
   "metadata": {},
   "cell_type": "markdown",
   "source": [
    "## Extract percentage of languages for each year\n",
    "\n",
    "- Make a table for each year with the number of repositories using the corresponding language and the percentage\n",
    "- If the percentage of a row is less than 1%, then group them as Other"
   ],
   "id": "b3c3b97e45a1fa9f"
  },
  {
   "metadata": {
    "ExecuteTime": {
     "end_time": "2025-05-06T13:08:09.231689Z",
     "start_time": "2025-05-06T13:08:09.192997Z"
    }
   },
   "cell_type": "code",
   "source": [
    "resulting_repartition = []\n",
    "\n",
    "for year, nbr_repositories, repartition in language_repartitions:\n",
    "    print(nbr_repositories)\n",
    "    # Create a dataframe with the languages and their counts\n",
    "    languages_df = pd.DataFrame(repartition.items(), columns=['Language', 'Count'])\n",
    "    # Compute the percentage for each language\n",
    "    languages_df['Percentage'] = round((languages_df['Count'] / nbr_repositories) * 100, 2)\n",
    "    # Sort the dataframe by count\n",
    "    languages_df = languages_df.sort_values(by='Count', ascending=False)\n",
    "    languages_df['Count'] = languages_df['Count'].astype(int)\n",
    "\n",
    "    '''\n",
    "    Now we need to group the languages with less than 1% of total occurrences, group tem as Other and delete the rows.\n",
    "    '''\n",
    "    # Create a new Dataframe with the grouped languages\n",
    "    less_represented = languages_df[languages_df['Percentage'] < 1].sum(numeric_only=True)\n",
    "    less_represented['Language'] = \"Other\"\n",
    "\n",
    "    # Deleting the rows with less than 1% in the original df by sorting it before concatenating with the above df\n",
    "    languages_df = languages_df[languages_df['Percentage'] >= 1]\n",
    "    languages_df = pd.concat([languages_df, pd.DataFrame([less_represented])], ignore_index=True)\n",
    "\n",
    "    resulting_repartition.append((year,languages_df))\n",
    "\n",
    "    table = tabulate(languages_df, headers='keys', tablefmt='psql')\n",
    "\n",
    "    print(f\"Year {year}:\")\n",
    "    print(table)\n",
    "    print()"
   ],
   "id": "3796609c0a49038",
   "outputs": [
    {
     "name": "stdout",
     "output_type": "stream",
     "text": [
      "1248\n",
      "Year 2019:\n",
      "+----+------------+---------+--------------+\n",
      "|    | Language   |   Count |   Percentage |\n",
      "|----+------------+---------+--------------|\n",
      "|  0 | TypeScript |     231 |        18.51 |\n",
      "|  1 | Go         |     139 |        11.14 |\n",
      "|  2 | JavaScript |     128 |        10.26 |\n",
      "|  3 | Python     |     126 |        10.1  |\n",
      "|  4 | Java       |      96 |         7.69 |\n",
      "|  5 | Rust       |      93 |         7.45 |\n",
      "|  6 | C++        |      65 |         5.21 |\n",
      "|  7 | Ruby       |      62 |         4.97 |\n",
      "|  8 | PHP        |      55 |         4.41 |\n",
      "|  9 | C          |      46 |         3.69 |\n",
      "| 10 | C#         |      43 |         3.45 |\n",
      "| 11 | Kotlin     |      28 |         2.24 |\n",
      "| 12 | Shell      |      27 |         2.16 |\n",
      "| 13 | Swift      |      22 |         1.76 |\n",
      "| 14 | Other      |      87 |         6.96 |\n",
      "+----+------------+---------+--------------+\n",
      "\n",
      "13026\n",
      "Year 2020:\n",
      "+----+------------+---------+--------------+\n",
      "|    | Language   |   Count |   Percentage |\n",
      "|----+------------+---------+--------------|\n",
      "|  0 | Python     |    1998 |        15.34 |\n",
      "|  1 | TypeScript |    1666 |        12.79 |\n",
      "|  2 | Go         |    1147 |         8.81 |\n",
      "|  3 | JavaScript |    1134 |         8.71 |\n",
      "|  4 | Java       |     987 |         7.58 |\n",
      "|  5 | C++        |     892 |         6.85 |\n",
      "|  6 | Rust       |     878 |         6.74 |\n",
      "|  7 | PHP        |     610 |         4.68 |\n",
      "|  8 | C#         |     535 |         4.11 |\n",
      "|  9 | C          |     523 |         4.02 |\n",
      "| 10 | Ruby       |     370 |         2.84 |\n",
      "| 11 | Julia      |     314 |         2.41 |\n",
      "| 12 | Kotlin     |     291 |         2.23 |\n",
      "| 13 | Shell      |     286 |         2.2  |\n",
      "| 14 | R          |     221 |         1.7  |\n",
      "| 15 | Scala      |     152 |         1.17 |\n",
      "| 16 | Swift      |     145 |         1.11 |\n",
      "| 17 | Other      |     877 |         6.72 |\n",
      "+----+------------+---------+--------------+\n",
      "\n",
      "26621\n",
      "Year 2021:\n",
      "+----+------------+---------+--------------+\n",
      "|    | Language   |   Count |   Percentage |\n",
      "|----+------------+---------+--------------|\n",
      "|  0 | Python     |    4579 |        17.2  |\n",
      "|  1 | TypeScript |    3215 |        12.08 |\n",
      "|  2 | JavaScript |    2327 |         8.74 |\n",
      "|  3 | Go         |    2245 |         8.43 |\n",
      "|  4 | Java       |    1994 |         7.49 |\n",
      "|  5 | C++        |    1937 |         7.28 |\n",
      "|  6 | Rust       |    1587 |         5.96 |\n",
      "|  7 | PHP        |    1301 |         4.89 |\n",
      "|  8 | C          |    1220 |         4.58 |\n",
      "|  9 | C#         |     987 |         3.71 |\n",
      "| 10 | Ruby       |     854 |         3.21 |\n",
      "| 11 | Shell      |     539 |         2.02 |\n",
      "| 12 | Kotlin     |     527 |         1.98 |\n",
      "| 13 | R          |     383 |         1.44 |\n",
      "| 14 | Scala      |     382 |         1.43 |\n",
      "| 15 | Julia      |     361 |         1.36 |\n",
      "| 16 | Other      |    2183 |         8.19 |\n",
      "+----+------------+---------+--------------+\n",
      "\n",
      "34532\n",
      "Year 2022:\n",
      "+----+------------+---------+--------------+\n",
      "|    | Language   |   Count |   Percentage |\n",
      "|----+------------+---------+--------------|\n",
      "|  0 | Python     |    5906 |        17.1  |\n",
      "|  1 | TypeScript |    4446 |        12.88 |\n",
      "|  2 | JavaScript |    3001 |         8.69 |\n",
      "|  3 | Go         |    2898 |         8.39 |\n",
      "|  4 | C++        |    2543 |         7.36 |\n",
      "|  5 | Java       |    2497 |         7.23 |\n",
      "|  6 | Rust       |    2096 |         6.07 |\n",
      "|  7 | C          |    1631 |         4.72 |\n",
      "|  8 | PHP        |    1577 |         4.57 |\n",
      "|  9 | C#         |    1306 |         3.78 |\n",
      "| 10 | Ruby       |    1047 |         3.03 |\n",
      "| 11 | Shell      |     715 |         2.07 |\n",
      "| 12 | Kotlin     |     715 |         2.07 |\n",
      "| 13 | Scala      |     449 |         1.3  |\n",
      "| 14 | R          |     434 |         1.26 |\n",
      "| 15 | Julia      |     381 |         1.1  |\n",
      "| 16 | Dart       |     345 |         1    |\n",
      "| 17 | Other      |    2545 |         7.36 |\n",
      "+----+------------+---------+--------------+\n",
      "\n",
      "40409\n",
      "Year 2023:\n",
      "+----+------------+---------+--------------+\n",
      "|    | Language   |   Count |   Percentage |\n",
      "|----+------------+---------+--------------|\n",
      "|  0 | Python     |    7016 |        17.36 |\n",
      "|  1 | TypeScript |    5433 |        13.45 |\n",
      "|  2 | JavaScript |    3433 |         8.5  |\n",
      "|  3 | Go         |    3296 |         8.16 |\n",
      "|  4 | C++        |    2965 |         7.34 |\n",
      "|  5 | Java       |    2858 |         7.07 |\n",
      "|  6 | Rust       |    2591 |         6.41 |\n",
      "|  7 | C          |    1898 |         4.7  |\n",
      "|  8 | PHP        |    1722 |         4.26 |\n",
      "|  9 | C#         |    1538 |         3.81 |\n",
      "| 10 | Ruby       |    1154 |         2.86 |\n",
      "| 11 | Kotlin     |     876 |         2.17 |\n",
      "| 12 | Shell      |     829 |         2.05 |\n",
      "| 13 | Scala      |     469 |         1.16 |\n",
      "| 14 | R          |     468 |         1.16 |\n",
      "| 15 | Dart       |     444 |         1.1  |\n",
      "| 16 | Other      |    3419 |         8.45 |\n",
      "+----+------------+---------+--------------+\n",
      "\n",
      "43325\n",
      "Year 2024:\n",
      "+----+------------+---------+--------------+\n",
      "|    | Language   |   Count |   Percentage |\n",
      "|----+------------+---------+--------------|\n",
      "|  0 | Python     |    7570 |        17.47 |\n",
      "|  1 | TypeScript |    5779 |        13.34 |\n",
      "|  2 | JavaScript |    3692 |         8.52 |\n",
      "|  3 | Go         |    3460 |         7.99 |\n",
      "|  4 | C++        |    3205 |         7.4  |\n",
      "|  5 | Java       |    3018 |         6.97 |\n",
      "|  6 | Rust       |    2744 |         6.33 |\n",
      "|  7 | C          |    2108 |         4.87 |\n",
      "|  8 | PHP        |    1867 |         4.31 |\n",
      "|  9 | C#         |    1698 |         3.92 |\n",
      "| 10 | Ruby       |    1218 |         2.81 |\n",
      "| 11 | Kotlin     |     961 |         2.22 |\n",
      "| 12 | Shell      |     885 |         2.04 |\n",
      "| 13 | R          |     485 |         1.12 |\n",
      "| 14 | Scala      |     480 |         1.11 |\n",
      "| 15 | Dart       |     465 |         1.07 |\n",
      "| 16 | Other      |    3690 |         8.51 |\n",
      "+----+------------+---------+--------------+\n",
      "\n"
     ]
    }
   ],
   "execution_count": 20
  },
  {
   "metadata": {},
   "cell_type": "markdown",
   "source": [
    "## Draw a line chart representing the evolution of the languages over the years\n",
    "\n",
    "- This plot will represent the evolution of the use of the different languages over the years.\n",
    "- The languages that are less than 1% of the total will be grouped as Others.\n",
    "- The percentage of each language will be represented on the y-axis and the year on the x-axis."
   ],
   "id": "f747633e9b39f3ee"
  },
  {
   "metadata": {
    "ExecuteTime": {
     "end_time": "2025-05-06T13:08:12.462600Z",
     "start_time": "2025-05-06T13:08:12.167007Z"
    }
   },
   "cell_type": "code",
   "source": [
    "'''\n",
    "The idea is to create a line chart using Altair.\n",
    "To do so it is needed to regroup the different dataframes into a single one with a structure of year,language,percentage\n",
    "'''\n",
    "\n",
    "data = []\n",
    "\n",
    "# The loop below will create a dictionary with the year, language and percentage for each year\n",
    "# And then append it to the data list to later create a dataframe\n",
    "for year, df in resulting_repartition:\n",
    "    for _, row in df.iterrows():\n",
    "        data.append({\n",
    "            'Year': year,\n",
    "            'Language': row['Language'],\n",
    "            'Percentage': row['Percentage']\n",
    "        })\n",
    "\n",
    "resulting_df = pd.DataFrame(data)\n",
    "resulting_df2= resulting_df[resulting_df['Language'] != 'Other'].copy()\n",
    "\n",
    "# Random color palette generated thanks to AI.\n",
    "color_palette = [\n",
    "    '#1f77b4', '#ff7f0e', '#2ca02c', '#d62728', '#9467bd',\n",
    "    '#8c564b', '#e377c2', '#7f7f7f', '#bcbd22', '#17becf',\n",
    "    '#aec7e8', '#ffbb78', '#98df8a', '#ff9896', '#c5b0d5',\n",
    "    '#c49c94', '#f7b6d2', '#c7c7c7', '#dbdb8d', '#9edae5'\n",
    "]\n",
    "\n",
    "'''\n",
    "This part is used to create the line chart with Altair\n",
    "'''\n",
    "chart = alt.Chart(resulting_df2).mark_line(point=True).encode(\n",
    "    x='Year:O',\n",
    "    y=alt.Y('Percentage:Q', scale=alt.Scale(type='log')),\n",
    "    color=alt.Color('Language:N', scale=alt.Scale(range=color_palette)),\n",
    "    tooltip=['Year', 'Language', 'Percentage']\n",
    ").properties(\n",
    "    width=800,\n",
    "    height=700,\n",
    "    title=\"Evolution of the language use over the years in GitHub repositories using GHA workflows\",\n",
    ").interactive()\n",
    "\n",
    "chart.show()"
   ],
   "id": "4fa08af9f0eb138e",
   "outputs": [
    {
     "data": {
      "text/html": [
       "\n",
       "<style>\n",
       "  #altair-viz-08ad74a26bbb4386bdcfc618ffd8b81f.vega-embed {\n",
       "    width: 100%;\n",
       "    display: flex;\n",
       "  }\n",
       "\n",
       "  #altair-viz-08ad74a26bbb4386bdcfc618ffd8b81f.vega-embed details,\n",
       "  #altair-viz-08ad74a26bbb4386bdcfc618ffd8b81f.vega-embed details summary {\n",
       "    position: relative;\n",
       "  }\n",
       "</style>\n",
       "<div id=\"altair-viz-08ad74a26bbb4386bdcfc618ffd8b81f\"></div>\n",
       "<script type=\"text/javascript\">\n",
       "  var VEGA_DEBUG = (typeof VEGA_DEBUG == \"undefined\") ? {} : VEGA_DEBUG;\n",
       "  (function(spec, embedOpt){\n",
       "    let outputDiv = document.currentScript.previousElementSibling;\n",
       "    if (outputDiv.id !== \"altair-viz-08ad74a26bbb4386bdcfc618ffd8b81f\") {\n",
       "      outputDiv = document.getElementById(\"altair-viz-08ad74a26bbb4386bdcfc618ffd8b81f\");\n",
       "    }\n",
       "\n",
       "    const paths = {\n",
       "      \"vega\": \"https://cdn.jsdelivr.net/npm/vega@5?noext\",\n",
       "      \"vega-lib\": \"https://cdn.jsdelivr.net/npm/vega-lib?noext\",\n",
       "      \"vega-lite\": \"https://cdn.jsdelivr.net/npm/vega-lite@5.20.1?noext\",\n",
       "      \"vega-embed\": \"https://cdn.jsdelivr.net/npm/vega-embed@6?noext\",\n",
       "    };\n",
       "\n",
       "    function maybeLoadScript(lib, version) {\n",
       "      var key = `${lib.replace(\"-\", \"\")}_version`;\n",
       "      return (VEGA_DEBUG[key] == version) ?\n",
       "        Promise.resolve(paths[lib]) :\n",
       "        new Promise(function(resolve, reject) {\n",
       "          var s = document.createElement('script');\n",
       "          document.getElementsByTagName(\"head\")[0].appendChild(s);\n",
       "          s.async = true;\n",
       "          s.onload = () => {\n",
       "            VEGA_DEBUG[key] = version;\n",
       "            return resolve(paths[lib]);\n",
       "          };\n",
       "          s.onerror = () => reject(`Error loading script: ${paths[lib]}`);\n",
       "          s.src = paths[lib];\n",
       "        });\n",
       "    }\n",
       "\n",
       "    function showError(err) {\n",
       "      outputDiv.innerHTML = `<div class=\"error\" style=\"color:red;\">${err}</div>`;\n",
       "      throw err;\n",
       "    }\n",
       "\n",
       "    function displayChart(vegaEmbed) {\n",
       "      vegaEmbed(outputDiv, spec, embedOpt)\n",
       "        .catch(err => showError(`Javascript Error: ${err.message}<br>This usually means there's a typo in your chart specification. See the javascript console for the full traceback.`));\n",
       "    }\n",
       "\n",
       "    if(typeof define === \"function\" && define.amd) {\n",
       "      requirejs.config({paths});\n",
       "      let deps = [\"vega-embed\"];\n",
       "      require(deps, displayChart, err => showError(`Error loading script: ${err.message}`));\n",
       "    } else {\n",
       "      maybeLoadScript(\"vega\", \"5\")\n",
       "        .then(() => maybeLoadScript(\"vega-lite\", \"5.20.1\"))\n",
       "        .then(() => maybeLoadScript(\"vega-embed\", \"6\"))\n",
       "        .catch(showError)\n",
       "        .then(() => displayChart(vegaEmbed));\n",
       "    }\n",
       "  })({\"config\": {\"view\": {\"continuousWidth\": 300, \"continuousHeight\": 300}}, \"data\": {\"name\": \"data-ac7bb9d969d729d8af31a5b62fab3886\"}, \"mark\": {\"type\": \"line\", \"point\": true}, \"encoding\": {\"color\": {\"field\": \"Language\", \"scale\": {\"range\": [\"#1f77b4\", \"#ff7f0e\", \"#2ca02c\", \"#d62728\", \"#9467bd\", \"#8c564b\", \"#e377c2\", \"#7f7f7f\", \"#bcbd22\", \"#17becf\", \"#aec7e8\", \"#ffbb78\", \"#98df8a\", \"#ff9896\", \"#c5b0d5\", \"#c49c94\", \"#f7b6d2\", \"#c7c7c7\", \"#dbdb8d\", \"#9edae5\"]}, \"type\": \"nominal\"}, \"tooltip\": [{\"field\": \"Year\", \"type\": \"quantitative\"}, {\"field\": \"Language\", \"type\": \"nominal\"}, {\"field\": \"Percentage\", \"type\": \"quantitative\"}], \"x\": {\"field\": \"Year\", \"type\": \"ordinal\"}, \"y\": {\"field\": \"Percentage\", \"scale\": {\"type\": \"log\"}, \"type\": \"quantitative\"}}, \"height\": 700, \"params\": [{\"name\": \"param_1\", \"select\": {\"type\": \"interval\", \"encodings\": [\"x\", \"y\"]}, \"bind\": \"scales\"}], \"title\": \"Evolution of the language use over the years in GitHub repositories using GHA workflows\", \"width\": 800, \"$schema\": \"https://vega.github.io/schema/vega-lite/v5.20.1.json\", \"datasets\": {\"data-ac7bb9d969d729d8af31a5b62fab3886\": [{\"Year\": 2019, \"Language\": \"TypeScript\", \"Percentage\": 18.51}, {\"Year\": 2019, \"Language\": \"Go\", \"Percentage\": 11.14}, {\"Year\": 2019, \"Language\": \"JavaScript\", \"Percentage\": 10.26}, {\"Year\": 2019, \"Language\": \"Python\", \"Percentage\": 10.1}, {\"Year\": 2019, \"Language\": \"Java\", \"Percentage\": 7.69}, {\"Year\": 2019, \"Language\": \"Rust\", \"Percentage\": 7.45}, {\"Year\": 2019, \"Language\": \"C++\", \"Percentage\": 5.21}, {\"Year\": 2019, \"Language\": \"Ruby\", \"Percentage\": 4.97}, {\"Year\": 2019, \"Language\": \"PHP\", \"Percentage\": 4.41}, {\"Year\": 2019, \"Language\": \"C\", \"Percentage\": 3.69}, {\"Year\": 2019, \"Language\": \"C#\", \"Percentage\": 3.45}, {\"Year\": 2019, \"Language\": \"Kotlin\", \"Percentage\": 2.24}, {\"Year\": 2019, \"Language\": \"Shell\", \"Percentage\": 2.16}, {\"Year\": 2019, \"Language\": \"Swift\", \"Percentage\": 1.76}, {\"Year\": 2020, \"Language\": \"Python\", \"Percentage\": 15.34}, {\"Year\": 2020, \"Language\": \"TypeScript\", \"Percentage\": 12.79}, {\"Year\": 2020, \"Language\": \"Go\", \"Percentage\": 8.81}, {\"Year\": 2020, \"Language\": \"JavaScript\", \"Percentage\": 8.71}, {\"Year\": 2020, \"Language\": \"Java\", \"Percentage\": 7.58}, {\"Year\": 2020, \"Language\": \"C++\", \"Percentage\": 6.85}, {\"Year\": 2020, \"Language\": \"Rust\", \"Percentage\": 6.74}, {\"Year\": 2020, \"Language\": \"PHP\", \"Percentage\": 4.68}, {\"Year\": 2020, \"Language\": \"C#\", \"Percentage\": 4.11}, {\"Year\": 2020, \"Language\": \"C\", \"Percentage\": 4.02}, {\"Year\": 2020, \"Language\": \"Ruby\", \"Percentage\": 2.84}, {\"Year\": 2020, \"Language\": \"Julia\", \"Percentage\": 2.41}, {\"Year\": 2020, \"Language\": \"Kotlin\", \"Percentage\": 2.23}, {\"Year\": 2020, \"Language\": \"Shell\", \"Percentage\": 2.2}, {\"Year\": 2020, \"Language\": \"R\", \"Percentage\": 1.7}, {\"Year\": 2020, \"Language\": \"Scala\", \"Percentage\": 1.17}, {\"Year\": 2020, \"Language\": \"Swift\", \"Percentage\": 1.11}, {\"Year\": 2021, \"Language\": \"Python\", \"Percentage\": 17.2}, {\"Year\": 2021, \"Language\": \"TypeScript\", \"Percentage\": 12.08}, {\"Year\": 2021, \"Language\": \"JavaScript\", \"Percentage\": 8.74}, {\"Year\": 2021, \"Language\": \"Go\", \"Percentage\": 8.43}, {\"Year\": 2021, \"Language\": \"Java\", \"Percentage\": 7.49}, {\"Year\": 2021, \"Language\": \"C++\", \"Percentage\": 7.28}, {\"Year\": 2021, \"Language\": \"Rust\", \"Percentage\": 5.96}, {\"Year\": 2021, \"Language\": \"PHP\", \"Percentage\": 4.89}, {\"Year\": 2021, \"Language\": \"C\", \"Percentage\": 4.58}, {\"Year\": 2021, \"Language\": \"C#\", \"Percentage\": 3.71}, {\"Year\": 2021, \"Language\": \"Ruby\", \"Percentage\": 3.21}, {\"Year\": 2021, \"Language\": \"Shell\", \"Percentage\": 2.02}, {\"Year\": 2021, \"Language\": \"Kotlin\", \"Percentage\": 1.98}, {\"Year\": 2021, \"Language\": \"R\", \"Percentage\": 1.44}, {\"Year\": 2021, \"Language\": \"Scala\", \"Percentage\": 1.43}, {\"Year\": 2021, \"Language\": \"Julia\", \"Percentage\": 1.36}, {\"Year\": 2022, \"Language\": \"Python\", \"Percentage\": 17.1}, {\"Year\": 2022, \"Language\": \"TypeScript\", \"Percentage\": 12.88}, {\"Year\": 2022, \"Language\": \"JavaScript\", \"Percentage\": 8.69}, {\"Year\": 2022, \"Language\": \"Go\", \"Percentage\": 8.39}, {\"Year\": 2022, \"Language\": \"C++\", \"Percentage\": 7.36}, {\"Year\": 2022, \"Language\": \"Java\", \"Percentage\": 7.23}, {\"Year\": 2022, \"Language\": \"Rust\", \"Percentage\": 6.07}, {\"Year\": 2022, \"Language\": \"C\", \"Percentage\": 4.72}, {\"Year\": 2022, \"Language\": \"PHP\", \"Percentage\": 4.57}, {\"Year\": 2022, \"Language\": \"C#\", \"Percentage\": 3.78}, {\"Year\": 2022, \"Language\": \"Ruby\", \"Percentage\": 3.03}, {\"Year\": 2022, \"Language\": \"Shell\", \"Percentage\": 2.07}, {\"Year\": 2022, \"Language\": \"Kotlin\", \"Percentage\": 2.07}, {\"Year\": 2022, \"Language\": \"Scala\", \"Percentage\": 1.3}, {\"Year\": 2022, \"Language\": \"R\", \"Percentage\": 1.26}, {\"Year\": 2022, \"Language\": \"Julia\", \"Percentage\": 1.1}, {\"Year\": 2022, \"Language\": \"Dart\", \"Percentage\": 1.0}, {\"Year\": 2023, \"Language\": \"Python\", \"Percentage\": 17.36}, {\"Year\": 2023, \"Language\": \"TypeScript\", \"Percentage\": 13.45}, {\"Year\": 2023, \"Language\": \"JavaScript\", \"Percentage\": 8.5}, {\"Year\": 2023, \"Language\": \"Go\", \"Percentage\": 8.16}, {\"Year\": 2023, \"Language\": \"C++\", \"Percentage\": 7.34}, {\"Year\": 2023, \"Language\": \"Java\", \"Percentage\": 7.07}, {\"Year\": 2023, \"Language\": \"Rust\", \"Percentage\": 6.41}, {\"Year\": 2023, \"Language\": \"C\", \"Percentage\": 4.7}, {\"Year\": 2023, \"Language\": \"PHP\", \"Percentage\": 4.26}, {\"Year\": 2023, \"Language\": \"C#\", \"Percentage\": 3.81}, {\"Year\": 2023, \"Language\": \"Ruby\", \"Percentage\": 2.86}, {\"Year\": 2023, \"Language\": \"Kotlin\", \"Percentage\": 2.17}, {\"Year\": 2023, \"Language\": \"Shell\", \"Percentage\": 2.05}, {\"Year\": 2023, \"Language\": \"Scala\", \"Percentage\": 1.16}, {\"Year\": 2023, \"Language\": \"R\", \"Percentage\": 1.16}, {\"Year\": 2023, \"Language\": \"Dart\", \"Percentage\": 1.1}, {\"Year\": 2024, \"Language\": \"Python\", \"Percentage\": 17.47}, {\"Year\": 2024, \"Language\": \"TypeScript\", \"Percentage\": 13.34}, {\"Year\": 2024, \"Language\": \"JavaScript\", \"Percentage\": 8.52}, {\"Year\": 2024, \"Language\": \"Go\", \"Percentage\": 7.99}, {\"Year\": 2024, \"Language\": \"C++\", \"Percentage\": 7.4}, {\"Year\": 2024, \"Language\": \"Java\", \"Percentage\": 6.97}, {\"Year\": 2024, \"Language\": \"Rust\", \"Percentage\": 6.33}, {\"Year\": 2024, \"Language\": \"C\", \"Percentage\": 4.87}, {\"Year\": 2024, \"Language\": \"PHP\", \"Percentage\": 4.31}, {\"Year\": 2024, \"Language\": \"C#\", \"Percentage\": 3.92}, {\"Year\": 2024, \"Language\": \"Ruby\", \"Percentage\": 2.81}, {\"Year\": 2024, \"Language\": \"Kotlin\", \"Percentage\": 2.22}, {\"Year\": 2024, \"Language\": \"Shell\", \"Percentage\": 2.04}, {\"Year\": 2024, \"Language\": \"R\", \"Percentage\": 1.12}, {\"Year\": 2024, \"Language\": \"Scala\", \"Percentage\": 1.11}, {\"Year\": 2024, \"Language\": \"Dart\", \"Percentage\": 1.07}]}}, {\"mode\": \"vega-lite\"});\n",
       "</script>"
      ],
      "text/plain": [
       "alt.Chart(...)"
      ]
     },
     "metadata": {},
     "output_type": "display_data"
    }
   ],
   "execution_count": 21
  },
  {
   "metadata": {},
   "cell_type": "markdown",
   "source": "## Draw a pie chart for each year",
   "id": "f203cb83a127cd5b"
  },
  {
   "metadata": {
    "ExecuteTime": {
     "end_time": "2025-05-06T13:10:35.528771Z",
     "start_time": "2025-05-06T13:10:35.446976Z"
    }
   },
   "cell_type": "code",
   "source": [
    "years = resulting_df['Year'].unique()\n",
    "years.sort()\n",
    "pie_charts = []\n",
    "for year in years:\n",
    "    pie_charts.append(pie_chart_by_year(resulting_df, year))\n",
    "\n",
    "[chart.show() for chart in pie_charts]"
   ],
   "id": "243824aa99d62970",
   "outputs": [
    {
     "data": {
      "text/html": [
       "\n",
       "<style>\n",
       "  #altair-viz-d562e93d49b140beabac3295888d306e.vega-embed {\n",
       "    width: 100%;\n",
       "    display: flex;\n",
       "  }\n",
       "\n",
       "  #altair-viz-d562e93d49b140beabac3295888d306e.vega-embed details,\n",
       "  #altair-viz-d562e93d49b140beabac3295888d306e.vega-embed details summary {\n",
       "    position: relative;\n",
       "  }\n",
       "</style>\n",
       "<div id=\"altair-viz-d562e93d49b140beabac3295888d306e\"></div>\n",
       "<script type=\"text/javascript\">\n",
       "  var VEGA_DEBUG = (typeof VEGA_DEBUG == \"undefined\") ? {} : VEGA_DEBUG;\n",
       "  (function(spec, embedOpt){\n",
       "    let outputDiv = document.currentScript.previousElementSibling;\n",
       "    if (outputDiv.id !== \"altair-viz-d562e93d49b140beabac3295888d306e\") {\n",
       "      outputDiv = document.getElementById(\"altair-viz-d562e93d49b140beabac3295888d306e\");\n",
       "    }\n",
       "\n",
       "    const paths = {\n",
       "      \"vega\": \"https://cdn.jsdelivr.net/npm/vega@5?noext\",\n",
       "      \"vega-lib\": \"https://cdn.jsdelivr.net/npm/vega-lib?noext\",\n",
       "      \"vega-lite\": \"https://cdn.jsdelivr.net/npm/vega-lite@5.20.1?noext\",\n",
       "      \"vega-embed\": \"https://cdn.jsdelivr.net/npm/vega-embed@6?noext\",\n",
       "    };\n",
       "\n",
       "    function maybeLoadScript(lib, version) {\n",
       "      var key = `${lib.replace(\"-\", \"\")}_version`;\n",
       "      return (VEGA_DEBUG[key] == version) ?\n",
       "        Promise.resolve(paths[lib]) :\n",
       "        new Promise(function(resolve, reject) {\n",
       "          var s = document.createElement('script');\n",
       "          document.getElementsByTagName(\"head\")[0].appendChild(s);\n",
       "          s.async = true;\n",
       "          s.onload = () => {\n",
       "            VEGA_DEBUG[key] = version;\n",
       "            return resolve(paths[lib]);\n",
       "          };\n",
       "          s.onerror = () => reject(`Error loading script: ${paths[lib]}`);\n",
       "          s.src = paths[lib];\n",
       "        });\n",
       "    }\n",
       "\n",
       "    function showError(err) {\n",
       "      outputDiv.innerHTML = `<div class=\"error\" style=\"color:red;\">${err}</div>`;\n",
       "      throw err;\n",
       "    }\n",
       "\n",
       "    function displayChart(vegaEmbed) {\n",
       "      vegaEmbed(outputDiv, spec, embedOpt)\n",
       "        .catch(err => showError(`Javascript Error: ${err.message}<br>This usually means there's a typo in your chart specification. See the javascript console for the full traceback.`));\n",
       "    }\n",
       "\n",
       "    if(typeof define === \"function\" && define.amd) {\n",
       "      requirejs.config({paths});\n",
       "      let deps = [\"vega-embed\"];\n",
       "      require(deps, displayChart, err => showError(`Error loading script: ${err.message}`));\n",
       "    } else {\n",
       "      maybeLoadScript(\"vega\", \"5\")\n",
       "        .then(() => maybeLoadScript(\"vega-lite\", \"5.20.1\"))\n",
       "        .then(() => maybeLoadScript(\"vega-embed\", \"6\"))\n",
       "        .catch(showError)\n",
       "        .then(() => displayChart(vegaEmbed));\n",
       "    }\n",
       "  })({\"config\": {\"view\": {\"continuousWidth\": 300, \"continuousHeight\": 300}}, \"data\": {\"name\": \"data-19e5efe7c516bbc65791d6b7b811fe5a\"}, \"mark\": {\"type\": \"arc\"}, \"encoding\": {\"color\": {\"field\": \"Language\", \"scale\": {\"range\": [\"#1f77b4\", \"#ff7f0e\", \"#2ca02c\", \"#d62728\", \"#9467bd\", \"#8c564b\", \"#e377c2\", \"#7f7f7f\", \"#bcbd22\", \"#17becf\", \"#aec7e8\", \"#ffbb78\", \"#98df8a\", \"#ff9896\", \"#c5b0d5\", \"#c49c94\", \"#f7b6d2\", \"#c7c7c7\", \"#dbdb8d\", \"#9edae5\"]}, \"sort\": {\"field\": \"Percentage\", \"order\": \"descending\"}, \"type\": \"nominal\"}, \"theta\": {\"field\": \"Percentage\", \"type\": \"quantitative\"}, \"tooltip\": [{\"field\": \"Language\", \"type\": \"nominal\"}, {\"field\": \"Percentage\", \"type\": \"quantitative\"}]}, \"height\": 400, \"title\": \"Language distribution in 2019\", \"width\": 400, \"$schema\": \"https://vega.github.io/schema/vega-lite/v5.20.1.json\", \"datasets\": {\"data-19e5efe7c516bbc65791d6b7b811fe5a\": [{\"Year\": 2019, \"Language\": \"TypeScript\", \"Percentage\": 18.51}, {\"Year\": 2019, \"Language\": \"Go\", \"Percentage\": 11.14}, {\"Year\": 2019, \"Language\": \"JavaScript\", \"Percentage\": 10.26}, {\"Year\": 2019, \"Language\": \"Python\", \"Percentage\": 10.1}, {\"Year\": 2019, \"Language\": \"Java\", \"Percentage\": 7.69}, {\"Year\": 2019, \"Language\": \"Rust\", \"Percentage\": 7.45}, {\"Year\": 2019, \"Language\": \"C++\", \"Percentage\": 5.21}, {\"Year\": 2019, \"Language\": \"Ruby\", \"Percentage\": 4.97}, {\"Year\": 2019, \"Language\": \"PHP\", \"Percentage\": 4.41}, {\"Year\": 2019, \"Language\": \"C\", \"Percentage\": 3.69}, {\"Year\": 2019, \"Language\": \"C#\", \"Percentage\": 3.45}, {\"Year\": 2019, \"Language\": \"Kotlin\", \"Percentage\": 2.24}, {\"Year\": 2019, \"Language\": \"Shell\", \"Percentage\": 2.16}, {\"Year\": 2019, \"Language\": \"Swift\", \"Percentage\": 1.76}, {\"Year\": 2019, \"Language\": \"Other\", \"Percentage\": 6.959999999999999}]}}, {\"mode\": \"vega-lite\"});\n",
       "</script>"
      ],
      "text/plain": [
       "alt.Chart(...)"
      ]
     },
     "metadata": {},
     "output_type": "display_data"
    },
    {
     "data": {
      "text/html": [
       "\n",
       "<style>\n",
       "  #altair-viz-bb8838f02bf849c2a7dc6d18405d3432.vega-embed {\n",
       "    width: 100%;\n",
       "    display: flex;\n",
       "  }\n",
       "\n",
       "  #altair-viz-bb8838f02bf849c2a7dc6d18405d3432.vega-embed details,\n",
       "  #altair-viz-bb8838f02bf849c2a7dc6d18405d3432.vega-embed details summary {\n",
       "    position: relative;\n",
       "  }\n",
       "</style>\n",
       "<div id=\"altair-viz-bb8838f02bf849c2a7dc6d18405d3432\"></div>\n",
       "<script type=\"text/javascript\">\n",
       "  var VEGA_DEBUG = (typeof VEGA_DEBUG == \"undefined\") ? {} : VEGA_DEBUG;\n",
       "  (function(spec, embedOpt){\n",
       "    let outputDiv = document.currentScript.previousElementSibling;\n",
       "    if (outputDiv.id !== \"altair-viz-bb8838f02bf849c2a7dc6d18405d3432\") {\n",
       "      outputDiv = document.getElementById(\"altair-viz-bb8838f02bf849c2a7dc6d18405d3432\");\n",
       "    }\n",
       "\n",
       "    const paths = {\n",
       "      \"vega\": \"https://cdn.jsdelivr.net/npm/vega@5?noext\",\n",
       "      \"vega-lib\": \"https://cdn.jsdelivr.net/npm/vega-lib?noext\",\n",
       "      \"vega-lite\": \"https://cdn.jsdelivr.net/npm/vega-lite@5.20.1?noext\",\n",
       "      \"vega-embed\": \"https://cdn.jsdelivr.net/npm/vega-embed@6?noext\",\n",
       "    };\n",
       "\n",
       "    function maybeLoadScript(lib, version) {\n",
       "      var key = `${lib.replace(\"-\", \"\")}_version`;\n",
       "      return (VEGA_DEBUG[key] == version) ?\n",
       "        Promise.resolve(paths[lib]) :\n",
       "        new Promise(function(resolve, reject) {\n",
       "          var s = document.createElement('script');\n",
       "          document.getElementsByTagName(\"head\")[0].appendChild(s);\n",
       "          s.async = true;\n",
       "          s.onload = () => {\n",
       "            VEGA_DEBUG[key] = version;\n",
       "            return resolve(paths[lib]);\n",
       "          };\n",
       "          s.onerror = () => reject(`Error loading script: ${paths[lib]}`);\n",
       "          s.src = paths[lib];\n",
       "        });\n",
       "    }\n",
       "\n",
       "    function showError(err) {\n",
       "      outputDiv.innerHTML = `<div class=\"error\" style=\"color:red;\">${err}</div>`;\n",
       "      throw err;\n",
       "    }\n",
       "\n",
       "    function displayChart(vegaEmbed) {\n",
       "      vegaEmbed(outputDiv, spec, embedOpt)\n",
       "        .catch(err => showError(`Javascript Error: ${err.message}<br>This usually means there's a typo in your chart specification. See the javascript console for the full traceback.`));\n",
       "    }\n",
       "\n",
       "    if(typeof define === \"function\" && define.amd) {\n",
       "      requirejs.config({paths});\n",
       "      let deps = [\"vega-embed\"];\n",
       "      require(deps, displayChart, err => showError(`Error loading script: ${err.message}`));\n",
       "    } else {\n",
       "      maybeLoadScript(\"vega\", \"5\")\n",
       "        .then(() => maybeLoadScript(\"vega-lite\", \"5.20.1\"))\n",
       "        .then(() => maybeLoadScript(\"vega-embed\", \"6\"))\n",
       "        .catch(showError)\n",
       "        .then(() => displayChart(vegaEmbed));\n",
       "    }\n",
       "  })({\"config\": {\"view\": {\"continuousWidth\": 300, \"continuousHeight\": 300}}, \"data\": {\"name\": \"data-b11362ee4e17676a1ad424d5f71ccc87\"}, \"mark\": {\"type\": \"arc\"}, \"encoding\": {\"color\": {\"field\": \"Language\", \"scale\": {\"range\": [\"#1f77b4\", \"#ff7f0e\", \"#2ca02c\", \"#d62728\", \"#9467bd\", \"#8c564b\", \"#e377c2\", \"#7f7f7f\", \"#bcbd22\", \"#17becf\", \"#aec7e8\", \"#ffbb78\", \"#98df8a\", \"#ff9896\", \"#c5b0d5\", \"#c49c94\", \"#f7b6d2\", \"#c7c7c7\", \"#dbdb8d\", \"#9edae5\"]}, \"sort\": {\"field\": \"Percentage\", \"order\": \"descending\"}, \"type\": \"nominal\"}, \"theta\": {\"field\": \"Percentage\", \"type\": \"quantitative\"}, \"tooltip\": [{\"field\": \"Language\", \"type\": \"nominal\"}, {\"field\": \"Percentage\", \"type\": \"quantitative\"}]}, \"height\": 400, \"title\": \"Language distribution in 2020\", \"width\": 400, \"$schema\": \"https://vega.github.io/schema/vega-lite/v5.20.1.json\", \"datasets\": {\"data-b11362ee4e17676a1ad424d5f71ccc87\": [{\"Year\": 2020, \"Language\": \"Python\", \"Percentage\": 15.34}, {\"Year\": 2020, \"Language\": \"TypeScript\", \"Percentage\": 12.79}, {\"Year\": 2020, \"Language\": \"Go\", \"Percentage\": 8.81}, {\"Year\": 2020, \"Language\": \"JavaScript\", \"Percentage\": 8.71}, {\"Year\": 2020, \"Language\": \"Java\", \"Percentage\": 7.58}, {\"Year\": 2020, \"Language\": \"C++\", \"Percentage\": 6.85}, {\"Year\": 2020, \"Language\": \"Rust\", \"Percentage\": 6.74}, {\"Year\": 2020, \"Language\": \"PHP\", \"Percentage\": 4.68}, {\"Year\": 2020, \"Language\": \"C#\", \"Percentage\": 4.11}, {\"Year\": 2020, \"Language\": \"C\", \"Percentage\": 4.02}, {\"Year\": 2020, \"Language\": \"Ruby\", \"Percentage\": 2.84}, {\"Year\": 2020, \"Language\": \"Julia\", \"Percentage\": 2.41}, {\"Year\": 2020, \"Language\": \"Kotlin\", \"Percentage\": 2.23}, {\"Year\": 2020, \"Language\": \"Shell\", \"Percentage\": 2.2}, {\"Year\": 2020, \"Language\": \"R\", \"Percentage\": 1.7}, {\"Year\": 2020, \"Language\": \"Scala\", \"Percentage\": 1.17}, {\"Year\": 2020, \"Language\": \"Swift\", \"Percentage\": 1.11}, {\"Year\": 2020, \"Language\": \"Other\", \"Percentage\": 6.719999999999999}]}}, {\"mode\": \"vega-lite\"});\n",
       "</script>"
      ],
      "text/plain": [
       "alt.Chart(...)"
      ]
     },
     "metadata": {},
     "output_type": "display_data"
    },
    {
     "data": {
      "text/html": [
       "\n",
       "<style>\n",
       "  #altair-viz-bf1c5ddf856b43fca115743e42935262.vega-embed {\n",
       "    width: 100%;\n",
       "    display: flex;\n",
       "  }\n",
       "\n",
       "  #altair-viz-bf1c5ddf856b43fca115743e42935262.vega-embed details,\n",
       "  #altair-viz-bf1c5ddf856b43fca115743e42935262.vega-embed details summary {\n",
       "    position: relative;\n",
       "  }\n",
       "</style>\n",
       "<div id=\"altair-viz-bf1c5ddf856b43fca115743e42935262\"></div>\n",
       "<script type=\"text/javascript\">\n",
       "  var VEGA_DEBUG = (typeof VEGA_DEBUG == \"undefined\") ? {} : VEGA_DEBUG;\n",
       "  (function(spec, embedOpt){\n",
       "    let outputDiv = document.currentScript.previousElementSibling;\n",
       "    if (outputDiv.id !== \"altair-viz-bf1c5ddf856b43fca115743e42935262\") {\n",
       "      outputDiv = document.getElementById(\"altair-viz-bf1c5ddf856b43fca115743e42935262\");\n",
       "    }\n",
       "\n",
       "    const paths = {\n",
       "      \"vega\": \"https://cdn.jsdelivr.net/npm/vega@5?noext\",\n",
       "      \"vega-lib\": \"https://cdn.jsdelivr.net/npm/vega-lib?noext\",\n",
       "      \"vega-lite\": \"https://cdn.jsdelivr.net/npm/vega-lite@5.20.1?noext\",\n",
       "      \"vega-embed\": \"https://cdn.jsdelivr.net/npm/vega-embed@6?noext\",\n",
       "    };\n",
       "\n",
       "    function maybeLoadScript(lib, version) {\n",
       "      var key = `${lib.replace(\"-\", \"\")}_version`;\n",
       "      return (VEGA_DEBUG[key] == version) ?\n",
       "        Promise.resolve(paths[lib]) :\n",
       "        new Promise(function(resolve, reject) {\n",
       "          var s = document.createElement('script');\n",
       "          document.getElementsByTagName(\"head\")[0].appendChild(s);\n",
       "          s.async = true;\n",
       "          s.onload = () => {\n",
       "            VEGA_DEBUG[key] = version;\n",
       "            return resolve(paths[lib]);\n",
       "          };\n",
       "          s.onerror = () => reject(`Error loading script: ${paths[lib]}`);\n",
       "          s.src = paths[lib];\n",
       "        });\n",
       "    }\n",
       "\n",
       "    function showError(err) {\n",
       "      outputDiv.innerHTML = `<div class=\"error\" style=\"color:red;\">${err}</div>`;\n",
       "      throw err;\n",
       "    }\n",
       "\n",
       "    function displayChart(vegaEmbed) {\n",
       "      vegaEmbed(outputDiv, spec, embedOpt)\n",
       "        .catch(err => showError(`Javascript Error: ${err.message}<br>This usually means there's a typo in your chart specification. See the javascript console for the full traceback.`));\n",
       "    }\n",
       "\n",
       "    if(typeof define === \"function\" && define.amd) {\n",
       "      requirejs.config({paths});\n",
       "      let deps = [\"vega-embed\"];\n",
       "      require(deps, displayChart, err => showError(`Error loading script: ${err.message}`));\n",
       "    } else {\n",
       "      maybeLoadScript(\"vega\", \"5\")\n",
       "        .then(() => maybeLoadScript(\"vega-lite\", \"5.20.1\"))\n",
       "        .then(() => maybeLoadScript(\"vega-embed\", \"6\"))\n",
       "        .catch(showError)\n",
       "        .then(() => displayChart(vegaEmbed));\n",
       "    }\n",
       "  })({\"config\": {\"view\": {\"continuousWidth\": 300, \"continuousHeight\": 300}}, \"data\": {\"name\": \"data-956fedfaaa193eb7e4fa4456020e058c\"}, \"mark\": {\"type\": \"arc\"}, \"encoding\": {\"color\": {\"field\": \"Language\", \"scale\": {\"range\": [\"#1f77b4\", \"#ff7f0e\", \"#2ca02c\", \"#d62728\", \"#9467bd\", \"#8c564b\", \"#e377c2\", \"#7f7f7f\", \"#bcbd22\", \"#17becf\", \"#aec7e8\", \"#ffbb78\", \"#98df8a\", \"#ff9896\", \"#c5b0d5\", \"#c49c94\", \"#f7b6d2\", \"#c7c7c7\", \"#dbdb8d\", \"#9edae5\"]}, \"sort\": {\"field\": \"Percentage\", \"order\": \"descending\"}, \"type\": \"nominal\"}, \"theta\": {\"field\": \"Percentage\", \"type\": \"quantitative\"}, \"tooltip\": [{\"field\": \"Language\", \"type\": \"nominal\"}, {\"field\": \"Percentage\", \"type\": \"quantitative\"}]}, \"height\": 400, \"title\": \"Language distribution in 2021\", \"width\": 400, \"$schema\": \"https://vega.github.io/schema/vega-lite/v5.20.1.json\", \"datasets\": {\"data-956fedfaaa193eb7e4fa4456020e058c\": [{\"Year\": 2021, \"Language\": \"Python\", \"Percentage\": 17.2}, {\"Year\": 2021, \"Language\": \"TypeScript\", \"Percentage\": 12.08}, {\"Year\": 2021, \"Language\": \"JavaScript\", \"Percentage\": 8.74}, {\"Year\": 2021, \"Language\": \"Go\", \"Percentage\": 8.43}, {\"Year\": 2021, \"Language\": \"Java\", \"Percentage\": 7.49}, {\"Year\": 2021, \"Language\": \"C++\", \"Percentage\": 7.28}, {\"Year\": 2021, \"Language\": \"Rust\", \"Percentage\": 5.96}, {\"Year\": 2021, \"Language\": \"PHP\", \"Percentage\": 4.89}, {\"Year\": 2021, \"Language\": \"C\", \"Percentage\": 4.58}, {\"Year\": 2021, \"Language\": \"C#\", \"Percentage\": 3.71}, {\"Year\": 2021, \"Language\": \"Ruby\", \"Percentage\": 3.21}, {\"Year\": 2021, \"Language\": \"Shell\", \"Percentage\": 2.02}, {\"Year\": 2021, \"Language\": \"Kotlin\", \"Percentage\": 1.98}, {\"Year\": 2021, \"Language\": \"R\", \"Percentage\": 1.44}, {\"Year\": 2021, \"Language\": \"Scala\", \"Percentage\": 1.43}, {\"Year\": 2021, \"Language\": \"Julia\", \"Percentage\": 1.36}, {\"Year\": 2021, \"Language\": \"Other\", \"Percentage\": 8.189999999999998}]}}, {\"mode\": \"vega-lite\"});\n",
       "</script>"
      ],
      "text/plain": [
       "alt.Chart(...)"
      ]
     },
     "metadata": {},
     "output_type": "display_data"
    },
    {
     "data": {
      "text/html": [
       "\n",
       "<style>\n",
       "  #altair-viz-7e3e232ff9bf43bfaf2c8b358a8e6b20.vega-embed {\n",
       "    width: 100%;\n",
       "    display: flex;\n",
       "  }\n",
       "\n",
       "  #altair-viz-7e3e232ff9bf43bfaf2c8b358a8e6b20.vega-embed details,\n",
       "  #altair-viz-7e3e232ff9bf43bfaf2c8b358a8e6b20.vega-embed details summary {\n",
       "    position: relative;\n",
       "  }\n",
       "</style>\n",
       "<div id=\"altair-viz-7e3e232ff9bf43bfaf2c8b358a8e6b20\"></div>\n",
       "<script type=\"text/javascript\">\n",
       "  var VEGA_DEBUG = (typeof VEGA_DEBUG == \"undefined\") ? {} : VEGA_DEBUG;\n",
       "  (function(spec, embedOpt){\n",
       "    let outputDiv = document.currentScript.previousElementSibling;\n",
       "    if (outputDiv.id !== \"altair-viz-7e3e232ff9bf43bfaf2c8b358a8e6b20\") {\n",
       "      outputDiv = document.getElementById(\"altair-viz-7e3e232ff9bf43bfaf2c8b358a8e6b20\");\n",
       "    }\n",
       "\n",
       "    const paths = {\n",
       "      \"vega\": \"https://cdn.jsdelivr.net/npm/vega@5?noext\",\n",
       "      \"vega-lib\": \"https://cdn.jsdelivr.net/npm/vega-lib?noext\",\n",
       "      \"vega-lite\": \"https://cdn.jsdelivr.net/npm/vega-lite@5.20.1?noext\",\n",
       "      \"vega-embed\": \"https://cdn.jsdelivr.net/npm/vega-embed@6?noext\",\n",
       "    };\n",
       "\n",
       "    function maybeLoadScript(lib, version) {\n",
       "      var key = `${lib.replace(\"-\", \"\")}_version`;\n",
       "      return (VEGA_DEBUG[key] == version) ?\n",
       "        Promise.resolve(paths[lib]) :\n",
       "        new Promise(function(resolve, reject) {\n",
       "          var s = document.createElement('script');\n",
       "          document.getElementsByTagName(\"head\")[0].appendChild(s);\n",
       "          s.async = true;\n",
       "          s.onload = () => {\n",
       "            VEGA_DEBUG[key] = version;\n",
       "            return resolve(paths[lib]);\n",
       "          };\n",
       "          s.onerror = () => reject(`Error loading script: ${paths[lib]}`);\n",
       "          s.src = paths[lib];\n",
       "        });\n",
       "    }\n",
       "\n",
       "    function showError(err) {\n",
       "      outputDiv.innerHTML = `<div class=\"error\" style=\"color:red;\">${err}</div>`;\n",
       "      throw err;\n",
       "    }\n",
       "\n",
       "    function displayChart(vegaEmbed) {\n",
       "      vegaEmbed(outputDiv, spec, embedOpt)\n",
       "        .catch(err => showError(`Javascript Error: ${err.message}<br>This usually means there's a typo in your chart specification. See the javascript console for the full traceback.`));\n",
       "    }\n",
       "\n",
       "    if(typeof define === \"function\" && define.amd) {\n",
       "      requirejs.config({paths});\n",
       "      let deps = [\"vega-embed\"];\n",
       "      require(deps, displayChart, err => showError(`Error loading script: ${err.message}`));\n",
       "    } else {\n",
       "      maybeLoadScript(\"vega\", \"5\")\n",
       "        .then(() => maybeLoadScript(\"vega-lite\", \"5.20.1\"))\n",
       "        .then(() => maybeLoadScript(\"vega-embed\", \"6\"))\n",
       "        .catch(showError)\n",
       "        .then(() => displayChart(vegaEmbed));\n",
       "    }\n",
       "  })({\"config\": {\"view\": {\"continuousWidth\": 300, \"continuousHeight\": 300}}, \"data\": {\"name\": \"data-4088e44f0b3533e611bade48e9c84dd8\"}, \"mark\": {\"type\": \"arc\"}, \"encoding\": {\"color\": {\"field\": \"Language\", \"scale\": {\"range\": [\"#1f77b4\", \"#ff7f0e\", \"#2ca02c\", \"#d62728\", \"#9467bd\", \"#8c564b\", \"#e377c2\", \"#7f7f7f\", \"#bcbd22\", \"#17becf\", \"#aec7e8\", \"#ffbb78\", \"#98df8a\", \"#ff9896\", \"#c5b0d5\", \"#c49c94\", \"#f7b6d2\", \"#c7c7c7\", \"#dbdb8d\", \"#9edae5\"]}, \"sort\": {\"field\": \"Percentage\", \"order\": \"descending\"}, \"type\": \"nominal\"}, \"theta\": {\"field\": \"Percentage\", \"type\": \"quantitative\"}, \"tooltip\": [{\"field\": \"Language\", \"type\": \"nominal\"}, {\"field\": \"Percentage\", \"type\": \"quantitative\"}]}, \"height\": 400, \"title\": \"Language distribution in 2022\", \"width\": 400, \"$schema\": \"https://vega.github.io/schema/vega-lite/v5.20.1.json\", \"datasets\": {\"data-4088e44f0b3533e611bade48e9c84dd8\": [{\"Year\": 2022, \"Language\": \"Python\", \"Percentage\": 17.1}, {\"Year\": 2022, \"Language\": \"TypeScript\", \"Percentage\": 12.88}, {\"Year\": 2022, \"Language\": \"JavaScript\", \"Percentage\": 8.69}, {\"Year\": 2022, \"Language\": \"Go\", \"Percentage\": 8.39}, {\"Year\": 2022, \"Language\": \"C++\", \"Percentage\": 7.36}, {\"Year\": 2022, \"Language\": \"Java\", \"Percentage\": 7.23}, {\"Year\": 2022, \"Language\": \"Rust\", \"Percentage\": 6.07}, {\"Year\": 2022, \"Language\": \"C\", \"Percentage\": 4.72}, {\"Year\": 2022, \"Language\": \"PHP\", \"Percentage\": 4.57}, {\"Year\": 2022, \"Language\": \"C#\", \"Percentage\": 3.78}, {\"Year\": 2022, \"Language\": \"Ruby\", \"Percentage\": 3.03}, {\"Year\": 2022, \"Language\": \"Shell\", \"Percentage\": 2.07}, {\"Year\": 2022, \"Language\": \"Kotlin\", \"Percentage\": 2.07}, {\"Year\": 2022, \"Language\": \"Scala\", \"Percentage\": 1.3}, {\"Year\": 2022, \"Language\": \"R\", \"Percentage\": 1.26}, {\"Year\": 2022, \"Language\": \"Julia\", \"Percentage\": 1.1}, {\"Year\": 2022, \"Language\": \"Dart\", \"Percentage\": 1.0}, {\"Year\": 2022, \"Language\": \"Other\", \"Percentage\": 7.359999999999999}]}}, {\"mode\": \"vega-lite\"});\n",
       "</script>"
      ],
      "text/plain": [
       "alt.Chart(...)"
      ]
     },
     "metadata": {},
     "output_type": "display_data"
    },
    {
     "data": {
      "text/html": [
       "\n",
       "<style>\n",
       "  #altair-viz-adba0f27cbb04dc38d062f10ba1fa48a.vega-embed {\n",
       "    width: 100%;\n",
       "    display: flex;\n",
       "  }\n",
       "\n",
       "  #altair-viz-adba0f27cbb04dc38d062f10ba1fa48a.vega-embed details,\n",
       "  #altair-viz-adba0f27cbb04dc38d062f10ba1fa48a.vega-embed details summary {\n",
       "    position: relative;\n",
       "  }\n",
       "</style>\n",
       "<div id=\"altair-viz-adba0f27cbb04dc38d062f10ba1fa48a\"></div>\n",
       "<script type=\"text/javascript\">\n",
       "  var VEGA_DEBUG = (typeof VEGA_DEBUG == \"undefined\") ? {} : VEGA_DEBUG;\n",
       "  (function(spec, embedOpt){\n",
       "    let outputDiv = document.currentScript.previousElementSibling;\n",
       "    if (outputDiv.id !== \"altair-viz-adba0f27cbb04dc38d062f10ba1fa48a\") {\n",
       "      outputDiv = document.getElementById(\"altair-viz-adba0f27cbb04dc38d062f10ba1fa48a\");\n",
       "    }\n",
       "\n",
       "    const paths = {\n",
       "      \"vega\": \"https://cdn.jsdelivr.net/npm/vega@5?noext\",\n",
       "      \"vega-lib\": \"https://cdn.jsdelivr.net/npm/vega-lib?noext\",\n",
       "      \"vega-lite\": \"https://cdn.jsdelivr.net/npm/vega-lite@5.20.1?noext\",\n",
       "      \"vega-embed\": \"https://cdn.jsdelivr.net/npm/vega-embed@6?noext\",\n",
       "    };\n",
       "\n",
       "    function maybeLoadScript(lib, version) {\n",
       "      var key = `${lib.replace(\"-\", \"\")}_version`;\n",
       "      return (VEGA_DEBUG[key] == version) ?\n",
       "        Promise.resolve(paths[lib]) :\n",
       "        new Promise(function(resolve, reject) {\n",
       "          var s = document.createElement('script');\n",
       "          document.getElementsByTagName(\"head\")[0].appendChild(s);\n",
       "          s.async = true;\n",
       "          s.onload = () => {\n",
       "            VEGA_DEBUG[key] = version;\n",
       "            return resolve(paths[lib]);\n",
       "          };\n",
       "          s.onerror = () => reject(`Error loading script: ${paths[lib]}`);\n",
       "          s.src = paths[lib];\n",
       "        });\n",
       "    }\n",
       "\n",
       "    function showError(err) {\n",
       "      outputDiv.innerHTML = `<div class=\"error\" style=\"color:red;\">${err}</div>`;\n",
       "      throw err;\n",
       "    }\n",
       "\n",
       "    function displayChart(vegaEmbed) {\n",
       "      vegaEmbed(outputDiv, spec, embedOpt)\n",
       "        .catch(err => showError(`Javascript Error: ${err.message}<br>This usually means there's a typo in your chart specification. See the javascript console for the full traceback.`));\n",
       "    }\n",
       "\n",
       "    if(typeof define === \"function\" && define.amd) {\n",
       "      requirejs.config({paths});\n",
       "      let deps = [\"vega-embed\"];\n",
       "      require(deps, displayChart, err => showError(`Error loading script: ${err.message}`));\n",
       "    } else {\n",
       "      maybeLoadScript(\"vega\", \"5\")\n",
       "        .then(() => maybeLoadScript(\"vega-lite\", \"5.20.1\"))\n",
       "        .then(() => maybeLoadScript(\"vega-embed\", \"6\"))\n",
       "        .catch(showError)\n",
       "        .then(() => displayChart(vegaEmbed));\n",
       "    }\n",
       "  })({\"config\": {\"view\": {\"continuousWidth\": 300, \"continuousHeight\": 300}}, \"data\": {\"name\": \"data-bebeb0fc25f186cc7f6769e5c07a447a\"}, \"mark\": {\"type\": \"arc\"}, \"encoding\": {\"color\": {\"field\": \"Language\", \"scale\": {\"range\": [\"#1f77b4\", \"#ff7f0e\", \"#2ca02c\", \"#d62728\", \"#9467bd\", \"#8c564b\", \"#e377c2\", \"#7f7f7f\", \"#bcbd22\", \"#17becf\", \"#aec7e8\", \"#ffbb78\", \"#98df8a\", \"#ff9896\", \"#c5b0d5\", \"#c49c94\", \"#f7b6d2\", \"#c7c7c7\", \"#dbdb8d\", \"#9edae5\"]}, \"sort\": {\"field\": \"Percentage\", \"order\": \"descending\"}, \"type\": \"nominal\"}, \"theta\": {\"field\": \"Percentage\", \"type\": \"quantitative\"}, \"tooltip\": [{\"field\": \"Language\", \"type\": \"nominal\"}, {\"field\": \"Percentage\", \"type\": \"quantitative\"}]}, \"height\": 400, \"title\": \"Language distribution in 2023\", \"width\": 400, \"$schema\": \"https://vega.github.io/schema/vega-lite/v5.20.1.json\", \"datasets\": {\"data-bebeb0fc25f186cc7f6769e5c07a447a\": [{\"Year\": 2023, \"Language\": \"Python\", \"Percentage\": 17.36}, {\"Year\": 2023, \"Language\": \"TypeScript\", \"Percentage\": 13.45}, {\"Year\": 2023, \"Language\": \"JavaScript\", \"Percentage\": 8.5}, {\"Year\": 2023, \"Language\": \"Go\", \"Percentage\": 8.16}, {\"Year\": 2023, \"Language\": \"C++\", \"Percentage\": 7.34}, {\"Year\": 2023, \"Language\": \"Java\", \"Percentage\": 7.07}, {\"Year\": 2023, \"Language\": \"Rust\", \"Percentage\": 6.41}, {\"Year\": 2023, \"Language\": \"C\", \"Percentage\": 4.7}, {\"Year\": 2023, \"Language\": \"PHP\", \"Percentage\": 4.26}, {\"Year\": 2023, \"Language\": \"C#\", \"Percentage\": 3.81}, {\"Year\": 2023, \"Language\": \"Ruby\", \"Percentage\": 2.86}, {\"Year\": 2023, \"Language\": \"Kotlin\", \"Percentage\": 2.17}, {\"Year\": 2023, \"Language\": \"Shell\", \"Percentage\": 2.05}, {\"Year\": 2023, \"Language\": \"Scala\", \"Percentage\": 1.16}, {\"Year\": 2023, \"Language\": \"R\", \"Percentage\": 1.16}, {\"Year\": 2023, \"Language\": \"Dart\", \"Percentage\": 1.1}, {\"Year\": 2023, \"Language\": \"Other\", \"Percentage\": 8.449999999999998}]}}, {\"mode\": \"vega-lite\"});\n",
       "</script>"
      ],
      "text/plain": [
       "alt.Chart(...)"
      ]
     },
     "metadata": {},
     "output_type": "display_data"
    },
    {
     "data": {
      "text/html": [
       "\n",
       "<style>\n",
       "  #altair-viz-53c5fbd9a8914777b9e01e86a4b861a8.vega-embed {\n",
       "    width: 100%;\n",
       "    display: flex;\n",
       "  }\n",
       "\n",
       "  #altair-viz-53c5fbd9a8914777b9e01e86a4b861a8.vega-embed details,\n",
       "  #altair-viz-53c5fbd9a8914777b9e01e86a4b861a8.vega-embed details summary {\n",
       "    position: relative;\n",
       "  }\n",
       "</style>\n",
       "<div id=\"altair-viz-53c5fbd9a8914777b9e01e86a4b861a8\"></div>\n",
       "<script type=\"text/javascript\">\n",
       "  var VEGA_DEBUG = (typeof VEGA_DEBUG == \"undefined\") ? {} : VEGA_DEBUG;\n",
       "  (function(spec, embedOpt){\n",
       "    let outputDiv = document.currentScript.previousElementSibling;\n",
       "    if (outputDiv.id !== \"altair-viz-53c5fbd9a8914777b9e01e86a4b861a8\") {\n",
       "      outputDiv = document.getElementById(\"altair-viz-53c5fbd9a8914777b9e01e86a4b861a8\");\n",
       "    }\n",
       "\n",
       "    const paths = {\n",
       "      \"vega\": \"https://cdn.jsdelivr.net/npm/vega@5?noext\",\n",
       "      \"vega-lib\": \"https://cdn.jsdelivr.net/npm/vega-lib?noext\",\n",
       "      \"vega-lite\": \"https://cdn.jsdelivr.net/npm/vega-lite@5.20.1?noext\",\n",
       "      \"vega-embed\": \"https://cdn.jsdelivr.net/npm/vega-embed@6?noext\",\n",
       "    };\n",
       "\n",
       "    function maybeLoadScript(lib, version) {\n",
       "      var key = `${lib.replace(\"-\", \"\")}_version`;\n",
       "      return (VEGA_DEBUG[key] == version) ?\n",
       "        Promise.resolve(paths[lib]) :\n",
       "        new Promise(function(resolve, reject) {\n",
       "          var s = document.createElement('script');\n",
       "          document.getElementsByTagName(\"head\")[0].appendChild(s);\n",
       "          s.async = true;\n",
       "          s.onload = () => {\n",
       "            VEGA_DEBUG[key] = version;\n",
       "            return resolve(paths[lib]);\n",
       "          };\n",
       "          s.onerror = () => reject(`Error loading script: ${paths[lib]}`);\n",
       "          s.src = paths[lib];\n",
       "        });\n",
       "    }\n",
       "\n",
       "    function showError(err) {\n",
       "      outputDiv.innerHTML = `<div class=\"error\" style=\"color:red;\">${err}</div>`;\n",
       "      throw err;\n",
       "    }\n",
       "\n",
       "    function displayChart(vegaEmbed) {\n",
       "      vegaEmbed(outputDiv, spec, embedOpt)\n",
       "        .catch(err => showError(`Javascript Error: ${err.message}<br>This usually means there's a typo in your chart specification. See the javascript console for the full traceback.`));\n",
       "    }\n",
       "\n",
       "    if(typeof define === \"function\" && define.amd) {\n",
       "      requirejs.config({paths});\n",
       "      let deps = [\"vega-embed\"];\n",
       "      require(deps, displayChart, err => showError(`Error loading script: ${err.message}`));\n",
       "    } else {\n",
       "      maybeLoadScript(\"vega\", \"5\")\n",
       "        .then(() => maybeLoadScript(\"vega-lite\", \"5.20.1\"))\n",
       "        .then(() => maybeLoadScript(\"vega-embed\", \"6\"))\n",
       "        .catch(showError)\n",
       "        .then(() => displayChart(vegaEmbed));\n",
       "    }\n",
       "  })({\"config\": {\"view\": {\"continuousWidth\": 300, \"continuousHeight\": 300}}, \"data\": {\"name\": \"data-ad73d722b24387fa4963386082c62c49\"}, \"mark\": {\"type\": \"arc\"}, \"encoding\": {\"color\": {\"field\": \"Language\", \"scale\": {\"range\": [\"#1f77b4\", \"#ff7f0e\", \"#2ca02c\", \"#d62728\", \"#9467bd\", \"#8c564b\", \"#e377c2\", \"#7f7f7f\", \"#bcbd22\", \"#17becf\", \"#aec7e8\", \"#ffbb78\", \"#98df8a\", \"#ff9896\", \"#c5b0d5\", \"#c49c94\", \"#f7b6d2\", \"#c7c7c7\", \"#dbdb8d\", \"#9edae5\"]}, \"sort\": {\"field\": \"Percentage\", \"order\": \"descending\"}, \"type\": \"nominal\"}, \"theta\": {\"field\": \"Percentage\", \"type\": \"quantitative\"}, \"tooltip\": [{\"field\": \"Language\", \"type\": \"nominal\"}, {\"field\": \"Percentage\", \"type\": \"quantitative\"}]}, \"height\": 400, \"title\": \"Language distribution in 2024\", \"width\": 400, \"$schema\": \"https://vega.github.io/schema/vega-lite/v5.20.1.json\", \"datasets\": {\"data-ad73d722b24387fa4963386082c62c49\": [{\"Year\": 2024, \"Language\": \"Python\", \"Percentage\": 17.47}, {\"Year\": 2024, \"Language\": \"TypeScript\", \"Percentage\": 13.34}, {\"Year\": 2024, \"Language\": \"JavaScript\", \"Percentage\": 8.52}, {\"Year\": 2024, \"Language\": \"Go\", \"Percentage\": 7.99}, {\"Year\": 2024, \"Language\": \"C++\", \"Percentage\": 7.4}, {\"Year\": 2024, \"Language\": \"Java\", \"Percentage\": 6.97}, {\"Year\": 2024, \"Language\": \"Rust\", \"Percentage\": 6.33}, {\"Year\": 2024, \"Language\": \"C\", \"Percentage\": 4.87}, {\"Year\": 2024, \"Language\": \"PHP\", \"Percentage\": 4.31}, {\"Year\": 2024, \"Language\": \"C#\", \"Percentage\": 3.92}, {\"Year\": 2024, \"Language\": \"Ruby\", \"Percentage\": 2.81}, {\"Year\": 2024, \"Language\": \"Kotlin\", \"Percentage\": 2.22}, {\"Year\": 2024, \"Language\": \"Shell\", \"Percentage\": 2.04}, {\"Year\": 2024, \"Language\": \"R\", \"Percentage\": 1.12}, {\"Year\": 2024, \"Language\": \"Scala\", \"Percentage\": 1.11}, {\"Year\": 2024, \"Language\": \"Dart\", \"Percentage\": 1.07}, {\"Year\": 2024, \"Language\": \"Other\", \"Percentage\": 8.509999999999998}]}}, {\"mode\": \"vega-lite\"});\n",
       "</script>"
      ],
      "text/plain": [
       "alt.Chart(...)"
      ]
     },
     "metadata": {},
     "output_type": "display_data"
    },
    {
     "data": {
      "text/plain": [
       "[None, None, None, None, None, None]"
      ]
     },
     "execution_count": 22,
     "metadata": {},
     "output_type": "execute_result"
    }
   ],
   "execution_count": 22
  },
  {
   "metadata": {},
   "cell_type": "markdown",
   "source": "## Extract the median of the repositories characteristics for each snapshot",
   "id": "f0b0a24dc3757015"
  },
  {
   "metadata": {
    "ExecuteTime": {
     "end_time": "2025-05-05T09:07:42.326067Z",
     "start_time": "2025-05-05T09:07:40.672827Z"
    }
   },
   "cell_type": "code",
   "source": [
    "repositories_characteristics = []\n",
    "\n",
    "for year, snapshot in filtered_snapshots:\n",
    "    median_characteristics = info_extractor.extract_repos_characteristics(snapshot)\n",
    "    repositories_characteristics.append((year, median_characteristics))\n",
    "\n",
    "print(\"Median characteristics of the repositories: \")\n",
    "for year, median_characteristics in repositories_characteristics:\n",
    "    print(f\"Year {year}:\")\n",
    "    print(\"Median characteristics:\")\n",
    "    print(median_characteristics)\n",
    "    print()\n"
   ],
   "id": "7b6380d11b48f57e",
   "outputs": [
    {
     "name": "stdout",
     "output_type": "stream",
     "text": [
      "Median characteristics of the repositories: \n",
      "Year 2019:\n",
      "Median characteristics:\n",
      "commits          1432.5\n",
      "branches            9.0\n",
      "releases           34.0\n",
      "contributors       40.5\n",
      "stars             834.5\n",
      "issues            217.0\n",
      "pullrequests      417.0\n",
      "codelines       29024.0\n",
      "size            13233.0\n",
      "dtype: float64\n",
      "\n",
      "Year 2020:\n",
      "Median characteristics:\n",
      "commits          1249.0\n",
      "branches           10.0\n",
      "releases           29.0\n",
      "contributors       36.0\n",
      "stars             572.0\n",
      "issues            204.0\n",
      "pullrequests      360.0\n",
      "codelines       30479.0\n",
      "size            12526.0\n",
      "dtype: float64\n",
      "\n",
      "Year 2021:\n",
      "Median characteristics:\n",
      "commits          1140.0\n",
      "branches            9.0\n",
      "releases           24.0\n",
      "contributors       33.0\n",
      "stars             522.0\n",
      "issues            186.0\n",
      "pullrequests      303.0\n",
      "codelines       28769.0\n",
      "size            10954.0\n",
      "dtype: float64\n",
      "\n",
      "Year 2022:\n",
      "Median characteristics:\n",
      "commits          1065.0\n",
      "branches            9.0\n",
      "releases           22.0\n",
      "contributors       30.0\n",
      "stars             491.0\n",
      "issues            171.0\n",
      "pullrequests      272.0\n",
      "codelines       28660.0\n",
      "size            10712.0\n",
      "dtype: float64\n",
      "\n",
      "Year 2023:\n",
      "Median characteristics:\n",
      "commits          1011.0\n",
      "branches            8.0\n",
      "releases           21.0\n",
      "contributors       28.0\n",
      "stars             470.0\n",
      "issues            159.0\n",
      "pullrequests      250.0\n",
      "codelines       28975.0\n",
      "size            10770.0\n",
      "dtype: float64\n",
      "\n",
      "Year 2024:\n",
      "Median characteristics:\n",
      "commits           985.0\n",
      "branches            8.0\n",
      "releases           20.0\n",
      "contributors       27.0\n",
      "stars             462.0\n",
      "issues            154.0\n",
      "pullrequests      236.0\n",
      "codelines       28902.0\n",
      "size            10869.0\n",
      "dtype: float64\n",
      "\n"
     ]
    }
   ],
   "execution_count": 7
  },
  {
   "metadata": {},
   "cell_type": "markdown",
   "source": "## Draw a line chart representing the evolution of the repositories characteristics over the years",
   "id": "d6ad12289c6e32f5"
  },
  {
   "metadata": {
    "ExecuteTime": {
     "end_time": "2025-05-05T09:07:45.501108Z",
     "start_time": "2025-05-05T09:07:45.397815Z"
    }
   },
   "cell_type": "code",
   "source": [
    "data = []\n",
    "\n",
    "for year, median_values in repositories_characteristics:\n",
    "    for characteristic, value in median_values.items():\n",
    "        data.append({\n",
    "            'Year': year,\n",
    "            'Characteristic': characteristic,\n",
    "            'Value': value\n",
    "        })\n",
    "\n",
    "df_medians = pd.DataFrame(data)\n",
    "\n",
    "chart = alt.Chart(df_medians).mark_line(point=True).encode(\n",
    "    x=alt.X('Year:O', title=\"Année\"),\n",
    "    y=alt.Y('Value:Q', title=\"Valeur médiane\", scale=alt.Scale(type='log')),\n",
    "    color=alt.Color('Characteristic:N'),\n",
    "    tooltip=['Year', 'Characteristic', 'Value']\n",
    ").properties(\n",
    "    title=\"Évolution des caractéristiques médianes des dépôts par année\",\n",
    "    width=800,\n",
    "    height=400\n",
    ").interactive()\n",
    "\n",
    "chart.show()"
   ],
   "id": "283eb85929bd58c8",
   "outputs": [
    {
     "data": {
      "text/html": [
       "\n",
       "<style>\n",
       "  #altair-viz-b3c7dddc422b4729b84b632585b7c7d1.vega-embed {\n",
       "    width: 100%;\n",
       "    display: flex;\n",
       "  }\n",
       "\n",
       "  #altair-viz-b3c7dddc422b4729b84b632585b7c7d1.vega-embed details,\n",
       "  #altair-viz-b3c7dddc422b4729b84b632585b7c7d1.vega-embed details summary {\n",
       "    position: relative;\n",
       "  }\n",
       "</style>\n",
       "<div id=\"altair-viz-b3c7dddc422b4729b84b632585b7c7d1\"></div>\n",
       "<script type=\"text/javascript\">\n",
       "  var VEGA_DEBUG = (typeof VEGA_DEBUG == \"undefined\") ? {} : VEGA_DEBUG;\n",
       "  (function(spec, embedOpt){\n",
       "    let outputDiv = document.currentScript.previousElementSibling;\n",
       "    if (outputDiv.id !== \"altair-viz-b3c7dddc422b4729b84b632585b7c7d1\") {\n",
       "      outputDiv = document.getElementById(\"altair-viz-b3c7dddc422b4729b84b632585b7c7d1\");\n",
       "    }\n",
       "\n",
       "    const paths = {\n",
       "      \"vega\": \"https://cdn.jsdelivr.net/npm/vega@5?noext\",\n",
       "      \"vega-lib\": \"https://cdn.jsdelivr.net/npm/vega-lib?noext\",\n",
       "      \"vega-lite\": \"https://cdn.jsdelivr.net/npm/vega-lite@5.20.1?noext\",\n",
       "      \"vega-embed\": \"https://cdn.jsdelivr.net/npm/vega-embed@6?noext\",\n",
       "    };\n",
       "\n",
       "    function maybeLoadScript(lib, version) {\n",
       "      var key = `${lib.replace(\"-\", \"\")}_version`;\n",
       "      return (VEGA_DEBUG[key] == version) ?\n",
       "        Promise.resolve(paths[lib]) :\n",
       "        new Promise(function(resolve, reject) {\n",
       "          var s = document.createElement('script');\n",
       "          document.getElementsByTagName(\"head\")[0].appendChild(s);\n",
       "          s.async = true;\n",
       "          s.onload = () => {\n",
       "            VEGA_DEBUG[key] = version;\n",
       "            return resolve(paths[lib]);\n",
       "          };\n",
       "          s.onerror = () => reject(`Error loading script: ${paths[lib]}`);\n",
       "          s.src = paths[lib];\n",
       "        });\n",
       "    }\n",
       "\n",
       "    function showError(err) {\n",
       "      outputDiv.innerHTML = `<div class=\"error\" style=\"color:red;\">${err}</div>`;\n",
       "      throw err;\n",
       "    }\n",
       "\n",
       "    function displayChart(vegaEmbed) {\n",
       "      vegaEmbed(outputDiv, spec, embedOpt)\n",
       "        .catch(err => showError(`Javascript Error: ${err.message}<br>This usually means there's a typo in your chart specification. See the javascript console for the full traceback.`));\n",
       "    }\n",
       "\n",
       "    if(typeof define === \"function\" && define.amd) {\n",
       "      requirejs.config({paths});\n",
       "      let deps = [\"vega-embed\"];\n",
       "      require(deps, displayChart, err => showError(`Error loading script: ${err.message}`));\n",
       "    } else {\n",
       "      maybeLoadScript(\"vega\", \"5\")\n",
       "        .then(() => maybeLoadScript(\"vega-lite\", \"5.20.1\"))\n",
       "        .then(() => maybeLoadScript(\"vega-embed\", \"6\"))\n",
       "        .catch(showError)\n",
       "        .then(() => displayChart(vegaEmbed));\n",
       "    }\n",
       "  })({\"config\": {\"view\": {\"continuousWidth\": 300, \"continuousHeight\": 300}}, \"data\": {\"name\": \"data-66d150ba01960c928ae8e61336422707\"}, \"mark\": {\"type\": \"line\", \"point\": true}, \"encoding\": {\"color\": {\"field\": \"Characteristic\", \"type\": \"nominal\"}, \"tooltip\": [{\"field\": \"Year\", \"type\": \"quantitative\"}, {\"field\": \"Characteristic\", \"type\": \"nominal\"}, {\"field\": \"Value\", \"type\": \"quantitative\"}], \"x\": {\"field\": \"Year\", \"title\": \"Ann\\u00e9e\", \"type\": \"ordinal\"}, \"y\": {\"field\": \"Value\", \"scale\": {\"type\": \"log\"}, \"title\": \"Valeur m\\u00e9diane\", \"type\": \"quantitative\"}}, \"height\": 400, \"params\": [{\"name\": \"param_1\", \"select\": {\"type\": \"interval\", \"encodings\": [\"x\", \"y\"]}, \"bind\": \"scales\"}], \"title\": \"\\u00c9volution des caract\\u00e9ristiques m\\u00e9dianes des d\\u00e9p\\u00f4ts par ann\\u00e9e\", \"width\": 800, \"$schema\": \"https://vega.github.io/schema/vega-lite/v5.20.1.json\", \"datasets\": {\"data-66d150ba01960c928ae8e61336422707\": [{\"Year\": 2019, \"Characteristic\": \"commits\", \"Value\": 1432.5}, {\"Year\": 2019, \"Characteristic\": \"branches\", \"Value\": 9.0}, {\"Year\": 2019, \"Characteristic\": \"releases\", \"Value\": 34.0}, {\"Year\": 2019, \"Characteristic\": \"contributors\", \"Value\": 40.5}, {\"Year\": 2019, \"Characteristic\": \"stars\", \"Value\": 834.5}, {\"Year\": 2019, \"Characteristic\": \"issues\", \"Value\": 217.0}, {\"Year\": 2019, \"Characteristic\": \"pullrequests\", \"Value\": 417.0}, {\"Year\": 2019, \"Characteristic\": \"codelines\", \"Value\": 29024.0}, {\"Year\": 2019, \"Characteristic\": \"size\", \"Value\": 13233.0}, {\"Year\": 2020, \"Characteristic\": \"commits\", \"Value\": 1249.0}, {\"Year\": 2020, \"Characteristic\": \"branches\", \"Value\": 10.0}, {\"Year\": 2020, \"Characteristic\": \"releases\", \"Value\": 29.0}, {\"Year\": 2020, \"Characteristic\": \"contributors\", \"Value\": 36.0}, {\"Year\": 2020, \"Characteristic\": \"stars\", \"Value\": 572.0}, {\"Year\": 2020, \"Characteristic\": \"issues\", \"Value\": 204.0}, {\"Year\": 2020, \"Characteristic\": \"pullrequests\", \"Value\": 360.0}, {\"Year\": 2020, \"Characteristic\": \"codelines\", \"Value\": 30479.0}, {\"Year\": 2020, \"Characteristic\": \"size\", \"Value\": 12526.0}, {\"Year\": 2021, \"Characteristic\": \"commits\", \"Value\": 1140.0}, {\"Year\": 2021, \"Characteristic\": \"branches\", \"Value\": 9.0}, {\"Year\": 2021, \"Characteristic\": \"releases\", \"Value\": 24.0}, {\"Year\": 2021, \"Characteristic\": \"contributors\", \"Value\": 33.0}, {\"Year\": 2021, \"Characteristic\": \"stars\", \"Value\": 522.0}, {\"Year\": 2021, \"Characteristic\": \"issues\", \"Value\": 186.0}, {\"Year\": 2021, \"Characteristic\": \"pullrequests\", \"Value\": 303.0}, {\"Year\": 2021, \"Characteristic\": \"codelines\", \"Value\": 28769.0}, {\"Year\": 2021, \"Characteristic\": \"size\", \"Value\": 10954.0}, {\"Year\": 2022, \"Characteristic\": \"commits\", \"Value\": 1065.0}, {\"Year\": 2022, \"Characteristic\": \"branches\", \"Value\": 9.0}, {\"Year\": 2022, \"Characteristic\": \"releases\", \"Value\": 22.0}, {\"Year\": 2022, \"Characteristic\": \"contributors\", \"Value\": 30.0}, {\"Year\": 2022, \"Characteristic\": \"stars\", \"Value\": 491.0}, {\"Year\": 2022, \"Characteristic\": \"issues\", \"Value\": 171.0}, {\"Year\": 2022, \"Characteristic\": \"pullrequests\", \"Value\": 272.0}, {\"Year\": 2022, \"Characteristic\": \"codelines\", \"Value\": 28660.0}, {\"Year\": 2022, \"Characteristic\": \"size\", \"Value\": 10712.0}, {\"Year\": 2023, \"Characteristic\": \"commits\", \"Value\": 1011.0}, {\"Year\": 2023, \"Characteristic\": \"branches\", \"Value\": 8.0}, {\"Year\": 2023, \"Characteristic\": \"releases\", \"Value\": 21.0}, {\"Year\": 2023, \"Characteristic\": \"contributors\", \"Value\": 28.0}, {\"Year\": 2023, \"Characteristic\": \"stars\", \"Value\": 470.0}, {\"Year\": 2023, \"Characteristic\": \"issues\", \"Value\": 159.0}, {\"Year\": 2023, \"Characteristic\": \"pullrequests\", \"Value\": 250.0}, {\"Year\": 2023, \"Characteristic\": \"codelines\", \"Value\": 28975.0}, {\"Year\": 2023, \"Characteristic\": \"size\", \"Value\": 10770.0}, {\"Year\": 2024, \"Characteristic\": \"commits\", \"Value\": 985.0}, {\"Year\": 2024, \"Characteristic\": \"branches\", \"Value\": 8.0}, {\"Year\": 2024, \"Characteristic\": \"releases\", \"Value\": 20.0}, {\"Year\": 2024, \"Characteristic\": \"contributors\", \"Value\": 27.0}, {\"Year\": 2024, \"Characteristic\": \"stars\", \"Value\": 462.0}, {\"Year\": 2024, \"Characteristic\": \"issues\", \"Value\": 154.0}, {\"Year\": 2024, \"Characteristic\": \"pullrequests\", \"Value\": 236.0}, {\"Year\": 2024, \"Characteristic\": \"codelines\", \"Value\": 28902.0}, {\"Year\": 2024, \"Characteristic\": \"size\", \"Value\": 10869.0}]}}, {\"mode\": \"vega-lite\"});\n",
       "</script>"
      ],
      "text/plain": [
       "alt.Chart(...)"
      ]
     },
     "metadata": {},
     "output_type": "display_data"
    }
   ],
   "execution_count": 8
  },
  {
   "metadata": {},
   "cell_type": "markdown",
   "source": [
    "## Snapshot parsing\n",
    "- Global snapshot parser to be used for every kind of data extraction after"
   ],
   "id": "e6f4d5008bb1262d"
  },
  {
   "metadata": {
    "ExecuteTime": {
     "end_time": "2025-05-09T09:46:20.038555Z",
     "start_time": "2025-05-09T09:46:19.980538Z"
    }
   },
   "cell_type": "code",
   "source": [
    "repositories = []\n",
    "\n",
    "for year, snapshot in filtered_snapshots:\n",
    "    repositories.append((year, snapshot['repository'].unique()))"
   ],
   "id": "c84e976d5f106b7",
   "outputs": [],
   "execution_count": 6
  },
  {
   "metadata": {
    "ExecuteTime": {
     "end_time": "2025-05-09T13:12:24.947478Z",
     "start_time": "2025-05-09T13:12:00.170026Z"
    }
   },
   "cell_type": "code",
   "source": [
    "PARSE_DATA = False\n",
    "parsed_snapshots = []\n",
    "\n",
    "if PARSE_DATA:\n",
    "    for year, snapshot in filtered_snapshots:\n",
    "        parsed_workflows = parser.parse_snapshot(snapshot)\n",
    "        # Using .txt is too heavy as there are 350MB+ files,\n",
    "        # So I use pickle to save the data as a bytestream and gzip to compress it\n",
    "        with gzip.open(f\"../out/parsed_snapshot_{year}.pkl.gz\", \"wb\") as f:\n",
    "            pickle.dump(parsed_workflows, f, protocol=pickle.HIGHEST_PROTOCOL)\n",
    "        parsed_snapshots.append((year, parsed_workflows))\n",
    "\n",
    "else:\n",
    "    for year in range(2019,2025):\n",
    "        with gzip.open(f\"../out/parsed_snapshot_{year}.pkl.gz\", \"rb\") as f:\n",
    "            parsed_workflows = pickle.load(f)\n",
    "        parsed_snapshots.append((year, parsed_workflows))"
   ],
   "id": "9f1b28a80ad8d906",
   "outputs": [],
   "execution_count": 12
  },
  {
   "metadata": {},
   "cell_type": "markdown",
   "source": [
    "## Extract events from snapshots\n",
    "- Gather for each workflow of a snapshot its different trigger events"
   ],
   "id": "95d30cea7969f464"
  },
  {
   "metadata": {
    "ExecuteTime": {
     "end_time": "2025-05-09T13:12:00.073159Z",
     "start_time": "2025-05-09T13:11:47.761410Z"
    }
   },
   "cell_type": "code",
   "source": [
    "snapshot_events = []\n",
    "\n",
    "for year, parsed_workflows in parsed_snapshots:\n",
    "    events = info_extractor.extract_events_from_parsed(parsed_workflows)\n",
    "    snapshot_events.append((year, events))"
   ],
   "id": "3ed1c3859a2deecd",
   "outputs": [],
   "execution_count": 11
  },
  {
   "metadata": {},
   "cell_type": "markdown",
   "source": [
    "- Then we need to extract a count of the different events for each snapshot.\n",
    "- The idea is to have, on one hand, the proportion of workflow using each event and on the other hand, the proportion of repositories using each event."
   ],
   "id": "c1a3e37560d463b9"
  },
  {
   "metadata": {
    "ExecuteTime": {
     "end_time": "2025-05-09T14:31:28.317488Z",
     "start_time": "2025-05-09T14:31:23.983645Z"
    }
   },
   "cell_type": "code",
   "source": [
    "events_dataframes, yearly_events_medians = info_extractor.count_events(snapshot_events, repositories)\n",
    "\n",
    "for year, event_dataframe in events_dataframes:\n",
    "    print(f\"Year {year}:\")\n",
    "    # head(10) will display the top 10\n",
    "    print(event_dataframe.head(10))\n",
    "    print()"
   ],
   "id": "bb22d7796504daae",
   "outputs": [
    {
     "name": "stdout",
     "output_type": "stream",
     "text": [
      "Year 2019:\n",
      "                 event  workflow_proportion  repo_proportion\n",
      "0                 push                79.11            87.98\n",
      "1         pull_request                41.24            48.72\n",
      "2             schedule                 6.80             8.81\n",
      "3              release                 3.16             4.17\n",
      "4               issues                 1.64             2.32\n",
      "5        issue_comment                 0.95             1.20\n",
      "6               create                 0.37             0.56\n",
      "7               status                 0.37             0.56\n",
      "8  repository_dispatch                 0.32             0.32\n",
      "9  pull_request_review                 0.21             0.32\n",
      "\n",
      "Year 2020:\n",
      "                 event  workflow_proportion  repo_proportion\n",
      "0                 push                73.75            88.70\n",
      "1         pull_request                54.61            74.54\n",
      "2             schedule                14.07            23.06\n",
      "3              release                 5.08             9.60\n",
      "4    workflow_dispatch                 3.03             4.30\n",
      "5               issues                 1.99             4.11\n",
      "6  repository_dispatch                 1.44             2.06\n",
      "7        issue_comment                 1.15             2.51\n",
      "8  pull_request_target                 0.77             1.53\n",
      "9               create                 0.61             0.98\n",
      "\n",
      "Year 2021:\n",
      "                 event  workflow_proportion  repo_proportion\n",
      "0                 push                71.43            93.60\n",
      "1         pull_request                56.16            84.18\n",
      "2             schedule                14.43            26.38\n",
      "3    workflow_dispatch                13.79            18.77\n",
      "4              release                 4.84            11.07\n",
      "5  pull_request_target                 2.03             4.42\n",
      "6               issues                 1.62             3.90\n",
      "7        issue_comment                 1.48             3.83\n",
      "8  repository_dispatch                 1.35             1.69\n",
      "9         workflow_run                 0.76             1.72\n",
      "\n",
      "Year 2022:\n",
      "                 event  workflow_proportion  repo_proportion\n",
      "0                 push                67.50            94.13\n",
      "1         pull_request                54.13            85.65\n",
      "2    workflow_dispatch                19.88            28.36\n",
      "3             schedule                14.82            30.21\n",
      "4              release                 4.76            12.90\n",
      "5  pull_request_target                 2.70             6.70\n",
      "6               issues                 1.86             5.20\n",
      "7        issue_comment                 1.51             4.53\n",
      "8        workflow_call                 1.25             1.94\n",
      "9  repository_dispatch                 1.24             1.71\n",
      "\n",
      "Year 2023:\n",
      "                 event  workflow_proportion  repo_proportion\n",
      "0                 push                63.37            94.33\n",
      "1         pull_request                51.15            86.23\n",
      "2    workflow_dispatch                24.66            36.06\n",
      "3             schedule                14.92            33.26\n",
      "4              release                 4.56            14.42\n",
      "5  pull_request_target                 3.19             8.79\n",
      "6        workflow_call                 2.99             4.42\n",
      "7               issues                 2.05             6.36\n",
      "8        issue_comment                 1.47             5.14\n",
      "9         workflow_run                 1.19             3.60\n",
      "\n",
      "Year 2024:\n",
      "                 event  workflow_proportion  repo_proportion\n",
      "0                 push                60.70            94.50\n",
      "1         pull_request                49.41            86.77\n",
      "2    workflow_dispatch                28.04            42.25\n",
      "3             schedule                14.99            35.63\n",
      "4              release                 4.52            15.78\n",
      "5        workflow_call                 4.09             6.21\n",
      "6  pull_request_target                 3.36            10.35\n",
      "7               issues                 2.05             7.06\n",
      "8        issue_comment                 1.50             5.71\n",
      "9         workflow_run                 1.32             4.38\n",
      "\n"
     ]
    }
   ],
   "execution_count": 16
  },
  {
   "metadata": {},
   "cell_type": "markdown",
   "source": [
    "## Extract different the different steps from the workflows (run and uses)\n",
    "- The first thing to do is to extract all the steps present in the different workflows."
   ],
   "id": "720a732e2777131a"
  },
  {
   "metadata": {
    "ExecuteTime": {
     "end_time": "2025-05-09T15:11:23.029810Z",
     "start_time": "2025-05-09T15:11:04.598154Z"
    }
   },
   "cell_type": "code",
   "source": [
    "parsed_steps = []\n",
    "\n",
    "for year, parsed_workflows in parsed_snapshots:\n",
    "    steps = info_extractor.extract_step_type_from_parsed(parsed_workflows)\n",
    "    parsed_steps.append((year, steps))"
   ],
   "id": "3151a139ba6b0ae",
   "outputs": [],
   "execution_count": 26
  },
  {
   "metadata": {},
   "cell_type": "markdown",
   "source": [
    "- The idea is to get the total number of steps to compute the proportion of 'uses' and 'run' steps among them.\n",
    "- It is also required to get the proportion of repositories that are using 'uses' and 'run' steps among the repositories of the snapshots.\n",
    "\n",
    "#### Part 2 Extract the top 10 of Actions used in the workflows along the different snapshots\n",
    "\n",
    "- For this we will add a bit of code to extract the different actions used in the workflows and their counts in a dictionary.\n",
    "- actions are formatted as follows: actions/action_name@version. So to get only the action name it is needed to split on '@' and keep the first part.\n",
    "- I do not generate another code block here because to rank these actions I need to compute the proportion of steps and repositories using them."
   ],
   "id": "8fd90fbde047ae6"
  },
  {
   "metadata": {
    "ExecuteTime": {
     "end_time": "2025-05-09T15:12:36.006304Z",
     "start_time": "2025-05-09T15:12:32.693308Z"
    }
   },
   "cell_type": "code",
   "source": [
    "steps_dataframes, top10_actions_dataframes, yearly_steps_medians = info_extractor.count_steps(parsed_steps, repositories)\n",
    "\n",
    "for year, steps_df in steps_dataframes:\n",
    "    print(f\"Year {year}:\")\n",
    "    print(steps_df)\n",
    "    print()"
   ],
   "id": "6de7c89e15ced982",
   "outputs": [
    {
     "name": "stdout",
     "output_type": "stream",
     "text": [
      "Year 2019:\n",
      "   total_steps  total_repositories  uses_proportion  run_proportion  \\\n",
      "0        11510                1248            44.05           55.94   \n",
      "\n",
      "   repo_uses  repo_run  \n",
      "0      99.52     86.78  \n",
      "\n",
      "Year 2020:\n",
      "   total_steps  total_repositories  uses_proportion  run_proportion  \\\n",
      "0       241080               13026            49.04           50.95   \n",
      "\n",
      "   repo_uses  repo_run  \n",
      "0      99.65     90.62  \n",
      "\n",
      "Year 2021:\n",
      "   total_steps  total_repositories  uses_proportion  run_proportion  \\\n",
      "0       647863               26621            50.65           49.34   \n",
      "\n",
      "   repo_uses  repo_run  \n",
      "0      99.82      94.2  \n",
      "\n",
      "Year 2022:\n",
      "   total_steps  total_repositories  uses_proportion  run_proportion  \\\n",
      "0      1030302               34532            52.14           47.86   \n",
      "\n",
      "   repo_uses  repo_run  \n",
      "0      99.44     94.24  \n",
      "\n",
      "Year 2023:\n",
      "   total_steps  total_repositories  uses_proportion  run_proportion  \\\n",
      "0      1427385               40409            52.64           47.36   \n",
      "\n",
      "   repo_uses  repo_run  \n",
      "0      99.29     94.55  \n",
      "\n",
      "Year 2024:\n",
      "   total_steps  total_repositories  uses_proportion  run_proportion  \\\n",
      "0      1766123               43325            52.61           47.38   \n",
      "\n",
      "   repo_uses  repo_run  \n",
      "0      99.28     94.92  \n",
      "\n"
     ]
    }
   ],
   "execution_count": 29
  },
  {
   "metadata": {
    "ExecuteTime": {
     "end_time": "2025-05-09T15:12:44.361341Z",
     "start_time": "2025-05-09T15:12:44.352616Z"
    }
   },
   "cell_type": "code",
   "source": [
    "for year, actions_df in top10_actions_dataframes:\n",
    "    print(f\"Year {year}:\")\n",
    "    print(actions_df)\n",
    "    print()"
   ],
   "id": "ecd27e2ca783e40d",
   "outputs": [
    {
     "name": "stdout",
     "output_type": "stream",
     "text": [
      "Year 2019:\n",
      "                    action  step_proportion  repo_proportion\n",
      "0         actions/checkout            20.81            94.15\n",
      "1       actions/setup-node             4.42            24.04\n",
      "2     actions/setup-python             2.09            10.10\n",
      "3       actions/setup-java             1.43             9.29\n",
      "4         actions-rs/cargo             1.40             1.76\n",
      "5         actions/setup-go             1.38             7.61\n",
      "6  actions/upload-artifact             1.21             5.21\n",
      "7     actions-rs/toolchain             0.90             1.84\n",
      "8       actions/setup-ruby             0.86             4.17\n",
      "9  hecrj/setup-rust-action             0.41             1.36\n",
      "\n",
      "Year 2020:\n",
      "                      action  step_proportion  repo_proportion\n",
      "0           actions/checkout            17.51            93.91\n",
      "1              actions/cache             4.03            22.28\n",
      "2    actions/upload-artifact             2.89            18.28\n",
      "3         actions/setup-node             2.56            19.99\n",
      "4       actions/setup-python             2.49            16.71\n",
      "5         actions/setup-java             1.22             9.51\n",
      "6  actions/download-artifact             1.17             5.52\n",
      "7           actions/setup-go             1.07             7.66\n",
      "8       actions-rs/toolchain             0.91             4.23\n",
      "9           actions-rs/cargo             0.87             2.96\n",
      "\n",
      "Year 2021:\n",
      "                      action  step_proportion  repo_proportion\n",
      "0           actions/checkout            17.12            97.59\n",
      "1              actions/cache             3.91            27.24\n",
      "2    actions/upload-artifact             2.92            21.72\n",
      "3       actions/setup-python             2.54            20.72\n",
      "4         actions/setup-node             2.45            21.42\n",
      "5         actions/setup-java             1.21            10.57\n",
      "6  actions/download-artifact             1.07             7.40\n",
      "7           actions/setup-go             1.04             8.03\n",
      "8       actions-rs/toolchain             0.76             4.27\n",
      "9           actions-rs/cargo             0.62             2.74\n",
      "\n",
      "Year 2022:\n",
      "                      action  step_proportion  repo_proportion\n",
      "0           actions/checkout            16.86            97.45\n",
      "1              actions/cache             3.25            25.74\n",
      "2    actions/upload-artifact             3.04            25.14\n",
      "3         actions/setup-node             2.46            23.53\n",
      "4       actions/setup-python             2.31            21.45\n",
      "5  actions/download-artifact             1.23             9.66\n",
      "6         actions/setup-java             1.17            11.34\n",
      "7           actions/setup-go             1.12             8.58\n",
      "8       actions-rs/toolchain             0.77             4.70\n",
      "9        docker/login-action             0.75             8.19\n",
      "\n",
      "Year 2023:\n",
      "                      action  step_proportion  repo_proportion\n",
      "0           actions/checkout            16.73            97.55\n",
      "1    actions/upload-artifact             3.08            28.79\n",
      "2              actions/cache             2.66            24.24\n",
      "3         actions/setup-node             2.44            25.31\n",
      "4       actions/setup-python             2.18            22.37\n",
      "5  actions/download-artifact             1.31            11.87\n",
      "6         actions/setup-java             1.14            11.80\n",
      "7           actions/setup-go             1.09             8.71\n",
      "8        docker/login-action             0.85            10.20\n",
      "9   docker/build-push-action             0.73             8.53\n",
      "\n",
      "Year 2024:\n",
      "                      action  step_proportion  repo_proportion\n",
      "0           actions/checkout            16.52            97.45\n",
      "1    actions/upload-artifact             3.16            32.15\n",
      "2         actions/setup-node             2.35            26.26\n",
      "3              actions/cache             2.29            23.82\n",
      "4       actions/setup-python             2.19            23.54\n",
      "5  actions/download-artifact             1.42            14.28\n",
      "6         actions/setup-java             1.08            12.09\n",
      "7           actions/setup-go             1.03             8.84\n",
      "8        docker/login-action             0.89            11.56\n",
      "9   docker/build-push-action             0.74             9.67\n",
      "\n"
     ]
    }
   ],
   "execution_count": 31
  },
  {
   "metadata": {},
   "cell_type": "markdown",
   "source": [
    "## Extract other information on the workflow dimensions\n",
    "- The idea is to replicate the median characteristics extraction but for the workflows.\n",
    "- Metrics that could be extracted are :\n",
    "    - Number of jobs\n",
    "    - Number of steps\n",
    "    - Number of events\n",
    "    - Use of matrix strategy\n",
    "    - Use of permissions\n",
    "\n",
    "- Some of these metrics were partially or totally extracted in the previous steps.\n",
    "- Some like permissions and matrix strategy are not extracted yet.\n",
    "- The difference here is that we need to extract the number of these metrics for each workflow to have a median value for each snapshot."
   ],
   "id": "7f9a67f5f5676e1d"
  },
  {
   "metadata": {},
   "cell_type": "markdown",
   "source": "### Median number of trigger events through the different snapshots",
   "id": "2a65094e8208501c"
  },
  {
   "metadata": {
    "ExecuteTime": {
     "end_time": "2025-05-09T14:31:54.965637Z",
     "start_time": "2025-05-09T14:31:54.962690Z"
    }
   },
   "cell_type": "code",
   "source": [
    "for year, median in yearly_events_medians:\n",
    "    print(f\"Year {year}:\")\n",
    "    print(f\"Median number of events per workflow: {median}\")\n",
    "    print()"
   ],
   "id": "138600e804d3a4d8",
   "outputs": [
    {
     "name": "stdout",
     "output_type": "stream",
     "text": [
      "Year 2019:\n",
      "Median number of events per workflow: 1.0\n",
      "\n",
      "Year 2020:\n",
      "Median number of events per workflow: 2.0\n",
      "\n",
      "Year 2021:\n",
      "Median number of events per workflow: 2.0\n",
      "\n",
      "Year 2022:\n",
      "Median number of events per workflow: 2.0\n",
      "\n",
      "Year 2023:\n",
      "Median number of events per workflow: 2.0\n",
      "\n",
      "Year 2024:\n",
      "Median number of events per workflow: 2.0\n",
      "\n"
     ]
    }
   ],
   "execution_count": 18
  },
  {
   "metadata": {},
   "cell_type": "markdown",
   "source": "### Median number of steps through the different snapshots",
   "id": "7b012d69b72ff465"
  },
  {
   "metadata": {
    "ExecuteTime": {
     "end_time": "2025-05-09T15:12:49.370968Z",
     "start_time": "2025-05-09T15:12:49.367784Z"
    }
   },
   "cell_type": "code",
   "source": [
    "for year, median in yearly_steps_medians:\n",
    "    print(f\"Year {year}:\")\n",
    "    print(f\"Median number of steps per workflow: {median}\")\n",
    "    print()"
   ],
   "id": "3fbf494d81bdef31",
   "outputs": [
    {
     "name": "stdout",
     "output_type": "stream",
     "text": [
      "Year 2019:\n",
      "Median number of steps per workflow: 4.0\n",
      "\n",
      "Year 2020:\n",
      "Median number of steps per workflow: 6.0\n",
      "\n",
      "Year 2021:\n",
      "Median number of steps per workflow: 6.0\n",
      "\n",
      "Year 2022:\n",
      "Median number of steps per workflow: 6.0\n",
      "\n",
      "Year 2023:\n",
      "Median number of steps per workflow: 6.0\n",
      "\n",
      "Year 2024:\n",
      "Median number of steps per workflow: 6.0\n",
      "\n"
     ]
    }
   ],
   "execution_count": 32
  },
  {
   "metadata": {},
   "cell_type": "markdown",
   "source": [
    "## Snapshot with filter the uid history of invalid workflows\n",
    "\n",
    "- This was another idea of filtering workflows that was based on deleting all records of each uid that has at least one invalid workflow (valid_yaml = False).\n",
    "- This method is more aggressive than the previous one as it will delete all the records of a uid that has at least one invalid workflow."
   ],
   "id": "26e9bfc0602886c7"
  },
  {
   "metadata": {
    "ExecuteTime": {
     "end_time": "2025-04-14T13:39:00.127188Z",
     "start_time": "2025-04-14T13:38:58.705733Z"
    }
   },
   "cell_type": "code",
   "source": [
    "invalid_uids = df.loc[df['valid_yaml'] == False, 'uid'].unique()\n",
    "print(f\"Number of invalid uids : {len(invalid_uids)}\")\n",
    "print(f\"Number of records that corresponds to these invalids uids : {df['uid'].isin(invalid_uids).sum()}\\n\")\n",
    "\n",
    "print(f\"Number of records in the dataframe before : {df.shape[0]}\")\n",
    "print(f\"Total number of uids before filtering : {df['uid'].nunique()}\\n\")\n",
    "\n",
    "filtered_df2 = snapshoter.delete_uid_with_invalid_yaml(df)\n",
    "print(f\"Number of records in the dataframe once {filtered_df2.shape[0]}\")\n",
    "print(f\"Total number of uids after filtering : {filtered_df2['uid'].nunique()}\")\n",
    "\n",
    "year = 2019\n",
    "while year <= 2024:\n",
    "    # Snapshot with the second method of filtering\n",
    "    snapshot2 = snapshoter.extract_snapshot(filtered_df2, year)\n",
    "\n",
    "    # Drop the deleted workflows\n",
    "    snapshot2 = snapshot2.dropna(subset=['file_hash'])\n",
    "\n",
    "    print(f\"Year {year}:\")\n",
    "    print(f\"Number of workflows in the snapshot: {snapshot2.shape[0]}\\n\")"
   ],
   "id": "b74e2ba5084f4a5b",
   "outputs": [
    {
     "name": "stdout",
     "output_type": "stream",
     "text": [
      "Number of invalid uids : 8396\n",
      "Number of records that corresponds to these invalids uids : 258040\n",
      "\n",
      "Number of records in the dataframe before : 2595399\n",
      "Total number of uids before filtering : 219460\n",
      "\n",
      "Number of records in the dataframe once 2337359\n",
      "Total number of uids after filtering : 211064\n"
     ]
    }
   ],
   "execution_count": 7
  }
 ],
 "metadata": {
  "kernelspec": {
   "display_name": "Python 3",
   "language": "python",
   "name": "python3"
  },
  "language_info": {
   "codemirror_mode": {
    "name": "ipython",
    "version": 2
   },
   "file_extension": ".py",
   "mimetype": "text/x-python",
   "name": "python",
   "nbconvert_exporter": "python",
   "pygments_lexer": "ipython2",
   "version": "2.7.6"
  }
 },
 "nbformat": 4,
 "nbformat_minor": 5
}
