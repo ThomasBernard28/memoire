{
 "cells": [
  {
   "metadata": {},
   "cell_type": "markdown",
   "source": "### Import requirement libraries",
   "id": "63b808a3c4220a24"
  },
  {
   "cell_type": "code",
   "id": "initial_id",
   "metadata": {
    "collapsed": true,
    "ExecuteTime": {
     "end_time": "2025-06-11T06:45:22.780750Z",
     "start_time": "2025-06-11T06:45:22.168400Z"
    }
   },
   "source": [
    "import parser\n",
    "import info_extractor\n",
    "import snapshoter\n",
    "import pickle\n",
    "import gzip\n",
    "import pandas as pd\n",
    "import altair as alt\n",
    "\n",
    "from tabulate import tabulate\n",
    "from plotter import *\n"
   ],
   "outputs": [],
   "execution_count": 1
  },
  {
   "metadata": {},
   "cell_type": "markdown",
   "source": [
    "### Loading the dataset\n",
    "\n",
    "This code cell is used to load the dataset store in `../dataset/workflows.csv`.\n",
    "\n",
    "Once loaded, drop the records that were deleted from the dataset i.e. `file_hash == null`"
   ],
   "id": "d0f477814f578a2"
  },
  {
   "metadata": {
    "ExecuteTime": {
     "end_time": "2025-06-11T06:45:37.068413Z",
     "start_time": "2025-06-11T06:45:26.414512Z"
    }
   },
   "cell_type": "code",
   "source": [
    "df = pd.read_csv(\"../dataset/workflows.csv\")\n",
    "print(f\"Total number of records: {df.shape[0]}\")\n",
    "\n",
    "# Drop the records that were deleted from the dataset\n",
    "df = df.dropna(subset=[\"file_hash\"])\n",
    "\n",
    "\n",
    "# Force the type of the valid_yaml column to be boolean\n",
    "# (After a check it appears that the column is boolean but better to be sure)\n",
    "df[\"valid_yaml\"] = df[\"valid_yaml\"].astype(bool)"
   ],
   "id": "cc818992c800ca4",
   "outputs": [
    {
     "name": "stdout",
     "output_type": "stream",
     "text": [
      "Total number of records: 2595399\n"
     ]
    }
   ],
   "execution_count": 3
  },
  {
   "metadata": {},
   "cell_type": "markdown",
   "source": "### Counting the number of invalid YAML files per year",
   "id": "beca1878ff258a7b"
  },
  {
   "metadata": {
    "ExecuteTime": {
     "end_time": "2025-05-13T19:06:05.644055Z",
     "start_time": "2025-05-13T19:06:05.260717Z"
    }
   },
   "cell_type": "code",
   "source": [
    "# Total number of invalid records in the dataset\n",
    "nbr_invalid_yaml = df[df['valid_yaml'] == False].shape[0]\n",
    "print(f\"Number of invalid records: {nbr_invalid_yaml}\")\n",
    "\n",
    "df['committed_date'] = pd.to_datetime(df['committed_date'], unit='s')\n",
    "df['committed_year'] = df['committed_date'].dt.year\n",
    "\n",
    "# Only keep the records that are invalid and then sort them by year\n",
    "invalid_df = df[df['valid_yaml'] == False]\n",
    "invalids_per_year = invalid_df['committed_year'].value_counts().sort_index()\n",
    "\n",
    "print(\"Number of invalid records per year: \")\n",
    "print(invalids_per_year)"
   ],
   "id": "be3af95ca54ced5",
   "outputs": [
    {
     "name": "stdout",
     "output_type": "stream",
     "text": [
      "Number of invalid records: 15417\n",
      "Number of invalid records per year: \n",
      "committed_year\n",
      "2019     386\n",
      "2020    2455\n",
      "2021    3201\n",
      "2022    3780\n",
      "2023    3466\n",
      "2024    2129\n",
      "Name: count, dtype: int64\n"
     ]
    }
   ],
   "execution_count": 126
  },
  {
   "metadata": {},
   "cell_type": "markdown",
   "source": [
    "### Snapshot without filtering\n",
    "\n",
    "- Only extract the various snapshots without removing undesired files\n",
    "- Purely informative, not used later."
   ],
   "id": "cc7cd2bdb3dafc9a"
  },
  {
   "metadata": {
    "ExecuteTime": {
     "end_time": "2025-06-11T06:32:45.266254Z",
     "start_time": "2025-06-11T06:32:38.013010Z"
    }
   },
   "cell_type": "code",
   "source": [
    "unfiltered_snapshots = []\n",
    "year = 2019\n",
    "while year <= 2024:\n",
    "    snapshot = snapshoter.extract_snapshot(df,year)\n",
    "    unfiltered_snapshots.append((year,snapshot))\n",
    "    print(f\"Year : {year}\")\n",
    "    print(f\"Number of workflows in the snapshot : {snapshot.shape[0]}\\n\")\n",
    "    year += 1"
   ],
   "id": "66e04f8aba50693a",
   "outputs": [
    {
     "name": "stdout",
     "output_type": "stream",
     "text": [
      "Year : 2019\n",
      "Number of workflows in the snapshot : 1905\n",
      "\n",
      "Year : 2020\n",
      "Number of workflows in the snapshot : 31145\n",
      "\n",
      "Year : 2021\n",
      "Number of workflows in the snapshot : 79553\n",
      "\n",
      "Year : 2022\n",
      "Number of workflows in the snapshot : 127814\n",
      "\n",
      "Year : 2023\n",
      "Number of workflows in the snapshot : 179073\n",
      "\n",
      "Year : 2024\n",
      "Number of workflows in the snapshot : 219401\n",
      "\n"
     ]
    }
   ],
   "execution_count": 3
  },
  {
   "metadata": {},
   "cell_type": "markdown",
   "source": [
    "### Snapshot with filtering the invalid workflows\n",
    "\n",
    "- First code cell contains information about the number of invalid records `valid_yaml == False` present in the dataset.\n",
    "\n",
    "#### Extract Snapshot\n",
    "1. Filter the dataframe to evict the invalid records.\n",
    "2. Extract the snapshots for each year.\n"
   ],
   "id": "9f13cad4660bffa8"
  },
  {
   "metadata": {
    "ExecuteTime": {
     "end_time": "2025-06-11T06:45:44.125138Z",
     "start_time": "2025-06-11T06:45:44.114458Z"
    }
   },
   "cell_type": "code",
   "source": [
    "# This block of code is only used to gather information\n",
    "# on the number of invalid records\n",
    "\n",
    "invalid_yaml = df.loc[df['valid_yaml'] == False]\n",
    "print(f\"Number of invalid records : {len(invalid_yaml)}\\n\")"
   ],
   "id": "78a04bb6d2925503",
   "outputs": [
    {
     "name": "stdout",
     "output_type": "stream",
     "text": [
      "Number of invalid records : 15417\n",
      "\n"
     ]
    }
   ],
   "execution_count": 4
  },
  {
   "metadata": {
    "ExecuteTime": {
     "end_time": "2025-06-11T06:45:53.503323Z",
     "start_time": "2025-06-11T06:45:45.784037Z"
    }
   },
   "cell_type": "code",
   "source": [
    "filtered_snapshots = []\n",
    "\n",
    "filtered_df = snapshoter.delete_invalid_yaml_records(df)\n",
    "\n",
    "year = 2019\n",
    "while year <= 2024:\n",
    "    snapshot_filtered = snapshoter.extract_snapshot(filtered_df, year)\n",
    "    filtered_snapshots.append((year,snapshot_filtered))\n",
    "    print(f\"Year: {year}\")\n",
    "    print(f\"Number of workflows in the snapshot: {snapshot_filtered.shape[0]}\\n\")\n",
    "    year += 1"
   ],
   "id": "9c794f12d83f4777",
   "outputs": [
    {
     "name": "stdout",
     "output_type": "stream",
     "text": [
      "Year: 2019\n",
      "Number of workflows in the snapshot: 1902\n",
      "\n",
      "Year: 2020\n",
      "Number of workflows in the snapshot: 31092\n",
      "\n",
      "Year: 2021\n",
      "Number of workflows in the snapshot: 79476\n",
      "\n",
      "Year: 2022\n",
      "Number of workflows in the snapshot: 127675\n",
      "\n",
      "Year: 2023\n",
      "Number of workflows in the snapshot: 178886\n",
      "\n",
      "Year: 2024\n",
      "Number of workflows in the snapshot: 219186\n",
      "\n"
     ]
    }
   ],
   "execution_count": 5
  },
  {
   "metadata": {},
   "cell_type": "markdown",
   "source": "### Gather the different unique repositories for the different snapshots.\n",
   "id": "9d18c1db53c2d4b4"
  },
  {
   "metadata": {
    "ExecuteTime": {
     "end_time": "2025-06-11T06:45:54.941648Z",
     "start_time": "2025-06-11T06:45:54.884940Z"
    }
   },
   "cell_type": "code",
   "source": [
    "repositories = []\n",
    "\n",
    "for year, snapshot in filtered_snapshots:\n",
    "    repositories.append((year, snapshot['repository'].unique()))"
   ],
   "id": "44a70ceee1b83d4c",
   "outputs": [],
   "execution_count": 6
  },
  {
   "metadata": {
    "ExecuteTime": {
     "end_time": "2025-06-11T06:45:56.757696Z",
     "start_time": "2025-06-11T06:45:56.755086Z"
    }
   },
   "cell_type": "code",
   "source": [
    "for year, repository_list in repositories:\n",
    "    print(f\"Year: {year}, Number of repositories in the snapshot: {len(repository_list)}\")"
   ],
   "id": "4d545cfc61dab7b8",
   "outputs": [
    {
     "name": "stdout",
     "output_type": "stream",
     "text": [
      "Year: 2019, Number of repositories in the snapshot: 1248\n",
      "Year: 2020, Number of repositories in the snapshot: 13026\n",
      "Year: 2021, Number of repositories in the snapshot: 26621\n",
      "Year: 2022, Number of repositories in the snapshot: 34532\n",
      "Year: 2023, Number of repositories in the snapshot: 40409\n",
      "Year: 2024, Number of repositories in the snapshot: 43325\n"
     ]
    }
   ],
   "execution_count": 7
  },
  {
   "metadata": {},
   "cell_type": "markdown",
   "source": [
    "### Information and Results about main language repartition in the repositories\n",
    "\n",
    "1. Gather the language repartions for each Snapshots"
   ],
   "id": "63569e904e85e2a8"
  },
  {
   "metadata": {
    "ExecuteTime": {
     "end_time": "2025-06-11T06:45:59.715983Z",
     "start_time": "2025-06-11T06:45:58.968042Z"
    }
   },
   "cell_type": "code",
   "source": [
    "language_repartitions = []\n",
    "\n",
    "for year, snapshot in filtered_snapshots:\n",
    "    repartition = info_extractor.extract_languages_by_repository(snapshot)\n",
    "    language_repartitions.append((year, repartition))"
   ],
   "id": "af7f7801c308351f",
   "outputs": [],
   "execution_count": 8
  },
  {
   "metadata": {},
   "cell_type": "markdown",
   "source": [
    "### Extract percentage of languages for each year\n",
    "\n",
    "- Make a table for each year with the number of repositories using the corresponding language and the percentage\n",
    "- If the percentage of a row is less than 1%, then group them as Other"
   ],
   "id": "b3c3b97e45a1fa9f"
  },
  {
   "metadata": {
    "ExecuteTime": {
     "end_time": "2025-06-11T06:48:29.270016Z",
     "start_time": "2025-06-11T06:48:29.246291Z"
    }
   },
   "cell_type": "code",
   "source": [
    "resulting_repartition = []\n",
    "\n",
    "counter = 0\n",
    "for year, repartition in language_repartitions:\n",
    "    # Create a dataframe with the languages and their counts\n",
    "    languages_df = pd.DataFrame(repartition.items(), columns=['Language', 'Count'])\n",
    "    # Compute the percentage for each language\n",
    "    languages_df['Percentage'] = round((languages_df['Count'] / len(repositories[counter][1])) * 100, 2)\n",
    "    # Sort the dataframe by count\n",
    "    languages_df = languages_df.sort_values(by='Count', ascending=False)\n",
    "    languages_df['Count'] = languages_df['Count'].astype(int)\n",
    "\n",
    "    # Now we need to group the languages with less than 1% of total occurrences, group tem as Other and delete the rows.\n",
    "    # Create a new Dataframe with the grouped languages\n",
    "    less_represented = languages_df[languages_df['Percentage'] < 1].sum(numeric_only=True)\n",
    "    less_represented['Language'] = \"Other\"\n",
    "\n",
    "    # Deleting the rows with less than 1% in the original df by sorting it before concatenating with the above df\n",
    "    languages_df = languages_df[languages_df['Percentage'] >= 1]\n",
    "    languages_df = pd.concat([languages_df, pd.DataFrame([less_represented])], ignore_index=True)\n",
    "\n",
    "    resulting_repartition.append((year,languages_df))\n",
    "\n",
    "    table = tabulate(languages_df, headers='keys', tablefmt='psql')\n",
    "\n",
    "    counter += 1\n",
    "    print(f\"Year {year}:\")\n",
    "    print(table)\n",
    "    print()"
   ],
   "id": "3796609c0a49038",
   "outputs": [
    {
     "name": "stdout",
     "output_type": "stream",
     "text": [
      "Year 2019:\n",
      "+----+------------+---------+--------------+\n",
      "|    | Language   |   Count |   Percentage |\n",
      "|----+------------+---------+--------------|\n",
      "|  0 | TypeScript |     231 |        18.51 |\n",
      "|  1 | Go         |     139 |        11.14 |\n",
      "|  2 | JavaScript |     128 |        10.26 |\n",
      "|  3 | Python     |     126 |        10.1  |\n",
      "|  4 | Java       |      96 |         7.69 |\n",
      "|  5 | Rust       |      93 |         7.45 |\n",
      "|  6 | C++        |      65 |         5.21 |\n",
      "|  7 | Ruby       |      62 |         4.97 |\n",
      "|  8 | PHP        |      55 |         4.41 |\n",
      "|  9 | C          |      46 |         3.69 |\n",
      "| 10 | C#         |      43 |         3.45 |\n",
      "| 11 | Kotlin     |      28 |         2.24 |\n",
      "| 12 | Shell      |      27 |         2.16 |\n",
      "| 13 | Swift      |      22 |         1.76 |\n",
      "| 14 | Other      |      87 |         6.96 |\n",
      "+----+------------+---------+--------------+\n",
      "\n",
      "Year 2020:\n",
      "+----+------------+---------+--------------+\n",
      "|    | Language   |   Count |   Percentage |\n",
      "|----+------------+---------+--------------|\n",
      "|  0 | Python     |    1998 |        15.34 |\n",
      "|  1 | TypeScript |    1666 |        12.79 |\n",
      "|  2 | Go         |    1147 |         8.81 |\n",
      "|  3 | JavaScript |    1134 |         8.71 |\n",
      "|  4 | Java       |     987 |         7.58 |\n",
      "|  5 | C++        |     892 |         6.85 |\n",
      "|  6 | Rust       |     878 |         6.74 |\n",
      "|  7 | PHP        |     610 |         4.68 |\n",
      "|  8 | C#         |     535 |         4.11 |\n",
      "|  9 | C          |     523 |         4.02 |\n",
      "| 10 | Ruby       |     370 |         2.84 |\n",
      "| 11 | Julia      |     314 |         2.41 |\n",
      "| 12 | Kotlin     |     291 |         2.23 |\n",
      "| 13 | Shell      |     286 |         2.2  |\n",
      "| 14 | R          |     221 |         1.7  |\n",
      "| 15 | Scala      |     152 |         1.17 |\n",
      "| 16 | Swift      |     145 |         1.11 |\n",
      "| 17 | Other      |     877 |         6.72 |\n",
      "+----+------------+---------+--------------+\n",
      "\n",
      "Year 2021:\n",
      "+----+------------+---------+--------------+\n",
      "|    | Language   |   Count |   Percentage |\n",
      "|----+------------+---------+--------------|\n",
      "|  0 | Python     |    4579 |        17.2  |\n",
      "|  1 | TypeScript |    3215 |        12.08 |\n",
      "|  2 | JavaScript |    2327 |         8.74 |\n",
      "|  3 | Go         |    2245 |         8.43 |\n",
      "|  4 | Java       |    1994 |         7.49 |\n",
      "|  5 | C++        |    1937 |         7.28 |\n",
      "|  6 | Rust       |    1587 |         5.96 |\n",
      "|  7 | PHP        |    1301 |         4.89 |\n",
      "|  8 | C          |    1220 |         4.58 |\n",
      "|  9 | C#         |     987 |         3.71 |\n",
      "| 10 | Ruby       |     854 |         3.21 |\n",
      "| 11 | Shell      |     539 |         2.02 |\n",
      "| 12 | Kotlin     |     527 |         1.98 |\n",
      "| 13 | R          |     383 |         1.44 |\n",
      "| 14 | Scala      |     382 |         1.43 |\n",
      "| 15 | Julia      |     361 |         1.36 |\n",
      "| 16 | Other      |    2183 |         8.19 |\n",
      "+----+------------+---------+--------------+\n",
      "\n",
      "Year 2022:\n",
      "+----+------------+---------+--------------+\n",
      "|    | Language   |   Count |   Percentage |\n",
      "|----+------------+---------+--------------|\n",
      "|  0 | Python     |    5906 |        17.1  |\n",
      "|  1 | TypeScript |    4446 |        12.88 |\n",
      "|  2 | JavaScript |    3001 |         8.69 |\n",
      "|  3 | Go         |    2898 |         8.39 |\n",
      "|  4 | C++        |    2543 |         7.36 |\n",
      "|  5 | Java       |    2497 |         7.23 |\n",
      "|  6 | Rust       |    2096 |         6.07 |\n",
      "|  7 | C          |    1631 |         4.72 |\n",
      "|  8 | PHP        |    1577 |         4.57 |\n",
      "|  9 | C#         |    1306 |         3.78 |\n",
      "| 10 | Ruby       |    1047 |         3.03 |\n",
      "| 11 | Shell      |     715 |         2.07 |\n",
      "| 12 | Kotlin     |     715 |         2.07 |\n",
      "| 13 | Scala      |     449 |         1.3  |\n",
      "| 14 | R          |     434 |         1.26 |\n",
      "| 15 | Julia      |     381 |         1.1  |\n",
      "| 16 | Dart       |     345 |         1    |\n",
      "| 17 | Other      |    2545 |         7.36 |\n",
      "+----+------------+---------+--------------+\n",
      "\n",
      "Year 2023:\n",
      "+----+------------+---------+--------------+\n",
      "|    | Language   |   Count |   Percentage |\n",
      "|----+------------+---------+--------------|\n",
      "|  0 | Python     |    7016 |        17.36 |\n",
      "|  1 | TypeScript |    5433 |        13.45 |\n",
      "|  2 | JavaScript |    3433 |         8.5  |\n",
      "|  3 | Go         |    3296 |         8.16 |\n",
      "|  4 | C++        |    2965 |         7.34 |\n",
      "|  5 | Java       |    2858 |         7.07 |\n",
      "|  6 | Rust       |    2591 |         6.41 |\n",
      "|  7 | C          |    1898 |         4.7  |\n",
      "|  8 | PHP        |    1722 |         4.26 |\n",
      "|  9 | C#         |    1538 |         3.81 |\n",
      "| 10 | Ruby       |    1154 |         2.86 |\n",
      "| 11 | Kotlin     |     876 |         2.17 |\n",
      "| 12 | Shell      |     829 |         2.05 |\n",
      "| 13 | Scala      |     469 |         1.16 |\n",
      "| 14 | R          |     468 |         1.16 |\n",
      "| 15 | Dart       |     444 |         1.1  |\n",
      "| 16 | Other      |    3419 |         8.45 |\n",
      "+----+------------+---------+--------------+\n",
      "\n",
      "Year 2024:\n",
      "+----+------------+---------+--------------+\n",
      "|    | Language   |   Count |   Percentage |\n",
      "|----+------------+---------+--------------|\n",
      "|  0 | Python     |    7570 |        17.47 |\n",
      "|  1 | TypeScript |    5779 |        13.34 |\n",
      "|  2 | JavaScript |    3692 |         8.52 |\n",
      "|  3 | Go         |    3460 |         7.99 |\n",
      "|  4 | C++        |    3205 |         7.4  |\n",
      "|  5 | Java       |    3018 |         6.97 |\n",
      "|  6 | Rust       |    2744 |         6.33 |\n",
      "|  7 | C          |    2108 |         4.87 |\n",
      "|  8 | PHP        |    1867 |         4.31 |\n",
      "|  9 | C#         |    1698 |         3.92 |\n",
      "| 10 | Ruby       |    1218 |         2.81 |\n",
      "| 11 | Kotlin     |     961 |         2.22 |\n",
      "| 12 | Shell      |     885 |         2.04 |\n",
      "| 13 | R          |     485 |         1.12 |\n",
      "| 14 | Scala      |     480 |         1.11 |\n",
      "| 15 | Dart       |     465 |         1.07 |\n",
      "| 16 | Other      |    3690 |         8.51 |\n",
      "+----+------------+---------+--------------+\n",
      "\n"
     ]
    }
   ],
   "execution_count": 10
  },
  {
   "metadata": {},
   "cell_type": "markdown",
   "source": [
    "## Draw a line chart representing the evolution of the languages over the years\n",
    "\n",
    "- This plot will represent the evolution of the use of the different languages over the years.\n",
    "- The languages that are less than 1% of the total will be grouped as Others.\n",
    "- The percentage of each language will be represented on the y-axis and the year on the x-axis."
   ],
   "id": "f747633e9b39f3ee"
  },
  {
   "metadata": {
    "ExecuteTime": {
     "end_time": "2025-06-11T06:48:41.885160Z",
     "start_time": "2025-06-11T06:48:40.852594Z"
    }
   },
   "cell_type": "code",
   "source": [
    "data = []\n",
    "\n",
    "# The loop below will create a dictionary with the year, language and percentage for each year\n",
    "# And then append it to the data list to later create a dataframe\n",
    "for year, df in resulting_repartition:\n",
    "    top_10 = df.head(10)\n",
    "    others = df.iloc[10:]\n",
    "\n",
    "    for _, row in top_10.iterrows():\n",
    "        data.append({\n",
    "            'Year': year,\n",
    "            'Language': row['Language'],\n",
    "            'Percentage': row['Percentage']\n",
    "        })\n",
    "\n",
    "    other_pct = others['Percentage'].sum()\n",
    "    data.append({\n",
    "        'Year': year,\n",
    "        'Language': 'Other',\n",
    "        'Percentage': other_pct\n",
    "    })\n",
    "\n",
    "resulting_df = pd.DataFrame(data)\n",
    "resulting_df2= resulting_df[resulting_df['Language'] != 'Other'].copy()\n",
    "\n",
    "order_2024 = resulting_df2[resulting_df2['Year'] == 2024].sort_values(by='Percentage', ascending=False)['Language'].tolist()\n",
    "order_2024.append('Autres')\n",
    "\n",
    "# Random color palette generated thanks to AI.\n",
    "color_palette = [\n",
    "    '#1f77b4', '#ff7f0e', '#2ca02c', '#d62728', '#9467bd',\n",
    "    '#8c564b', '#e377c2', '#7f7f7f', '#bcbd22', '#17becf',\n",
    "    '#aec7e8', '#ffbb78', '#98df8a', '#ff9896', '#c5b0d5',\n",
    "    '#c49c94', '#f7b6d2', '#c7c7c7', '#dbdb8d', '#9edae5'\n",
    "]\n",
    "\n",
    "'''\n",
    "This part is used to create the line chart with Altair\n",
    "'''\n",
    "chart = alt.Chart(resulting_df).mark_line(point=True).encode(\n",
    "    x=alt.X('Year:O', title=\"Année\"),\n",
    "    y=alt.Y('Percentage:Q', title=\"Pourcentage\", scale=alt.Scale(domain=[0,22])),\n",
    "    color=alt.Color('Language:N', title=\"Langages\", sort=order_2024,  scale=alt.Scale(range=color_palette)),\n",
    "    tooltip=[\"Year\", \"Language\", \"Percentage\"]\n",
    ").properties(\n",
    "    width=800,\n",
    "    height=700,\n",
    ").interactive()\n",
    "\n",
    "chart.show()\n",
    "chart.save('../out/charts/langages.png')"
   ],
   "id": "4fa08af9f0eb138e",
   "outputs": [
    {
     "data": {
      "text/html": [
       "\n",
       "<style>\n",
       "  #altair-viz-7a60146fb208466c9df03e8eed2a7824.vega-embed {\n",
       "    width: 100%;\n",
       "    display: flex;\n",
       "  }\n",
       "\n",
       "  #altair-viz-7a60146fb208466c9df03e8eed2a7824.vega-embed details,\n",
       "  #altair-viz-7a60146fb208466c9df03e8eed2a7824.vega-embed details summary {\n",
       "    position: relative;\n",
       "  }\n",
       "</style>\n",
       "<div id=\"altair-viz-7a60146fb208466c9df03e8eed2a7824\"></div>\n",
       "<script type=\"text/javascript\">\n",
       "  var VEGA_DEBUG = (typeof VEGA_DEBUG == \"undefined\") ? {} : VEGA_DEBUG;\n",
       "  (function(spec, embedOpt){\n",
       "    let outputDiv = document.currentScript.previousElementSibling;\n",
       "    if (outputDiv.id !== \"altair-viz-7a60146fb208466c9df03e8eed2a7824\") {\n",
       "      outputDiv = document.getElementById(\"altair-viz-7a60146fb208466c9df03e8eed2a7824\");\n",
       "    }\n",
       "\n",
       "    const paths = {\n",
       "      \"vega\": \"https://cdn.jsdelivr.net/npm/vega@5?noext\",\n",
       "      \"vega-lib\": \"https://cdn.jsdelivr.net/npm/vega-lib?noext\",\n",
       "      \"vega-lite\": \"https://cdn.jsdelivr.net/npm/vega-lite@5.20.1?noext\",\n",
       "      \"vega-embed\": \"https://cdn.jsdelivr.net/npm/vega-embed@6?noext\",\n",
       "    };\n",
       "\n",
       "    function maybeLoadScript(lib, version) {\n",
       "      var key = `${lib.replace(\"-\", \"\")}_version`;\n",
       "      return (VEGA_DEBUG[key] == version) ?\n",
       "        Promise.resolve(paths[lib]) :\n",
       "        new Promise(function(resolve, reject) {\n",
       "          var s = document.createElement('script');\n",
       "          document.getElementsByTagName(\"head\")[0].appendChild(s);\n",
       "          s.async = true;\n",
       "          s.onload = () => {\n",
       "            VEGA_DEBUG[key] = version;\n",
       "            return resolve(paths[lib]);\n",
       "          };\n",
       "          s.onerror = () => reject(`Error loading script: ${paths[lib]}`);\n",
       "          s.src = paths[lib];\n",
       "        });\n",
       "    }\n",
       "\n",
       "    function showError(err) {\n",
       "      outputDiv.innerHTML = `<div class=\"error\" style=\"color:red;\">${err}</div>`;\n",
       "      throw err;\n",
       "    }\n",
       "\n",
       "    function displayChart(vegaEmbed) {\n",
       "      vegaEmbed(outputDiv, spec, embedOpt)\n",
       "        .catch(err => showError(`Javascript Error: ${err.message}<br>This usually means there's a typo in your chart specification. See the javascript console for the full traceback.`));\n",
       "    }\n",
       "\n",
       "    if(typeof define === \"function\" && define.amd) {\n",
       "      requirejs.config({paths});\n",
       "      let deps = [\"vega-embed\"];\n",
       "      require(deps, displayChart, err => showError(`Error loading script: ${err.message}`));\n",
       "    } else {\n",
       "      maybeLoadScript(\"vega\", \"5\")\n",
       "        .then(() => maybeLoadScript(\"vega-lite\", \"5.20.1\"))\n",
       "        .then(() => maybeLoadScript(\"vega-embed\", \"6\"))\n",
       "        .catch(showError)\n",
       "        .then(() => displayChart(vegaEmbed));\n",
       "    }\n",
       "  })({\"config\": {\"view\": {\"continuousWidth\": 300, \"continuousHeight\": 300}}, \"data\": {\"name\": \"data-2cc81cceedb4a9449543aebd7371ac35\"}, \"mark\": {\"type\": \"line\", \"point\": true}, \"encoding\": {\"color\": {\"field\": \"Language\", \"scale\": {\"range\": [\"#1f77b4\", \"#ff7f0e\", \"#2ca02c\", \"#d62728\", \"#9467bd\", \"#8c564b\", \"#e377c2\", \"#7f7f7f\", \"#bcbd22\", \"#17becf\", \"#aec7e8\", \"#ffbb78\", \"#98df8a\", \"#ff9896\", \"#c5b0d5\", \"#c49c94\", \"#f7b6d2\", \"#c7c7c7\", \"#dbdb8d\", \"#9edae5\"]}, \"sort\": [\"Python\", \"TypeScript\", \"JavaScript\", \"Go\", \"C++\", \"Java\", \"Rust\", \"C\", \"PHP\", \"C#\", \"Autres\"], \"title\": \"Langages\", \"type\": \"nominal\"}, \"tooltip\": [{\"field\": \"Year\", \"type\": \"quantitative\"}, {\"field\": \"Language\", \"type\": \"nominal\"}, {\"field\": \"Percentage\", \"type\": \"quantitative\"}], \"x\": {\"field\": \"Year\", \"title\": \"Ann\\u00e9e\", \"type\": \"ordinal\"}, \"y\": {\"field\": \"Percentage\", \"scale\": {\"domain\": [0, 22]}, \"title\": \"Pourcentage\", \"type\": \"quantitative\"}}, \"height\": 700, \"params\": [{\"name\": \"param_1\", \"select\": {\"type\": \"interval\", \"encodings\": [\"x\", \"y\"]}, \"bind\": \"scales\"}], \"width\": 800, \"$schema\": \"https://vega.github.io/schema/vega-lite/v5.20.1.json\", \"datasets\": {\"data-2cc81cceedb4a9449543aebd7371ac35\": [{\"Year\": 2019, \"Language\": \"TypeScript\", \"Percentage\": 18.51}, {\"Year\": 2019, \"Language\": \"Go\", \"Percentage\": 11.14}, {\"Year\": 2019, \"Language\": \"JavaScript\", \"Percentage\": 10.26}, {\"Year\": 2019, \"Language\": \"Python\", \"Percentage\": 10.1}, {\"Year\": 2019, \"Language\": \"Java\", \"Percentage\": 7.69}, {\"Year\": 2019, \"Language\": \"Rust\", \"Percentage\": 7.45}, {\"Year\": 2019, \"Language\": \"C++\", \"Percentage\": 5.21}, {\"Year\": 2019, \"Language\": \"Ruby\", \"Percentage\": 4.97}, {\"Year\": 2019, \"Language\": \"PHP\", \"Percentage\": 4.41}, {\"Year\": 2019, \"Language\": \"C\", \"Percentage\": 3.69}, {\"Year\": 2019, \"Language\": \"Other\", \"Percentage\": 16.57}, {\"Year\": 2020, \"Language\": \"Python\", \"Percentage\": 15.34}, {\"Year\": 2020, \"Language\": \"TypeScript\", \"Percentage\": 12.79}, {\"Year\": 2020, \"Language\": \"Go\", \"Percentage\": 8.81}, {\"Year\": 2020, \"Language\": \"JavaScript\", \"Percentage\": 8.71}, {\"Year\": 2020, \"Language\": \"Java\", \"Percentage\": 7.58}, {\"Year\": 2020, \"Language\": \"C++\", \"Percentage\": 6.85}, {\"Year\": 2020, \"Language\": \"Rust\", \"Percentage\": 6.74}, {\"Year\": 2020, \"Language\": \"PHP\", \"Percentage\": 4.68}, {\"Year\": 2020, \"Language\": \"C#\", \"Percentage\": 4.11}, {\"Year\": 2020, \"Language\": \"C\", \"Percentage\": 4.02}, {\"Year\": 2020, \"Language\": \"Other\", \"Percentage\": 20.38}, {\"Year\": 2021, \"Language\": \"Python\", \"Percentage\": 17.2}, {\"Year\": 2021, \"Language\": \"TypeScript\", \"Percentage\": 12.08}, {\"Year\": 2021, \"Language\": \"JavaScript\", \"Percentage\": 8.74}, {\"Year\": 2021, \"Language\": \"Go\", \"Percentage\": 8.43}, {\"Year\": 2021, \"Language\": \"Java\", \"Percentage\": 7.49}, {\"Year\": 2021, \"Language\": \"C++\", \"Percentage\": 7.28}, {\"Year\": 2021, \"Language\": \"Rust\", \"Percentage\": 5.96}, {\"Year\": 2021, \"Language\": \"PHP\", \"Percentage\": 4.89}, {\"Year\": 2021, \"Language\": \"C\", \"Percentage\": 4.58}, {\"Year\": 2021, \"Language\": \"C#\", \"Percentage\": 3.71}, {\"Year\": 2021, \"Language\": \"Other\", \"Percentage\": 19.629999999999995}, {\"Year\": 2022, \"Language\": \"Python\", \"Percentage\": 17.1}, {\"Year\": 2022, \"Language\": \"TypeScript\", \"Percentage\": 12.88}, {\"Year\": 2022, \"Language\": \"JavaScript\", \"Percentage\": 8.69}, {\"Year\": 2022, \"Language\": \"Go\", \"Percentage\": 8.39}, {\"Year\": 2022, \"Language\": \"C++\", \"Percentage\": 7.36}, {\"Year\": 2022, \"Language\": \"Java\", \"Percentage\": 7.23}, {\"Year\": 2022, \"Language\": \"Rust\", \"Percentage\": 6.07}, {\"Year\": 2022, \"Language\": \"C\", \"Percentage\": 4.72}, {\"Year\": 2022, \"Language\": \"PHP\", \"Percentage\": 4.57}, {\"Year\": 2022, \"Language\": \"C#\", \"Percentage\": 3.78}, {\"Year\": 2022, \"Language\": \"Other\", \"Percentage\": 19.189999999999998}, {\"Year\": 2023, \"Language\": \"Python\", \"Percentage\": 17.36}, {\"Year\": 2023, \"Language\": \"TypeScript\", \"Percentage\": 13.45}, {\"Year\": 2023, \"Language\": \"JavaScript\", \"Percentage\": 8.5}, {\"Year\": 2023, \"Language\": \"Go\", \"Percentage\": 8.16}, {\"Year\": 2023, \"Language\": \"C++\", \"Percentage\": 7.34}, {\"Year\": 2023, \"Language\": \"Java\", \"Percentage\": 7.07}, {\"Year\": 2023, \"Language\": \"Rust\", \"Percentage\": 6.41}, {\"Year\": 2023, \"Language\": \"C\", \"Percentage\": 4.7}, {\"Year\": 2023, \"Language\": \"PHP\", \"Percentage\": 4.26}, {\"Year\": 2023, \"Language\": \"C#\", \"Percentage\": 3.81}, {\"Year\": 2023, \"Language\": \"Other\", \"Percentage\": 18.949999999999996}, {\"Year\": 2024, \"Language\": \"Python\", \"Percentage\": 17.47}, {\"Year\": 2024, \"Language\": \"TypeScript\", \"Percentage\": 13.34}, {\"Year\": 2024, \"Language\": \"JavaScript\", \"Percentage\": 8.52}, {\"Year\": 2024, \"Language\": \"Go\", \"Percentage\": 7.99}, {\"Year\": 2024, \"Language\": \"C++\", \"Percentage\": 7.4}, {\"Year\": 2024, \"Language\": \"Java\", \"Percentage\": 6.97}, {\"Year\": 2024, \"Language\": \"Rust\", \"Percentage\": 6.33}, {\"Year\": 2024, \"Language\": \"C\", \"Percentage\": 4.87}, {\"Year\": 2024, \"Language\": \"PHP\", \"Percentage\": 4.31}, {\"Year\": 2024, \"Language\": \"C#\", \"Percentage\": 3.92}, {\"Year\": 2024, \"Language\": \"Other\", \"Percentage\": 18.88}]}}, {\"mode\": \"vega-lite\"});\n",
       "</script>"
      ],
      "text/plain": [
       "alt.Chart(...)"
      ]
     },
     "metadata": {},
     "output_type": "display_data"
    }
   ],
   "execution_count": 11
  },
  {
   "metadata": {},
   "cell_type": "markdown",
   "source": "### Extract the median of the different repositories characteristics for each snapshot",
   "id": "f0b0a24dc3757015"
  },
  {
   "metadata": {
    "ExecuteTime": {
     "end_time": "2025-06-11T06:49:14.670873Z",
     "start_time": "2025-06-11T06:49:13.900555Z"
    }
   },
   "cell_type": "code",
   "source": [
    "repositories_characteristics = []\n",
    "\n",
    "for year, snapshot in filtered_snapshots:\n",
    "    median_characteristics = info_extractor.extract_repos_characteristics(snapshot)\n",
    "    repositories_characteristics.append((year, median_characteristics))\n",
    "\n",
    "print(\"Median characteristics of the repositories: \")\n",
    "for year, median_characteristics in repositories_characteristics:\n",
    "    print(f\"Year {year}:\")\n",
    "    print(\"Median characteristics:\")\n",
    "    print(median_characteristics)\n",
    "    print()\n"
   ],
   "id": "7b6380d11b48f57e",
   "outputs": [
    {
     "name": "stdout",
     "output_type": "stream",
     "text": [
      "Median characteristics of the repositories: \n",
      "Year 2019:\n",
      "Median characteristics:\n",
      "commits          1442.5\n",
      "branches            9.0\n",
      "releases           34.0\n",
      "contributors       41.0\n",
      "stars             844.0\n",
      "issues            218.5\n",
      "pullrequests      430.5\n",
      "codelines       29543.0\n",
      "size            13453.0\n",
      "dtype: float64\n",
      "\n",
      "Year 2020:\n",
      "Median characteristics:\n",
      "commits          1258.0\n",
      "branches           10.0\n",
      "releases           29.0\n",
      "contributors       36.0\n",
      "stars             575.5\n",
      "issues            205.0\n",
      "pullrequests      363.5\n",
      "codelines       30792.5\n",
      "size            12784.5\n",
      "dtype: float64\n",
      "\n",
      "Year 2021:\n",
      "Median characteristics:\n",
      "commits          1148.0\n",
      "branches            9.0\n",
      "releases           24.0\n",
      "contributors       33.0\n",
      "stars             524.0\n",
      "issues            187.0\n",
      "pullrequests      305.0\n",
      "codelines       29103.0\n",
      "size            11083.0\n",
      "dtype: float64\n",
      "\n",
      "Year 2022:\n",
      "Median characteristics:\n",
      "commits          1071.0\n",
      "branches            9.0\n",
      "releases           22.0\n",
      "contributors       30.0\n",
      "stars             493.0\n",
      "issues            172.0\n",
      "pullrequests      274.0\n",
      "codelines       28942.0\n",
      "size            10872.0\n",
      "dtype: float64\n",
      "\n",
      "Year 2023:\n",
      "Median characteristics:\n",
      "commits          1018.0\n",
      "branches            8.0\n",
      "releases           21.0\n",
      "contributors       28.0\n",
      "stars             471.0\n",
      "issues            160.0\n",
      "pullrequests      252.0\n",
      "codelines       29222.0\n",
      "size            10918.0\n",
      "dtype: float64\n",
      "\n",
      "Year 2024:\n",
      "Median characteristics:\n",
      "commits           990.0\n",
      "branches            8.0\n",
      "releases           20.0\n",
      "contributors       27.0\n",
      "stars             464.0\n",
      "issues            155.0\n",
      "pullrequests      237.0\n",
      "codelines       29146.0\n",
      "size            10995.0\n",
      "dtype: float64\n",
      "\n"
     ]
    }
   ],
   "execution_count": 12
  },
  {
   "metadata": {},
   "cell_type": "markdown",
   "source": "### Draw a line chart representing the evolution of the repositories characteristics over the years",
   "id": "d6ad12289c6e32f5"
  },
  {
   "metadata": {
    "ExecuteTime": {
     "end_time": "2025-06-11T06:56:23.672718Z",
     "start_time": "2025-06-11T06:56:23.216837Z"
    }
   },
   "cell_type": "code",
   "source": [
    "data = []\n",
    "\n",
    "for year, median_values in repositories_characteristics:\n",
    "    for characteristic, value in median_values.items():\n",
    "        data.append({\n",
    "            'Year': year,\n",
    "            'Characteristic': characteristic,\n",
    "            'Value': value\n",
    "        })\n",
    "\n",
    "df_medians = pd.DataFrame(data)\n",
    "\n",
    "chart = alt.Chart(df_medians).mark_line(point=True).encode(\n",
    "    x=alt.X('Year:O', title=\"Année\"),\n",
    "    y=alt.Y('Value:Q', title=\"Valeur médiane\", scale=alt.Scale(type='log')),\n",
    "    color=alt.Color('Characteristic:N', title=\"Caractéristiques\"),\n",
    "    tooltip=['Year', 'Characteristic', 'Value']\n",
    ").properties(\n",
    "    width=800,\n",
    "    height=400\n",
    ").interactive()\n",
    "\n",
    "chart.show()\n",
    "chart.save(\"../out/charts/median_repo_carac.png\")"
   ],
   "id": "283eb85929bd58c8",
   "outputs": [
    {
     "data": {
      "text/html": [
       "\n",
       "<style>\n",
       "  #altair-viz-1c62004e197c4727a0795c4a1d3dcfe5.vega-embed {\n",
       "    width: 100%;\n",
       "    display: flex;\n",
       "  }\n",
       "\n",
       "  #altair-viz-1c62004e197c4727a0795c4a1d3dcfe5.vega-embed details,\n",
       "  #altair-viz-1c62004e197c4727a0795c4a1d3dcfe5.vega-embed details summary {\n",
       "    position: relative;\n",
       "  }\n",
       "</style>\n",
       "<div id=\"altair-viz-1c62004e197c4727a0795c4a1d3dcfe5\"></div>\n",
       "<script type=\"text/javascript\">\n",
       "  var VEGA_DEBUG = (typeof VEGA_DEBUG == \"undefined\") ? {} : VEGA_DEBUG;\n",
       "  (function(spec, embedOpt){\n",
       "    let outputDiv = document.currentScript.previousElementSibling;\n",
       "    if (outputDiv.id !== \"altair-viz-1c62004e197c4727a0795c4a1d3dcfe5\") {\n",
       "      outputDiv = document.getElementById(\"altair-viz-1c62004e197c4727a0795c4a1d3dcfe5\");\n",
       "    }\n",
       "\n",
       "    const paths = {\n",
       "      \"vega\": \"https://cdn.jsdelivr.net/npm/vega@5?noext\",\n",
       "      \"vega-lib\": \"https://cdn.jsdelivr.net/npm/vega-lib?noext\",\n",
       "      \"vega-lite\": \"https://cdn.jsdelivr.net/npm/vega-lite@5.20.1?noext\",\n",
       "      \"vega-embed\": \"https://cdn.jsdelivr.net/npm/vega-embed@6?noext\",\n",
       "    };\n",
       "\n",
       "    function maybeLoadScript(lib, version) {\n",
       "      var key = `${lib.replace(\"-\", \"\")}_version`;\n",
       "      return (VEGA_DEBUG[key] == version) ?\n",
       "        Promise.resolve(paths[lib]) :\n",
       "        new Promise(function(resolve, reject) {\n",
       "          var s = document.createElement('script');\n",
       "          document.getElementsByTagName(\"head\")[0].appendChild(s);\n",
       "          s.async = true;\n",
       "          s.onload = () => {\n",
       "            VEGA_DEBUG[key] = version;\n",
       "            return resolve(paths[lib]);\n",
       "          };\n",
       "          s.onerror = () => reject(`Error loading script: ${paths[lib]}`);\n",
       "          s.src = paths[lib];\n",
       "        });\n",
       "    }\n",
       "\n",
       "    function showError(err) {\n",
       "      outputDiv.innerHTML = `<div class=\"error\" style=\"color:red;\">${err}</div>`;\n",
       "      throw err;\n",
       "    }\n",
       "\n",
       "    function displayChart(vegaEmbed) {\n",
       "      vegaEmbed(outputDiv, spec, embedOpt)\n",
       "        .catch(err => showError(`Javascript Error: ${err.message}<br>This usually means there's a typo in your chart specification. See the javascript console for the full traceback.`));\n",
       "    }\n",
       "\n",
       "    if(typeof define === \"function\" && define.amd) {\n",
       "      requirejs.config({paths});\n",
       "      let deps = [\"vega-embed\"];\n",
       "      require(deps, displayChart, err => showError(`Error loading script: ${err.message}`));\n",
       "    } else {\n",
       "      maybeLoadScript(\"vega\", \"5\")\n",
       "        .then(() => maybeLoadScript(\"vega-lite\", \"5.20.1\"))\n",
       "        .then(() => maybeLoadScript(\"vega-embed\", \"6\"))\n",
       "        .catch(showError)\n",
       "        .then(() => displayChart(vegaEmbed));\n",
       "    }\n",
       "  })({\"config\": {\"view\": {\"continuousWidth\": 300, \"continuousHeight\": 300}}, \"data\": {\"name\": \"data-ea21e68f3bb020e390335d7d14f74cd9\"}, \"mark\": {\"type\": \"line\", \"point\": true}, \"encoding\": {\"color\": {\"field\": \"Characteristic\", \"title\": \"Caract\\u00e9ristiques\", \"type\": \"nominal\"}, \"tooltip\": [{\"field\": \"Year\", \"type\": \"quantitative\"}, {\"field\": \"Characteristic\", \"type\": \"nominal\"}, {\"field\": \"Value\", \"type\": \"quantitative\"}], \"x\": {\"field\": \"Year\", \"title\": \"Ann\\u00e9e\", \"type\": \"ordinal\"}, \"y\": {\"field\": \"Value\", \"scale\": {\"type\": \"log\"}, \"title\": \"Valeur m\\u00e9diane\", \"type\": \"quantitative\"}}, \"height\": 400, \"params\": [{\"name\": \"param_3\", \"select\": {\"type\": \"interval\", \"encodings\": [\"x\", \"y\"]}, \"bind\": \"scales\"}], \"width\": 800, \"$schema\": \"https://vega.github.io/schema/vega-lite/v5.20.1.json\", \"datasets\": {\"data-ea21e68f3bb020e390335d7d14f74cd9\": [{\"Year\": 2019, \"Characteristic\": \"commits\", \"Value\": 1442.5}, {\"Year\": 2019, \"Characteristic\": \"branches\", \"Value\": 9.0}, {\"Year\": 2019, \"Characteristic\": \"releases\", \"Value\": 34.0}, {\"Year\": 2019, \"Characteristic\": \"contributors\", \"Value\": 41.0}, {\"Year\": 2019, \"Characteristic\": \"stars\", \"Value\": 844.0}, {\"Year\": 2019, \"Characteristic\": \"issues\", \"Value\": 218.5}, {\"Year\": 2019, \"Characteristic\": \"pullrequests\", \"Value\": 430.5}, {\"Year\": 2019, \"Characteristic\": \"codelines\", \"Value\": 29543.0}, {\"Year\": 2019, \"Characteristic\": \"size\", \"Value\": 13453.0}, {\"Year\": 2020, \"Characteristic\": \"commits\", \"Value\": 1258.0}, {\"Year\": 2020, \"Characteristic\": \"branches\", \"Value\": 10.0}, {\"Year\": 2020, \"Characteristic\": \"releases\", \"Value\": 29.0}, {\"Year\": 2020, \"Characteristic\": \"contributors\", \"Value\": 36.0}, {\"Year\": 2020, \"Characteristic\": \"stars\", \"Value\": 575.5}, {\"Year\": 2020, \"Characteristic\": \"issues\", \"Value\": 205.0}, {\"Year\": 2020, \"Characteristic\": \"pullrequests\", \"Value\": 363.5}, {\"Year\": 2020, \"Characteristic\": \"codelines\", \"Value\": 30792.5}, {\"Year\": 2020, \"Characteristic\": \"size\", \"Value\": 12784.5}, {\"Year\": 2021, \"Characteristic\": \"commits\", \"Value\": 1148.0}, {\"Year\": 2021, \"Characteristic\": \"branches\", \"Value\": 9.0}, {\"Year\": 2021, \"Characteristic\": \"releases\", \"Value\": 24.0}, {\"Year\": 2021, \"Characteristic\": \"contributors\", \"Value\": 33.0}, {\"Year\": 2021, \"Characteristic\": \"stars\", \"Value\": 524.0}, {\"Year\": 2021, \"Characteristic\": \"issues\", \"Value\": 187.0}, {\"Year\": 2021, \"Characteristic\": \"pullrequests\", \"Value\": 305.0}, {\"Year\": 2021, \"Characteristic\": \"codelines\", \"Value\": 29103.0}, {\"Year\": 2021, \"Characteristic\": \"size\", \"Value\": 11083.0}, {\"Year\": 2022, \"Characteristic\": \"commits\", \"Value\": 1071.0}, {\"Year\": 2022, \"Characteristic\": \"branches\", \"Value\": 9.0}, {\"Year\": 2022, \"Characteristic\": \"releases\", \"Value\": 22.0}, {\"Year\": 2022, \"Characteristic\": \"contributors\", \"Value\": 30.0}, {\"Year\": 2022, \"Characteristic\": \"stars\", \"Value\": 493.0}, {\"Year\": 2022, \"Characteristic\": \"issues\", \"Value\": 172.0}, {\"Year\": 2022, \"Characteristic\": \"pullrequests\", \"Value\": 274.0}, {\"Year\": 2022, \"Characteristic\": \"codelines\", \"Value\": 28942.0}, {\"Year\": 2022, \"Characteristic\": \"size\", \"Value\": 10872.0}, {\"Year\": 2023, \"Characteristic\": \"commits\", \"Value\": 1018.0}, {\"Year\": 2023, \"Characteristic\": \"branches\", \"Value\": 8.0}, {\"Year\": 2023, \"Characteristic\": \"releases\", \"Value\": 21.0}, {\"Year\": 2023, \"Characteristic\": \"contributors\", \"Value\": 28.0}, {\"Year\": 2023, \"Characteristic\": \"stars\", \"Value\": 471.0}, {\"Year\": 2023, \"Characteristic\": \"issues\", \"Value\": 160.0}, {\"Year\": 2023, \"Characteristic\": \"pullrequests\", \"Value\": 252.0}, {\"Year\": 2023, \"Characteristic\": \"codelines\", \"Value\": 29222.0}, {\"Year\": 2023, \"Characteristic\": \"size\", \"Value\": 10918.0}, {\"Year\": 2024, \"Characteristic\": \"commits\", \"Value\": 990.0}, {\"Year\": 2024, \"Characteristic\": \"branches\", \"Value\": 8.0}, {\"Year\": 2024, \"Characteristic\": \"releases\", \"Value\": 20.0}, {\"Year\": 2024, \"Characteristic\": \"contributors\", \"Value\": 27.0}, {\"Year\": 2024, \"Characteristic\": \"stars\", \"Value\": 464.0}, {\"Year\": 2024, \"Characteristic\": \"issues\", \"Value\": 155.0}, {\"Year\": 2024, \"Characteristic\": \"pullrequests\", \"Value\": 237.0}, {\"Year\": 2024, \"Characteristic\": \"codelines\", \"Value\": 29146.0}, {\"Year\": 2024, \"Characteristic\": \"size\", \"Value\": 10995.0}]}}, {\"mode\": \"vega-lite\"});\n",
       "</script>"
      ],
      "text/plain": [
       "alt.Chart(...)"
      ]
     },
     "metadata": {},
     "output_type": "display_data"
    }
   ],
   "execution_count": 14
  },
  {
   "metadata": {},
   "cell_type": "markdown",
   "source": [
    "### Snapshot parsing\n",
    "\n",
    "- Two possibilities for parsing the snapshots:\n",
    "    1. Parse directly files from dataset. DISCLAIMER: takes a lot of time (approx. 45 min depending on your computer) due to the large number of files that have to be parsed. For this method you need to have downloaded and extracted the dataset archive as mentioned in the thesis report.\n",
    "    2. Load from parsed results. Parsing results used for the study are stored in different result files in `../out/` with format `parsed_snapshot_*.pkl.gz`. This option is faster, around 30 to 60 seconds depending on your configuration\n",
    "\n",
    "- For the first method set `PARSE_DATA = True`, it will overwrite the already existing results. Once you start this method don't interrupt as result files might get corrupted"
   ],
   "id": "e6f4d5008bb1262d"
  },
  {
   "metadata": {
    "ExecuteTime": {
     "end_time": "2025-06-11T06:56:57.416968Z",
     "start_time": "2025-06-11T06:56:26.897774Z"
    }
   },
   "cell_type": "code",
   "source": [
    "PARSE_DATA = False\n",
    "parsed_snapshots = []\n",
    "\n",
    "if PARSE_DATA:\n",
    "    for year, snapshot in filtered_snapshots:\n",
    "        parsed_workflows = parser.parse_snapshot(snapshot)\n",
    "        # Using .txt is too heavy as there are 350MB+ files,\n",
    "        # So I use pickle to save the data as a bytestream and gzip to compress it\n",
    "        with gzip.open(f\"../out/parsed_snapshot_{year}.pkl.gz\", \"wb\") as f:\n",
    "            pickle.dump(parsed_workflows, f, protocol=pickle.HIGHEST_PROTOCOL)\n",
    "        parsed_snapshots.append((year, parsed_workflows))\n",
    "\n",
    "else:\n",
    "    for year in range(2019,2025):\n",
    "        with gzip.open(f\"../out/parsed_snapshot_{year}.pkl.gz\", \"rb\") as f:\n",
    "            parsed_workflows = pickle.load(f)\n",
    "        parsed_snapshots.append((year, parsed_workflows))"
   ],
   "id": "9f1b28a80ad8d906",
   "outputs": [],
   "execution_count": 15
  },
  {
   "metadata": {
    "ExecuteTime": {
     "end_time": "2025-06-11T06:57:37.469616Z",
     "start_time": "2025-06-11T06:57:37.466561Z"
    }
   },
   "cell_type": "code",
   "source": [
    "for year, parsed_workflows in parsed_snapshots:\n",
    "    print(f\"Année: {year}\")\n",
    "    print(f\"Nombre de workflows parsés: {len(parsed_workflows)}\")\n",
    "    print()"
   ],
   "id": "1c513d381aa27c91",
   "outputs": [
    {
     "name": "stdout",
     "output_type": "stream",
     "text": [
      "Année: 2019\n",
      "Nombre de workflows parsés: 1898\n",
      "\n",
      "Année: 2020\n",
      "Nombre de workflows parsés: 31044\n",
      "\n",
      "Année: 2021\n",
      "Nombre de workflows parsés: 79332\n",
      "\n",
      "Année: 2022\n",
      "Nombre de workflows parsés: 127414\n",
      "\n",
      "Année: 2023\n",
      "Nombre de workflows parsés: 178450\n",
      "\n",
      "Année: 2024\n",
      "Nombre de workflows parsés: 218625\n",
      "\n"
     ]
    }
   ],
   "execution_count": 16
  },
  {
   "metadata": {},
   "cell_type": "markdown",
   "source": [
    "### Extract events from snapshots\n",
    "- Gather for each workflow of a snapshot its different trigger events"
   ],
   "id": "95d30cea7969f464"
  },
  {
   "metadata": {
    "ExecuteTime": {
     "end_time": "2025-06-11T06:57:48.483526Z",
     "start_time": "2025-06-11T06:57:47.983059Z"
    }
   },
   "cell_type": "code",
   "source": [
    "snapshot_events = []\n",
    "\n",
    "for year, parsed_workflows in parsed_snapshots:\n",
    "    events = info_extractor.extract_events_from_parsed(parsed_workflows)\n",
    "    snapshot_events.append((year, events))"
   ],
   "id": "3ed1c3859a2deecd",
   "outputs": [],
   "execution_count": 17
  },
  {
   "metadata": {},
   "cell_type": "markdown",
   "source": [
    "- Then we need to extract a count of the different events for each snapshot.\n",
    "- The idea is to have, on one hand, the proportion of workflow using each event and on the other hand, the proportion of repositories using each event."
   ],
   "id": "c1a3e37560d463b9"
  },
  {
   "metadata": {
    "ExecuteTime": {
     "end_time": "2025-06-11T06:58:20.159997Z",
     "start_time": "2025-06-11T06:58:18.876144Z"
    }
   },
   "cell_type": "code",
   "source": [
    "events_dataframes, yearly_events_medians, pairs_dataframes = info_extractor.count_events(snapshot_events, repositories)\n",
    "\n",
    "for year, event_dataframe in events_dataframes:\n",
    "    print(f\"Year {year}:\")\n",
    "    # head(20) will display the top 20\n",
    "    print(event_dataframe.head(20))\n",
    "    print()"
   ],
   "id": "bb22d7796504daae",
   "outputs": [
    {
     "name": "stdout",
     "output_type": "stream",
     "text": [
      "Year 2019:\n",
      "                  event  workflow_proportion  repo_proportion\n",
      "0                  push                79.03            87.98\n",
      "1          pull_request                41.20            48.72\n",
      "2              schedule                 6.80             8.81\n",
      "3               release                 3.16             4.17\n",
      "4                issues                 1.63             2.32\n",
      "5         issue_comment                 0.95             1.20\n",
      "6                create                 0.37             0.56\n",
      "7                status                 0.37             0.56\n",
      "8   repository_dispatch                 0.32             0.32\n",
      "9   pull_request_review                 0.21             0.32\n",
      "10                watch                 0.16             0.16\n",
      "11            milestone                 0.11             0.16\n",
      "12                label                 0.05             0.08\n",
      "13                 fork                 0.05             0.08\n",
      "14          check_suite                 0.05             0.08\n",
      "15           deployment                 0.05             0.08\n",
      "\n",
      "Year 2020:\n",
      "                  event  workflow_proportion  repo_proportion\n",
      "0                  push                73.60            88.70\n",
      "1          pull_request                54.50            74.54\n",
      "2              schedule                14.04            23.06\n",
      "3               release                 5.07             9.60\n",
      "4     workflow_dispatch                 3.02             4.30\n",
      "5                issues                 1.98             4.11\n",
      "6   repository_dispatch                 1.44             2.06\n",
      "7         issue_comment                 1.15             2.51\n",
      "8   pull_request_target                 0.77             1.53\n",
      "9                create                 0.61             0.98\n",
      "10  pull_request_review                 0.41             0.88\n",
      "11               status                 0.37             0.83\n",
      "12          check_suite                 0.25             0.56\n",
      "13                watch                 0.19             0.31\n",
      "14            milestone                 0.13             0.30\n",
      "15         workflow_run                 0.08             0.14\n",
      "16                label                 0.05             0.07\n",
      "17           deployment                 0.05             0.11\n",
      "18            check_run                 0.04             0.09\n",
      "19               delete                 0.04             0.09\n",
      "\n",
      "Year 2021:\n",
      "                          event  workflow_proportion  repo_proportion\n",
      "0                          push                71.28            93.60\n",
      "1                  pull_request                56.03            84.18\n",
      "2                      schedule                14.40            26.38\n",
      "3             workflow_dispatch                13.76            18.77\n",
      "4                       release                 4.83            11.07\n",
      "5           pull_request_target                 2.03             4.42\n",
      "6                        issues                 1.62             3.90\n",
      "7                 issue_comment                 1.48             3.83\n",
      "8           repository_dispatch                 1.35             1.69\n",
      "9                  workflow_run                 0.76             1.72\n",
      "10                       create                 0.47             0.98\n",
      "11          pull_request_review                 0.32             0.79\n",
      "12                        watch                 0.32             0.21\n",
      "13                       status                 0.23             0.63\n",
      "14                  check_suite                 0.18             0.47\n",
      "15                    milestone                 0.11             0.33\n",
      "16                       delete                 0.06             0.17\n",
      "17                    check_run                 0.04             0.11\n",
      "18  pull_request_review_comment                 0.04             0.11\n",
      "19                        label                 0.03             0.04\n",
      "\n",
      "Year 2022:\n",
      "                     event  workflow_proportion  repo_proportion\n",
      "0                     push                67.32            94.13\n",
      "1             pull_request                53.98            85.65\n",
      "2        workflow_dispatch                19.83            28.36\n",
      "3                 schedule                14.78            30.21\n",
      "4                  release                 4.75            12.90\n",
      "5      pull_request_target                 2.70             6.70\n",
      "6                   issues                 1.86             5.20\n",
      "7            issue_comment                 1.51             4.53\n",
      "8            workflow_call                 1.25             1.94\n",
      "9      repository_dispatch                 1.23             1.71\n",
      "10            workflow_run                 1.00             2.68\n",
      "11                  create                 0.36             0.94\n",
      "12     pull_request_review                 0.26             0.82\n",
      "13                   watch                 0.21             0.18\n",
      "14                  status                 0.17             0.55\n",
      "15             check_suite                 0.13             0.42\n",
      "16  branch_protection_rule                 0.11             0.39\n",
      "17               milestone                 0.08             0.29\n",
      "18                  delete                 0.07             0.23\n",
      "19               check_run                 0.04             0.14\n",
      "\n",
      "Year 2023:\n",
      "                     event  workflow_proportion  repo_proportion\n",
      "0                     push                63.20            94.33\n",
      "1             pull_request                51.01            86.23\n",
      "2        workflow_dispatch                24.59            36.06\n",
      "3                 schedule                14.88            33.26\n",
      "4                  release                 4.55            14.42\n",
      "5      pull_request_target                 3.19             8.79\n",
      "6            workflow_call                 2.98             4.42\n",
      "7                   issues                 2.04             6.36\n",
      "8            issue_comment                 1.47             5.14\n",
      "9             workflow_run                 1.19             3.60\n",
      "10     repository_dispatch                 1.07             1.83\n",
      "11             merge_group                 0.84             1.40\n",
      "12     pull_request_review                 0.27             1.03\n",
      "13                  create                 0.27             0.86\n",
      "14  branch_protection_rule                 0.20             0.86\n",
      "15                   watch                 0.16             0.18\n",
      "16                  status                 0.13             0.51\n",
      "17             check_suite                 0.10             0.40\n",
      "18               milestone                 0.07             0.28\n",
      "19                  delete                 0.07             0.29\n",
      "\n",
      "Year 2024:\n",
      "                     event  workflow_proportion  repo_proportion\n",
      "0                     push                60.52            94.50\n",
      "1             pull_request                49.27            86.77\n",
      "2        workflow_dispatch                27.96            42.25\n",
      "3                 schedule                14.95            35.63\n",
      "4                  release                 4.50            15.78\n",
      "5            workflow_call                 4.08             6.21\n",
      "6      pull_request_target                 3.35            10.35\n",
      "7                   issues                 2.04             7.06\n",
      "8            issue_comment                 1.50             5.71\n",
      "9             workflow_run                 1.32             4.38\n",
      "10             merge_group                 1.13             2.14\n",
      "11     repository_dispatch                 1.01             1.99\n",
      "12  branch_protection_rule                 0.27             1.29\n",
      "13     pull_request_review                 0.27             1.15\n",
      "14                  create                 0.23             0.81\n",
      "15                   watch                 0.13             0.18\n",
      "16                  status                 0.11             0.49\n",
      "17             check_suite                 0.09             0.40\n",
      "18                  delete                 0.06             0.30\n",
      "19               milestone                 0.06             0.28\n",
      "\n"
     ]
    }
   ],
   "execution_count": 18
  },
  {
   "metadata": {},
   "cell_type": "markdown",
   "source": "##3 Draw a line chart of the evolution of Events proportion through the snapshots",
   "id": "7c1191bef9c66178"
  },
  {
   "metadata": {
    "ExecuteTime": {
     "end_time": "2025-06-11T06:58:35.189594Z",
     "start_time": "2025-06-11T06:58:33.764863Z"
    }
   },
   "cell_type": "code",
   "source": [
    "data_workflow = []\n",
    "data_repo = []\n",
    "\n",
    "for year, event_df in events_dataframes:\n",
    "    top_10_events = event_df.head(10)\n",
    "\n",
    "    for _, row in top_10_events.iterrows():\n",
    "        data_workflow.append({\n",
    "            'Year': year,\n",
    "            'Event': row['event'],\n",
    "            'Percentage': row['workflow_proportion'],\n",
    "        })\n",
    "\n",
    "        data_repo.append({\n",
    "            'Year': year,\n",
    "            'Event': row['event'],\n",
    "            'Percentage': row['repo_proportion'],\n",
    "        })\n",
    "\n",
    "workflow_df = pd.DataFrame(data_workflow)\n",
    "repo_df = pd.DataFrame(data_repo)\n",
    "\n",
    "order_event_2024 = workflow_df[workflow_df['Year'] == 2024].sort_values(by='Percentage', ascending=False)['Event'].tolist()\n",
    "top5_events = order_event_2024[:5]\n",
    "rest_events = order_event_2024[5:]\n",
    "\n",
    "# Random color palette generated thanks to AI.\n",
    "color_palette = [\n",
    "    '#1f77b4', '#ff7f0e', '#2ca02c', '#d62728', '#9467bd',\n",
    "    '#8c564b', '#e377c2', '#7f7f7f', '#bcbd22', '#17becf',\n",
    "    '#aec7e8', '#ffbb78', '#98df8a', '#ff9896', '#c5b0d5',\n",
    "    '#c49c94', '#f7b6d2', '#c7c7c7', '#dbdb8d', '#9edae5'\n",
    "]\n",
    "\n",
    "workflow_top_df = workflow_df[workflow_df['Event'].isin(top5_events)].copy()\n",
    "workflow_rest_df = workflow_df[workflow_df['Event'].isin(rest_events)].copy()\n",
    "\n",
    "repo_top_df = repo_df[repo_df['Event'].isin(top5_events)].copy()\n",
    "repo_rest_df = repo_df[repo_df['Event'].isin(rest_events)].copy()\n",
    "\n",
    "workflow_chart_top5 = alt.Chart(workflow_top_df).mark_line(point=True).encode(\n",
    "    x=alt.X('Year:O', title=\"Année\"),\n",
    "    y=alt.Y('Percentage:Q', title=\"Pourcentage\", scale=alt.Scale(domain=[0,80])),\n",
    "    color=alt.Color('Event:N', title=\"Événements\", sort=order_event_2024,  scale=alt.Scale(range=color_palette)),\n",
    ").properties(\n",
    "    width=800,\n",
    "    height=400\n",
    ").interactive()\n",
    "\n",
    "workflow_chart_rest = alt.Chart(workflow_rest_df).mark_line(point=True).encode(\n",
    "    x=alt.X('Year:O', title=\"Année\"),\n",
    "    y=alt.Y('Percentage:Q', title=\"Pourcentage\", scale=alt.Scale(domain=[0,10])),\n",
    "    color=alt.Color('Event:N', title=\"Événements\", sort=order_event_2024,  scale=alt.Scale(range=color_palette)),\n",
    ").properties(\n",
    "    width=800,\n",
    "    height=400\n",
    ").interactive()\n",
    "\n",
    "repo_chart_top5 = alt.Chart(repo_top_df).mark_line(point=True).encode(\n",
    "    x=alt.X('Year:O', title=\"Année\"),\n",
    "    y=alt.Y('Percentage:Q', title=\"Pourcentage\", scale=alt.Scale(domain=[0,100])),\n",
    "    color=alt.Color('Event:N', title=\"Événements\", sort=order_event_2024,  scale=alt.Scale(range=color_palette)),\n",
    ").properties(\n",
    "    width=800,\n",
    "    height=400\n",
    ").interactive()\n",
    "\n",
    "repo_chart_rest = alt.Chart(repo_rest_df).mark_line(point=True).encode(\n",
    "    x=alt.X('Year:O', title=\"Année\"),\n",
    "    y=alt.Y('Percentage:Q', title=\"Pourcentage\", scale=alt.Scale(domain=[0,15])),\n",
    "    color=alt.Color('Event:N', title=\"Événements\", sort=order_event_2024,  scale=alt.Scale(range=color_palette)),\n",
    ").properties(\n",
    "    width=800,\n",
    "    height=400\n",
    ").interactive()\n",
    "\n",
    "workflow_chart_top5.show()\n",
    "workflow_chart_top5.save(\"../out/charts/top5_events_workflow.png\")\n",
    "workflow_chart_rest.show()\n",
    "workflow_chart_rest.save(\"../out/charts/rest_events_workflow.png\")\n",
    "repo_chart_top5.show()\n",
    "repo_chart_top5.save(\"../out/charts/top5_events_repo.png\")\n",
    "repo_chart_rest.show()\n",
    "repo_chart_rest.save(\"../out/charts/rest_events_repo.png\")"
   ],
   "id": "4377615047f63556",
   "outputs": [
    {
     "data": {
      "text/html": [
       "\n",
       "<style>\n",
       "  #altair-viz-4aaa0361354f49d5896c36f7699baa90.vega-embed {\n",
       "    width: 100%;\n",
       "    display: flex;\n",
       "  }\n",
       "\n",
       "  #altair-viz-4aaa0361354f49d5896c36f7699baa90.vega-embed details,\n",
       "  #altair-viz-4aaa0361354f49d5896c36f7699baa90.vega-embed details summary {\n",
       "    position: relative;\n",
       "  }\n",
       "</style>\n",
       "<div id=\"altair-viz-4aaa0361354f49d5896c36f7699baa90\"></div>\n",
       "<script type=\"text/javascript\">\n",
       "  var VEGA_DEBUG = (typeof VEGA_DEBUG == \"undefined\") ? {} : VEGA_DEBUG;\n",
       "  (function(spec, embedOpt){\n",
       "    let outputDiv = document.currentScript.previousElementSibling;\n",
       "    if (outputDiv.id !== \"altair-viz-4aaa0361354f49d5896c36f7699baa90\") {\n",
       "      outputDiv = document.getElementById(\"altair-viz-4aaa0361354f49d5896c36f7699baa90\");\n",
       "    }\n",
       "\n",
       "    const paths = {\n",
       "      \"vega\": \"https://cdn.jsdelivr.net/npm/vega@5?noext\",\n",
       "      \"vega-lib\": \"https://cdn.jsdelivr.net/npm/vega-lib?noext\",\n",
       "      \"vega-lite\": \"https://cdn.jsdelivr.net/npm/vega-lite@5.20.1?noext\",\n",
       "      \"vega-embed\": \"https://cdn.jsdelivr.net/npm/vega-embed@6?noext\",\n",
       "    };\n",
       "\n",
       "    function maybeLoadScript(lib, version) {\n",
       "      var key = `${lib.replace(\"-\", \"\")}_version`;\n",
       "      return (VEGA_DEBUG[key] == version) ?\n",
       "        Promise.resolve(paths[lib]) :\n",
       "        new Promise(function(resolve, reject) {\n",
       "          var s = document.createElement('script');\n",
       "          document.getElementsByTagName(\"head\")[0].appendChild(s);\n",
       "          s.async = true;\n",
       "          s.onload = () => {\n",
       "            VEGA_DEBUG[key] = version;\n",
       "            return resolve(paths[lib]);\n",
       "          };\n",
       "          s.onerror = () => reject(`Error loading script: ${paths[lib]}`);\n",
       "          s.src = paths[lib];\n",
       "        });\n",
       "    }\n",
       "\n",
       "    function showError(err) {\n",
       "      outputDiv.innerHTML = `<div class=\"error\" style=\"color:red;\">${err}</div>`;\n",
       "      throw err;\n",
       "    }\n",
       "\n",
       "    function displayChart(vegaEmbed) {\n",
       "      vegaEmbed(outputDiv, spec, embedOpt)\n",
       "        .catch(err => showError(`Javascript Error: ${err.message}<br>This usually means there's a typo in your chart specification. See the javascript console for the full traceback.`));\n",
       "    }\n",
       "\n",
       "    if(typeof define === \"function\" && define.amd) {\n",
       "      requirejs.config({paths});\n",
       "      let deps = [\"vega-embed\"];\n",
       "      require(deps, displayChart, err => showError(`Error loading script: ${err.message}`));\n",
       "    } else {\n",
       "      maybeLoadScript(\"vega\", \"5\")\n",
       "        .then(() => maybeLoadScript(\"vega-lite\", \"5.20.1\"))\n",
       "        .then(() => maybeLoadScript(\"vega-embed\", \"6\"))\n",
       "        .catch(showError)\n",
       "        .then(() => displayChart(vegaEmbed));\n",
       "    }\n",
       "  })({\"config\": {\"view\": {\"continuousWidth\": 300, \"continuousHeight\": 300}}, \"data\": {\"name\": \"data-11c5f31b314b55bdd7bb0c64988e7914\"}, \"mark\": {\"type\": \"line\", \"point\": true}, \"encoding\": {\"color\": {\"field\": \"Event\", \"scale\": {\"range\": [\"#1f77b4\", \"#ff7f0e\", \"#2ca02c\", \"#d62728\", \"#9467bd\", \"#8c564b\", \"#e377c2\", \"#7f7f7f\", \"#bcbd22\", \"#17becf\", \"#aec7e8\", \"#ffbb78\", \"#98df8a\", \"#ff9896\", \"#c5b0d5\", \"#c49c94\", \"#f7b6d2\", \"#c7c7c7\", \"#dbdb8d\", \"#9edae5\"]}, \"sort\": [\"push\", \"pull_request\", \"workflow_dispatch\", \"schedule\", \"release\", \"workflow_call\", \"pull_request_target\", \"issues\", \"issue_comment\", \"workflow_run\"], \"title\": \"\\u00c9v\\u00e9nements\", \"type\": \"nominal\"}, \"x\": {\"field\": \"Year\", \"title\": \"Ann\\u00e9e\", \"type\": \"ordinal\"}, \"y\": {\"field\": \"Percentage\", \"scale\": {\"domain\": [0, 80]}, \"title\": \"Pourcentage\", \"type\": \"quantitative\"}}, \"height\": 400, \"params\": [{\"name\": \"param_4\", \"select\": {\"type\": \"interval\", \"encodings\": [\"x\", \"y\"]}, \"bind\": \"scales\"}], \"width\": 800, \"$schema\": \"https://vega.github.io/schema/vega-lite/v5.20.1.json\", \"datasets\": {\"data-11c5f31b314b55bdd7bb0c64988e7914\": [{\"Year\": 2019, \"Event\": \"push\", \"Percentage\": 79.03}, {\"Year\": 2019, \"Event\": \"pull_request\", \"Percentage\": 41.2}, {\"Year\": 2019, \"Event\": \"schedule\", \"Percentage\": 6.8}, {\"Year\": 2019, \"Event\": \"release\", \"Percentage\": 3.16}, {\"Year\": 2020, \"Event\": \"push\", \"Percentage\": 73.6}, {\"Year\": 2020, \"Event\": \"pull_request\", \"Percentage\": 54.5}, {\"Year\": 2020, \"Event\": \"schedule\", \"Percentage\": 14.04}, {\"Year\": 2020, \"Event\": \"release\", \"Percentage\": 5.07}, {\"Year\": 2020, \"Event\": \"workflow_dispatch\", \"Percentage\": 3.02}, {\"Year\": 2021, \"Event\": \"push\", \"Percentage\": 71.28}, {\"Year\": 2021, \"Event\": \"pull_request\", \"Percentage\": 56.03}, {\"Year\": 2021, \"Event\": \"schedule\", \"Percentage\": 14.4}, {\"Year\": 2021, \"Event\": \"workflow_dispatch\", \"Percentage\": 13.76}, {\"Year\": 2021, \"Event\": \"release\", \"Percentage\": 4.83}, {\"Year\": 2022, \"Event\": \"push\", \"Percentage\": 67.32}, {\"Year\": 2022, \"Event\": \"pull_request\", \"Percentage\": 53.98}, {\"Year\": 2022, \"Event\": \"workflow_dispatch\", \"Percentage\": 19.83}, {\"Year\": 2022, \"Event\": \"schedule\", \"Percentage\": 14.78}, {\"Year\": 2022, \"Event\": \"release\", \"Percentage\": 4.75}, {\"Year\": 2023, \"Event\": \"push\", \"Percentage\": 63.2}, {\"Year\": 2023, \"Event\": \"pull_request\", \"Percentage\": 51.01}, {\"Year\": 2023, \"Event\": \"workflow_dispatch\", \"Percentage\": 24.59}, {\"Year\": 2023, \"Event\": \"schedule\", \"Percentage\": 14.88}, {\"Year\": 2023, \"Event\": \"release\", \"Percentage\": 4.55}, {\"Year\": 2024, \"Event\": \"push\", \"Percentage\": 60.52}, {\"Year\": 2024, \"Event\": \"pull_request\", \"Percentage\": 49.27}, {\"Year\": 2024, \"Event\": \"workflow_dispatch\", \"Percentage\": 27.96}, {\"Year\": 2024, \"Event\": \"schedule\", \"Percentage\": 14.95}, {\"Year\": 2024, \"Event\": \"release\", \"Percentage\": 4.5}]}}, {\"mode\": \"vega-lite\"});\n",
       "</script>"
      ],
      "text/plain": [
       "alt.Chart(...)"
      ]
     },
     "metadata": {},
     "output_type": "display_data"
    },
    {
     "data": {
      "text/html": [
       "\n",
       "<style>\n",
       "  #altair-viz-32fc0622edf84e5f8b977bef1b4cc6c4.vega-embed {\n",
       "    width: 100%;\n",
       "    display: flex;\n",
       "  }\n",
       "\n",
       "  #altair-viz-32fc0622edf84e5f8b977bef1b4cc6c4.vega-embed details,\n",
       "  #altair-viz-32fc0622edf84e5f8b977bef1b4cc6c4.vega-embed details summary {\n",
       "    position: relative;\n",
       "  }\n",
       "</style>\n",
       "<div id=\"altair-viz-32fc0622edf84e5f8b977bef1b4cc6c4\"></div>\n",
       "<script type=\"text/javascript\">\n",
       "  var VEGA_DEBUG = (typeof VEGA_DEBUG == \"undefined\") ? {} : VEGA_DEBUG;\n",
       "  (function(spec, embedOpt){\n",
       "    let outputDiv = document.currentScript.previousElementSibling;\n",
       "    if (outputDiv.id !== \"altair-viz-32fc0622edf84e5f8b977bef1b4cc6c4\") {\n",
       "      outputDiv = document.getElementById(\"altair-viz-32fc0622edf84e5f8b977bef1b4cc6c4\");\n",
       "    }\n",
       "\n",
       "    const paths = {\n",
       "      \"vega\": \"https://cdn.jsdelivr.net/npm/vega@5?noext\",\n",
       "      \"vega-lib\": \"https://cdn.jsdelivr.net/npm/vega-lib?noext\",\n",
       "      \"vega-lite\": \"https://cdn.jsdelivr.net/npm/vega-lite@5.20.1?noext\",\n",
       "      \"vega-embed\": \"https://cdn.jsdelivr.net/npm/vega-embed@6?noext\",\n",
       "    };\n",
       "\n",
       "    function maybeLoadScript(lib, version) {\n",
       "      var key = `${lib.replace(\"-\", \"\")}_version`;\n",
       "      return (VEGA_DEBUG[key] == version) ?\n",
       "        Promise.resolve(paths[lib]) :\n",
       "        new Promise(function(resolve, reject) {\n",
       "          var s = document.createElement('script');\n",
       "          document.getElementsByTagName(\"head\")[0].appendChild(s);\n",
       "          s.async = true;\n",
       "          s.onload = () => {\n",
       "            VEGA_DEBUG[key] = version;\n",
       "            return resolve(paths[lib]);\n",
       "          };\n",
       "          s.onerror = () => reject(`Error loading script: ${paths[lib]}`);\n",
       "          s.src = paths[lib];\n",
       "        });\n",
       "    }\n",
       "\n",
       "    function showError(err) {\n",
       "      outputDiv.innerHTML = `<div class=\"error\" style=\"color:red;\">${err}</div>`;\n",
       "      throw err;\n",
       "    }\n",
       "\n",
       "    function displayChart(vegaEmbed) {\n",
       "      vegaEmbed(outputDiv, spec, embedOpt)\n",
       "        .catch(err => showError(`Javascript Error: ${err.message}<br>This usually means there's a typo in your chart specification. See the javascript console for the full traceback.`));\n",
       "    }\n",
       "\n",
       "    if(typeof define === \"function\" && define.amd) {\n",
       "      requirejs.config({paths});\n",
       "      let deps = [\"vega-embed\"];\n",
       "      require(deps, displayChart, err => showError(`Error loading script: ${err.message}`));\n",
       "    } else {\n",
       "      maybeLoadScript(\"vega\", \"5\")\n",
       "        .then(() => maybeLoadScript(\"vega-lite\", \"5.20.1\"))\n",
       "        .then(() => maybeLoadScript(\"vega-embed\", \"6\"))\n",
       "        .catch(showError)\n",
       "        .then(() => displayChart(vegaEmbed));\n",
       "    }\n",
       "  })({\"config\": {\"view\": {\"continuousWidth\": 300, \"continuousHeight\": 300}}, \"data\": {\"name\": \"data-2e711271ef4726f7e9668d4854d870c2\"}, \"mark\": {\"type\": \"line\", \"point\": true}, \"encoding\": {\"color\": {\"field\": \"Event\", \"scale\": {\"range\": [\"#1f77b4\", \"#ff7f0e\", \"#2ca02c\", \"#d62728\", \"#9467bd\", \"#8c564b\", \"#e377c2\", \"#7f7f7f\", \"#bcbd22\", \"#17becf\", \"#aec7e8\", \"#ffbb78\", \"#98df8a\", \"#ff9896\", \"#c5b0d5\", \"#c49c94\", \"#f7b6d2\", \"#c7c7c7\", \"#dbdb8d\", \"#9edae5\"]}, \"sort\": [\"push\", \"pull_request\", \"workflow_dispatch\", \"schedule\", \"release\", \"workflow_call\", \"pull_request_target\", \"issues\", \"issue_comment\", \"workflow_run\"], \"title\": \"\\u00c9v\\u00e9nements\", \"type\": \"nominal\"}, \"x\": {\"field\": \"Year\", \"title\": \"Ann\\u00e9e\", \"type\": \"ordinal\"}, \"y\": {\"field\": \"Percentage\", \"scale\": {\"domain\": [0, 10]}, \"title\": \"Pourcentage\", \"type\": \"quantitative\"}}, \"height\": 400, \"params\": [{\"name\": \"param_5\", \"select\": {\"type\": \"interval\", \"encodings\": [\"x\", \"y\"]}, \"bind\": \"scales\"}], \"width\": 800, \"$schema\": \"https://vega.github.io/schema/vega-lite/v5.20.1.json\", \"datasets\": {\"data-2e711271ef4726f7e9668d4854d870c2\": [{\"Year\": 2019, \"Event\": \"issues\", \"Percentage\": 1.63}, {\"Year\": 2019, \"Event\": \"issue_comment\", \"Percentage\": 0.95}, {\"Year\": 2020, \"Event\": \"issues\", \"Percentage\": 1.98}, {\"Year\": 2020, \"Event\": \"issue_comment\", \"Percentage\": 1.15}, {\"Year\": 2020, \"Event\": \"pull_request_target\", \"Percentage\": 0.77}, {\"Year\": 2021, \"Event\": \"pull_request_target\", \"Percentage\": 2.03}, {\"Year\": 2021, \"Event\": \"issues\", \"Percentage\": 1.62}, {\"Year\": 2021, \"Event\": \"issue_comment\", \"Percentage\": 1.48}, {\"Year\": 2021, \"Event\": \"workflow_run\", \"Percentage\": 0.76}, {\"Year\": 2022, \"Event\": \"pull_request_target\", \"Percentage\": 2.7}, {\"Year\": 2022, \"Event\": \"issues\", \"Percentage\": 1.86}, {\"Year\": 2022, \"Event\": \"issue_comment\", \"Percentage\": 1.51}, {\"Year\": 2022, \"Event\": \"workflow_call\", \"Percentage\": 1.25}, {\"Year\": 2023, \"Event\": \"pull_request_target\", \"Percentage\": 3.19}, {\"Year\": 2023, \"Event\": \"workflow_call\", \"Percentage\": 2.98}, {\"Year\": 2023, \"Event\": \"issues\", \"Percentage\": 2.04}, {\"Year\": 2023, \"Event\": \"issue_comment\", \"Percentage\": 1.47}, {\"Year\": 2023, \"Event\": \"workflow_run\", \"Percentage\": 1.19}, {\"Year\": 2024, \"Event\": \"workflow_call\", \"Percentage\": 4.08}, {\"Year\": 2024, \"Event\": \"pull_request_target\", \"Percentage\": 3.35}, {\"Year\": 2024, \"Event\": \"issues\", \"Percentage\": 2.04}, {\"Year\": 2024, \"Event\": \"issue_comment\", \"Percentage\": 1.5}, {\"Year\": 2024, \"Event\": \"workflow_run\", \"Percentage\": 1.32}]}}, {\"mode\": \"vega-lite\"});\n",
       "</script>"
      ],
      "text/plain": [
       "alt.Chart(...)"
      ]
     },
     "metadata": {},
     "output_type": "display_data"
    },
    {
     "data": {
      "text/html": [
       "\n",
       "<style>\n",
       "  #altair-viz-b69f01c714ef4134b282b51fa942e901.vega-embed {\n",
       "    width: 100%;\n",
       "    display: flex;\n",
       "  }\n",
       "\n",
       "  #altair-viz-b69f01c714ef4134b282b51fa942e901.vega-embed details,\n",
       "  #altair-viz-b69f01c714ef4134b282b51fa942e901.vega-embed details summary {\n",
       "    position: relative;\n",
       "  }\n",
       "</style>\n",
       "<div id=\"altair-viz-b69f01c714ef4134b282b51fa942e901\"></div>\n",
       "<script type=\"text/javascript\">\n",
       "  var VEGA_DEBUG = (typeof VEGA_DEBUG == \"undefined\") ? {} : VEGA_DEBUG;\n",
       "  (function(spec, embedOpt){\n",
       "    let outputDiv = document.currentScript.previousElementSibling;\n",
       "    if (outputDiv.id !== \"altair-viz-b69f01c714ef4134b282b51fa942e901\") {\n",
       "      outputDiv = document.getElementById(\"altair-viz-b69f01c714ef4134b282b51fa942e901\");\n",
       "    }\n",
       "\n",
       "    const paths = {\n",
       "      \"vega\": \"https://cdn.jsdelivr.net/npm/vega@5?noext\",\n",
       "      \"vega-lib\": \"https://cdn.jsdelivr.net/npm/vega-lib?noext\",\n",
       "      \"vega-lite\": \"https://cdn.jsdelivr.net/npm/vega-lite@5.20.1?noext\",\n",
       "      \"vega-embed\": \"https://cdn.jsdelivr.net/npm/vega-embed@6?noext\",\n",
       "    };\n",
       "\n",
       "    function maybeLoadScript(lib, version) {\n",
       "      var key = `${lib.replace(\"-\", \"\")}_version`;\n",
       "      return (VEGA_DEBUG[key] == version) ?\n",
       "        Promise.resolve(paths[lib]) :\n",
       "        new Promise(function(resolve, reject) {\n",
       "          var s = document.createElement('script');\n",
       "          document.getElementsByTagName(\"head\")[0].appendChild(s);\n",
       "          s.async = true;\n",
       "          s.onload = () => {\n",
       "            VEGA_DEBUG[key] = version;\n",
       "            return resolve(paths[lib]);\n",
       "          };\n",
       "          s.onerror = () => reject(`Error loading script: ${paths[lib]}`);\n",
       "          s.src = paths[lib];\n",
       "        });\n",
       "    }\n",
       "\n",
       "    function showError(err) {\n",
       "      outputDiv.innerHTML = `<div class=\"error\" style=\"color:red;\">${err}</div>`;\n",
       "      throw err;\n",
       "    }\n",
       "\n",
       "    function displayChart(vegaEmbed) {\n",
       "      vegaEmbed(outputDiv, spec, embedOpt)\n",
       "        .catch(err => showError(`Javascript Error: ${err.message}<br>This usually means there's a typo in your chart specification. See the javascript console for the full traceback.`));\n",
       "    }\n",
       "\n",
       "    if(typeof define === \"function\" && define.amd) {\n",
       "      requirejs.config({paths});\n",
       "      let deps = [\"vega-embed\"];\n",
       "      require(deps, displayChart, err => showError(`Error loading script: ${err.message}`));\n",
       "    } else {\n",
       "      maybeLoadScript(\"vega\", \"5\")\n",
       "        .then(() => maybeLoadScript(\"vega-lite\", \"5.20.1\"))\n",
       "        .then(() => maybeLoadScript(\"vega-embed\", \"6\"))\n",
       "        .catch(showError)\n",
       "        .then(() => displayChart(vegaEmbed));\n",
       "    }\n",
       "  })({\"config\": {\"view\": {\"continuousWidth\": 300, \"continuousHeight\": 300}}, \"data\": {\"name\": \"data-54a42ca7dd50cb16bb8f3aa4b8a6044a\"}, \"mark\": {\"type\": \"line\", \"point\": true}, \"encoding\": {\"color\": {\"field\": \"Event\", \"scale\": {\"range\": [\"#1f77b4\", \"#ff7f0e\", \"#2ca02c\", \"#d62728\", \"#9467bd\", \"#8c564b\", \"#e377c2\", \"#7f7f7f\", \"#bcbd22\", \"#17becf\", \"#aec7e8\", \"#ffbb78\", \"#98df8a\", \"#ff9896\", \"#c5b0d5\", \"#c49c94\", \"#f7b6d2\", \"#c7c7c7\", \"#dbdb8d\", \"#9edae5\"]}, \"sort\": [\"push\", \"pull_request\", \"workflow_dispatch\", \"schedule\", \"release\", \"workflow_call\", \"pull_request_target\", \"issues\", \"issue_comment\", \"workflow_run\"], \"title\": \"\\u00c9v\\u00e9nements\", \"type\": \"nominal\"}, \"x\": {\"field\": \"Year\", \"title\": \"Ann\\u00e9e\", \"type\": \"ordinal\"}, \"y\": {\"field\": \"Percentage\", \"scale\": {\"domain\": [0, 100]}, \"title\": \"Pourcentage\", \"type\": \"quantitative\"}}, \"height\": 400, \"params\": [{\"name\": \"param_6\", \"select\": {\"type\": \"interval\", \"encodings\": [\"x\", \"y\"]}, \"bind\": \"scales\"}], \"width\": 800, \"$schema\": \"https://vega.github.io/schema/vega-lite/v5.20.1.json\", \"datasets\": {\"data-54a42ca7dd50cb16bb8f3aa4b8a6044a\": [{\"Year\": 2019, \"Event\": \"push\", \"Percentage\": 87.98}, {\"Year\": 2019, \"Event\": \"pull_request\", \"Percentage\": 48.72}, {\"Year\": 2019, \"Event\": \"schedule\", \"Percentage\": 8.81}, {\"Year\": 2019, \"Event\": \"release\", \"Percentage\": 4.17}, {\"Year\": 2020, \"Event\": \"push\", \"Percentage\": 88.7}, {\"Year\": 2020, \"Event\": \"pull_request\", \"Percentage\": 74.54}, {\"Year\": 2020, \"Event\": \"schedule\", \"Percentage\": 23.06}, {\"Year\": 2020, \"Event\": \"release\", \"Percentage\": 9.6}, {\"Year\": 2020, \"Event\": \"workflow_dispatch\", \"Percentage\": 4.3}, {\"Year\": 2021, \"Event\": \"push\", \"Percentage\": 93.6}, {\"Year\": 2021, \"Event\": \"pull_request\", \"Percentage\": 84.18}, {\"Year\": 2021, \"Event\": \"schedule\", \"Percentage\": 26.38}, {\"Year\": 2021, \"Event\": \"workflow_dispatch\", \"Percentage\": 18.77}, {\"Year\": 2021, \"Event\": \"release\", \"Percentage\": 11.07}, {\"Year\": 2022, \"Event\": \"push\", \"Percentage\": 94.13}, {\"Year\": 2022, \"Event\": \"pull_request\", \"Percentage\": 85.65}, {\"Year\": 2022, \"Event\": \"workflow_dispatch\", \"Percentage\": 28.36}, {\"Year\": 2022, \"Event\": \"schedule\", \"Percentage\": 30.21}, {\"Year\": 2022, \"Event\": \"release\", \"Percentage\": 12.9}, {\"Year\": 2023, \"Event\": \"push\", \"Percentage\": 94.33}, {\"Year\": 2023, \"Event\": \"pull_request\", \"Percentage\": 86.23}, {\"Year\": 2023, \"Event\": \"workflow_dispatch\", \"Percentage\": 36.06}, {\"Year\": 2023, \"Event\": \"schedule\", \"Percentage\": 33.26}, {\"Year\": 2023, \"Event\": \"release\", \"Percentage\": 14.42}, {\"Year\": 2024, \"Event\": \"push\", \"Percentage\": 94.5}, {\"Year\": 2024, \"Event\": \"pull_request\", \"Percentage\": 86.77}, {\"Year\": 2024, \"Event\": \"workflow_dispatch\", \"Percentage\": 42.25}, {\"Year\": 2024, \"Event\": \"schedule\", \"Percentage\": 35.63}, {\"Year\": 2024, \"Event\": \"release\", \"Percentage\": 15.78}]}}, {\"mode\": \"vega-lite\"});\n",
       "</script>"
      ],
      "text/plain": [
       "alt.Chart(...)"
      ]
     },
     "metadata": {},
     "output_type": "display_data"
    },
    {
     "data": {
      "text/html": [
       "\n",
       "<style>\n",
       "  #altair-viz-99dab04f5d0b4b2ca79dd66f9e547648.vega-embed {\n",
       "    width: 100%;\n",
       "    display: flex;\n",
       "  }\n",
       "\n",
       "  #altair-viz-99dab04f5d0b4b2ca79dd66f9e547648.vega-embed details,\n",
       "  #altair-viz-99dab04f5d0b4b2ca79dd66f9e547648.vega-embed details summary {\n",
       "    position: relative;\n",
       "  }\n",
       "</style>\n",
       "<div id=\"altair-viz-99dab04f5d0b4b2ca79dd66f9e547648\"></div>\n",
       "<script type=\"text/javascript\">\n",
       "  var VEGA_DEBUG = (typeof VEGA_DEBUG == \"undefined\") ? {} : VEGA_DEBUG;\n",
       "  (function(spec, embedOpt){\n",
       "    let outputDiv = document.currentScript.previousElementSibling;\n",
       "    if (outputDiv.id !== \"altair-viz-99dab04f5d0b4b2ca79dd66f9e547648\") {\n",
       "      outputDiv = document.getElementById(\"altair-viz-99dab04f5d0b4b2ca79dd66f9e547648\");\n",
       "    }\n",
       "\n",
       "    const paths = {\n",
       "      \"vega\": \"https://cdn.jsdelivr.net/npm/vega@5?noext\",\n",
       "      \"vega-lib\": \"https://cdn.jsdelivr.net/npm/vega-lib?noext\",\n",
       "      \"vega-lite\": \"https://cdn.jsdelivr.net/npm/vega-lite@5.20.1?noext\",\n",
       "      \"vega-embed\": \"https://cdn.jsdelivr.net/npm/vega-embed@6?noext\",\n",
       "    };\n",
       "\n",
       "    function maybeLoadScript(lib, version) {\n",
       "      var key = `${lib.replace(\"-\", \"\")}_version`;\n",
       "      return (VEGA_DEBUG[key] == version) ?\n",
       "        Promise.resolve(paths[lib]) :\n",
       "        new Promise(function(resolve, reject) {\n",
       "          var s = document.createElement('script');\n",
       "          document.getElementsByTagName(\"head\")[0].appendChild(s);\n",
       "          s.async = true;\n",
       "          s.onload = () => {\n",
       "            VEGA_DEBUG[key] = version;\n",
       "            return resolve(paths[lib]);\n",
       "          };\n",
       "          s.onerror = () => reject(`Error loading script: ${paths[lib]}`);\n",
       "          s.src = paths[lib];\n",
       "        });\n",
       "    }\n",
       "\n",
       "    function showError(err) {\n",
       "      outputDiv.innerHTML = `<div class=\"error\" style=\"color:red;\">${err}</div>`;\n",
       "      throw err;\n",
       "    }\n",
       "\n",
       "    function displayChart(vegaEmbed) {\n",
       "      vegaEmbed(outputDiv, spec, embedOpt)\n",
       "        .catch(err => showError(`Javascript Error: ${err.message}<br>This usually means there's a typo in your chart specification. See the javascript console for the full traceback.`));\n",
       "    }\n",
       "\n",
       "    if(typeof define === \"function\" && define.amd) {\n",
       "      requirejs.config({paths});\n",
       "      let deps = [\"vega-embed\"];\n",
       "      require(deps, displayChart, err => showError(`Error loading script: ${err.message}`));\n",
       "    } else {\n",
       "      maybeLoadScript(\"vega\", \"5\")\n",
       "        .then(() => maybeLoadScript(\"vega-lite\", \"5.20.1\"))\n",
       "        .then(() => maybeLoadScript(\"vega-embed\", \"6\"))\n",
       "        .catch(showError)\n",
       "        .then(() => displayChart(vegaEmbed));\n",
       "    }\n",
       "  })({\"config\": {\"view\": {\"continuousWidth\": 300, \"continuousHeight\": 300}}, \"data\": {\"name\": \"data-ff6e95b4b0501e7fda7379cc4e923809\"}, \"mark\": {\"type\": \"line\", \"point\": true}, \"encoding\": {\"color\": {\"field\": \"Event\", \"scale\": {\"range\": [\"#1f77b4\", \"#ff7f0e\", \"#2ca02c\", \"#d62728\", \"#9467bd\", \"#8c564b\", \"#e377c2\", \"#7f7f7f\", \"#bcbd22\", \"#17becf\", \"#aec7e8\", \"#ffbb78\", \"#98df8a\", \"#ff9896\", \"#c5b0d5\", \"#c49c94\", \"#f7b6d2\", \"#c7c7c7\", \"#dbdb8d\", \"#9edae5\"]}, \"sort\": [\"push\", \"pull_request\", \"workflow_dispatch\", \"schedule\", \"release\", \"workflow_call\", \"pull_request_target\", \"issues\", \"issue_comment\", \"workflow_run\"], \"title\": \"\\u00c9v\\u00e9nements\", \"type\": \"nominal\"}, \"x\": {\"field\": \"Year\", \"title\": \"Ann\\u00e9e\", \"type\": \"ordinal\"}, \"y\": {\"field\": \"Percentage\", \"scale\": {\"domain\": [0, 15]}, \"title\": \"Pourcentage\", \"type\": \"quantitative\"}}, \"height\": 400, \"params\": [{\"name\": \"param_7\", \"select\": {\"type\": \"interval\", \"encodings\": [\"x\", \"y\"]}, \"bind\": \"scales\"}], \"width\": 800, \"$schema\": \"https://vega.github.io/schema/vega-lite/v5.20.1.json\", \"datasets\": {\"data-ff6e95b4b0501e7fda7379cc4e923809\": [{\"Year\": 2019, \"Event\": \"issues\", \"Percentage\": 2.32}, {\"Year\": 2019, \"Event\": \"issue_comment\", \"Percentage\": 1.2}, {\"Year\": 2020, \"Event\": \"issues\", \"Percentage\": 4.11}, {\"Year\": 2020, \"Event\": \"issue_comment\", \"Percentage\": 2.51}, {\"Year\": 2020, \"Event\": \"pull_request_target\", \"Percentage\": 1.53}, {\"Year\": 2021, \"Event\": \"pull_request_target\", \"Percentage\": 4.42}, {\"Year\": 2021, \"Event\": \"issues\", \"Percentage\": 3.9}, {\"Year\": 2021, \"Event\": \"issue_comment\", \"Percentage\": 3.83}, {\"Year\": 2021, \"Event\": \"workflow_run\", \"Percentage\": 1.72}, {\"Year\": 2022, \"Event\": \"pull_request_target\", \"Percentage\": 6.7}, {\"Year\": 2022, \"Event\": \"issues\", \"Percentage\": 5.2}, {\"Year\": 2022, \"Event\": \"issue_comment\", \"Percentage\": 4.53}, {\"Year\": 2022, \"Event\": \"workflow_call\", \"Percentage\": 1.94}, {\"Year\": 2023, \"Event\": \"pull_request_target\", \"Percentage\": 8.79}, {\"Year\": 2023, \"Event\": \"workflow_call\", \"Percentage\": 4.42}, {\"Year\": 2023, \"Event\": \"issues\", \"Percentage\": 6.36}, {\"Year\": 2023, \"Event\": \"issue_comment\", \"Percentage\": 5.14}, {\"Year\": 2023, \"Event\": \"workflow_run\", \"Percentage\": 3.6}, {\"Year\": 2024, \"Event\": \"workflow_call\", \"Percentage\": 6.21}, {\"Year\": 2024, \"Event\": \"pull_request_target\", \"Percentage\": 10.35}, {\"Year\": 2024, \"Event\": \"issues\", \"Percentage\": 7.06}, {\"Year\": 2024, \"Event\": \"issue_comment\", \"Percentage\": 5.71}, {\"Year\": 2024, \"Event\": \"workflow_run\", \"Percentage\": 4.38}]}}, {\"mode\": \"vega-lite\"});\n",
       "</script>"
      ],
      "text/plain": [
       "alt.Chart(...)"
      ]
     },
     "metadata": {},
     "output_type": "display_data"
    }
   ],
   "execution_count": 19
  },
  {
   "metadata": {},
   "cell_type": "markdown",
   "source": "### Median number of triggers events per workflow through the snapshots",
   "id": "3e3f0277ce846da0"
  },
  {
   "metadata": {
    "ExecuteTime": {
     "end_time": "2025-06-11T06:58:46.932766Z",
     "start_time": "2025-06-11T06:58:46.929896Z"
    }
   },
   "cell_type": "code",
   "source": [
    "for year, median in yearly_events_medians:\n",
    "    print(f\"Year {year}:\")\n",
    "    print(f\"Median number of events per workflow: {median}\")\n",
    "    print()"
   ],
   "id": "894f7b03f7188911",
   "outputs": [
    {
     "name": "stdout",
     "output_type": "stream",
     "text": [
      "Year 2019:\n",
      "Median number of events per workflow: 1.0\n",
      "\n",
      "Year 2020:\n",
      "Median number of events per workflow: 2.0\n",
      "\n",
      "Year 2021:\n",
      "Median number of events per workflow: 2.0\n",
      "\n",
      "Year 2022:\n",
      "Median number of events per workflow: 2.0\n",
      "\n",
      "Year 2023:\n",
      "Median number of events per workflow: 2.0\n",
      "\n",
      "Year 2024:\n",
      "Median number of events per workflow: 2.0\n",
      "\n"
     ]
    }
   ],
   "execution_count": 20
  },
  {
   "metadata": {},
   "cell_type": "markdown",
   "source": "### Most used pairs of trigger events through the snapshots",
   "id": "720a732e2777131a"
  },
  {
   "metadata": {
    "ExecuteTime": {
     "end_time": "2025-06-11T06:58:51.055013Z",
     "start_time": "2025-06-11T06:58:51.039672Z"
    }
   },
   "cell_type": "code",
   "source": [
    "for year, pairs_df in pairs_dataframes:\n",
    "    print(f\"Year {year}:\")\n",
    "    print(f\"Most used pairs of events per workflow: {pairs_df.head(20)}\")\n",
    "    print()"
   ],
   "id": "3151a139ba6b0ae",
   "outputs": [
    {
     "name": "stdout",
     "output_type": "stream",
     "text": [
      "Year 2019:\n",
      "Most used pairs of events per workflow:                                    pair  total  workflow_proportion\n",
      "0                  (pull_request, push)    584                30.77\n",
      "1                      (push, schedule)     40                 2.11\n",
      "2              (pull_request, schedule)     31                 1.63\n",
      "3                (issues, pull_request)     16                 0.84\n",
      "4                       (push, release)      5                 0.26\n",
      "5         (pull_request_review, status)      4                 0.21\n",
      "6   (pull_request, pull_request_review)      4                 0.21\n",
      "7                (pull_request, status)      4                 0.21\n",
      "8           (push, repository_dispatch)      2                 0.11\n",
      "9   (pull_request, repository_dispatch)      2                 0.11\n",
      "10            (issue_comment, schedule)      1                 0.05\n",
      "11                       (issues, push)      1                 0.05\n",
      "12              (pull_request, release)      1                 0.05\n",
      "\n",
      "Year 2020:\n",
      "Most used pairs of events per workflow:                                    pair  total  workflow_proportion\n",
      "0                  (pull_request, push)  13683                44.08\n",
      "1                      (push, schedule)   2079                 6.70\n",
      "2              (pull_request, schedule)   1609                 5.18\n",
      "3             (push, workflow_dispatch)    341                 1.10\n",
      "4         (schedule, workflow_dispatch)    331                 1.07\n",
      "5                       (push, release)    314                 1.01\n",
      "6               (pull_request, release)    218                 0.70\n",
      "7                (issues, pull_request)    201                 0.65\n",
      "8     (pull_request, workflow_dispatch)    194                 0.62\n",
      "9           (push, repository_dispatch)    166                 0.53\n",
      "10                       (create, push)    105                 0.34\n",
      "11  (pull_request, pull_request_review)    101                 0.33\n",
      "12               (create, pull_request)     90                 0.29\n",
      "13               (pull_request, status)     83                 0.27\n",
      "14        (pull_request_review, status)     81                 0.26\n",
      "15      (repository_dispatch, schedule)     77                 0.25\n",
      "16        (issues, pull_request_target)     69                 0.22\n",
      "17                   (issues, schedule)     68                 0.22\n",
      "18          (check_suite, pull_request)     68                 0.22\n",
      "19  (pull_request, repository_dispatch)     67                 0.22\n",
      "\n",
      "Year 2021:\n",
      "Most used pairs of events per workflow:                                         pair  total  workflow_proportion\n",
      "0                       (pull_request, push)  36807                46.40\n",
      "1                           (push, schedule)   5911                 7.45\n",
      "2                   (pull_request, schedule)   5143                 6.48\n",
      "3                  (push, workflow_dispatch)   4892                 6.17\n",
      "4          (pull_request, workflow_dispatch)   3526                 4.44\n",
      "5              (schedule, workflow_dispatch)   3048                 3.84\n",
      "6                            (push, release)    834                 1.05\n",
      "7                    (pull_request, release)    581                 0.73\n",
      "8   (repository_dispatch, workflow_dispatch)    522                 0.66\n",
      "9               (release, workflow_dispatch)    507                 0.64\n",
      "10           (repository_dispatch, schedule)    359                 0.45\n",
      "11               (push, repository_dispatch)    331                 0.42\n",
      "12        (issue_comment, workflow_dispatch)    303                 0.38\n",
      "13                    (issues, pull_request)    300                 0.38\n",
      "14                            (create, push)    224                 0.28\n",
      "15       (pull_request, repository_dispatch)    219                 0.28\n",
      "16               (pull_request_target, push)    205                 0.26\n",
      "17                         (schedule, watch)    195                 0.25\n",
      "18             (issues, pull_request_target)    191                 0.24\n",
      "19                (watch, workflow_dispatch)    191                 0.24\n",
      "\n",
      "Year 2022:\n",
      "Most used pairs of events per workflow:                                         pair  total  workflow_proportion\n",
      "0                       (pull_request, push)  55653                43.68\n",
      "1                  (push, workflow_dispatch)  12026                 9.44\n",
      "2                           (push, schedule)   9582                 7.52\n",
      "3          (pull_request, workflow_dispatch)   8404                 6.60\n",
      "4                   (pull_request, schedule)   8295                 6.51\n",
      "5              (schedule, workflow_dispatch)   6723                 5.28\n",
      "6                            (push, release)   1443                 1.13\n",
      "7               (release, workflow_dispatch)   1208                 0.95\n",
      "8                    (pull_request, release)   1005                 0.79\n",
      "9   (repository_dispatch, workflow_dispatch)    901                 0.71\n",
      "10               (push, repository_dispatch)    615                 0.48\n",
      "11               (pull_request_target, push)    493                 0.39\n",
      "12           (repository_dispatch, schedule)    471                 0.37\n",
      "13                    (issues, pull_request)    438                 0.34\n",
      "14        (issue_comment, workflow_dispatch)    376                 0.30\n",
      "15             (issues, pull_request_target)    372                 0.29\n",
      "16       (pull_request, repository_dispatch)    358                 0.28\n",
      "17        (workflow_call, workflow_dispatch)    283                 0.22\n",
      "18                            (create, push)    279                 0.22\n",
      "19      (issue_comment, pull_request_target)    244                 0.19\n",
      "\n",
      "Year 2023:\n",
      "Most used pairs of events per workflow:                                         pair  total  workflow_proportion\n",
      "0                       (pull_request, push)  71163                39.88\n",
      "1                  (push, workflow_dispatch)  20513                11.50\n",
      "2          (pull_request, workflow_dispatch)  14229                 7.97\n",
      "3                           (push, schedule)  12703                 7.12\n",
      "4                   (pull_request, schedule)  11062                 6.20\n",
      "5              (schedule, workflow_dispatch)  10907                 6.11\n",
      "6               (release, workflow_dispatch)   2063                 1.16\n",
      "7                            (push, release)   1900                 1.06\n",
      "8         (workflow_call, workflow_dispatch)   1373                 0.77\n",
      "9                (merge_group, pull_request)   1365                 0.76\n",
      "10                   (pull_request, release)   1346                 0.75\n",
      "11  (repository_dispatch, workflow_dispatch)   1124                 0.63\n",
      "12                       (merge_group, push)   1084                 0.61\n",
      "13               (pull_request_target, push)    880                 0.49\n",
      "14               (push, repository_dispatch)    768                 0.43\n",
      "15             (issues, pull_request_target)    617                 0.35\n",
      "16                    (issues, pull_request)    605                 0.34\n",
      "17                     (push, workflow_call)    594                 0.33\n",
      "18             (pull_request, workflow_call)    562                 0.31\n",
      "19           (repository_dispatch, schedule)    505                 0.28\n",
      "\n",
      "Year 2024:\n",
      "Most used pairs of events per workflow:                                         pair  total  workflow_proportion\n",
      "0                       (pull_request, push)  82494                37.73\n",
      "1                  (push, workflow_dispatch)  28143                12.87\n",
      "2          (pull_request, workflow_dispatch)  19661                 8.99\n",
      "3              (schedule, workflow_dispatch)  15092                 6.90\n",
      "4                           (push, schedule)  14784                 6.76\n",
      "5                   (pull_request, schedule)  13003                 5.95\n",
      "6               (release, workflow_dispatch)   2846                 1.30\n",
      "7         (workflow_call, workflow_dispatch)   2609                 1.19\n",
      "8                (merge_group, pull_request)   2293                 1.05\n",
      "9                            (push, release)   2256                 1.03\n",
      "10                       (merge_group, push)   1724                 0.79\n",
      "11                   (pull_request, release)   1635                 0.75\n",
      "12  (repository_dispatch, workflow_dispatch)   1331                 0.61\n",
      "13                     (push, workflow_call)    975                 0.45\n",
      "14               (pull_request_target, push)    956                 0.44\n",
      "15             (pull_request, workflow_call)    938                 0.43\n",
      "16               (push, repository_dispatch)    840                 0.38\n",
      "17             (issues, pull_request_target)    785                 0.36\n",
      "18          (merge_group, workflow_dispatch)    755                 0.35\n",
      "19                    (issues, pull_request)    681                 0.31\n",
      "\n"
     ]
    }
   ],
   "execution_count": 21
  },
  {
   "metadata": {},
   "cell_type": "markdown",
   "source": [
    "### Extract different the different steps from the workflows (run and uses)\n",
    "- The first thing to do is to extract all the steps present in the different workflows."
   ],
   "id": "8fd90fbde047ae6"
  },
  {
   "metadata": {
    "ExecuteTime": {
     "end_time": "2025-06-11T06:59:16.718013Z",
     "start_time": "2025-06-11T06:59:03.028293Z"
    }
   },
   "cell_type": "code",
   "source": [
    "parsed_steps = []\n",
    "\n",
    "for year, parsed_workflows in parsed_snapshots:\n",
    "    steps = info_extractor.extract_step_type_from_parsed(parsed_workflows)\n",
    "    parsed_steps.append((year, steps))"
   ],
   "id": "6de7c89e15ced982",
   "outputs": [],
   "execution_count": 22
  },
  {
   "metadata": {},
   "cell_type": "markdown",
   "source": [
    "- The idea is to get the total number of steps to compute the proportion of 'uses' and 'run' steps among them.\n",
    "- It is also required to get the proportion of repositories that are using 'uses' and 'run' steps among the repositories of the snapshots.\n",
    "\n",
    "#### Part 2 Extract the top 10 of Actions used in the workflows along the different snapshots\n",
    "\n",
    "- For this we will add a bit of code to extract the different actions used in the workflows and their counts in a dictionary.\n",
    "- actions are formatted as follows: actions/action_name@version. So to get only the action name it is needed to split on '@' and keep the first part.\n",
    "- I do not generate another code block here because in order to rank these actions I need to compute the proportion of steps and repositories using them."
   ],
   "id": "dd7978e5cfc091c2"
  },
  {
   "metadata": {
    "ExecuteTime": {
     "end_time": "2025-06-11T07:01:13.239940Z",
     "start_time": "2025-06-11T07:01:10.232725Z"
    }
   },
   "cell_type": "code",
   "source": [
    "steps_dataframes, top10_actions_dataframes, yearly_steps_medians = info_extractor.count_steps(parsed_steps, repositories)\n",
    "\n",
    "for year, steps_df in steps_dataframes:\n",
    "    print(f\"Year {year}:\")\n",
    "    print(steps_df)\n",
    "    print()"
   ],
   "id": "76516e1d54ca7328",
   "outputs": [
    {
     "name": "stdout",
     "output_type": "stream",
     "text": [
      "Year 2019:\n",
      "   total_steps  total_repositories  uses_proportion  run_proportion  \\\n",
      "0        11510                1248            44.05           55.94   \n",
      "\n",
      "   repo_uses  repo_run  \n",
      "0      99.52     86.78  \n",
      "\n",
      "Year 2020:\n",
      "   total_steps  total_repositories  uses_proportion  run_proportion  \\\n",
      "0       241069               13026            49.04           50.95   \n",
      "\n",
      "   repo_uses  repo_run  \n",
      "0      99.65     90.62  \n",
      "\n",
      "Year 2021:\n",
      "   total_steps  total_repositories  uses_proportion  run_proportion  \\\n",
      "0       647850               26621            50.65           49.34   \n",
      "\n",
      "   repo_uses  repo_run  \n",
      "0      99.82      94.2  \n",
      "\n",
      "Year 2022:\n",
      "   total_steps  total_repositories  uses_proportion  run_proportion  \\\n",
      "0      1030282               34532            52.14           47.86   \n",
      "\n",
      "   repo_uses  repo_run  \n",
      "0      99.44     94.24  \n",
      "\n",
      "Year 2023:\n",
      "   total_steps  total_repositories  uses_proportion  run_proportion  \\\n",
      "0      1427343               40409            52.64           47.36   \n",
      "\n",
      "   repo_uses  repo_run  \n",
      "0      99.29     94.55  \n",
      "\n",
      "Year 2024:\n",
      "   total_steps  total_repositories  uses_proportion  run_proportion  \\\n",
      "0      1766086               43325            52.61           47.38   \n",
      "\n",
      "   repo_uses  repo_run  \n",
      "0      99.28     94.92  \n",
      "\n"
     ]
    }
   ],
   "execution_count": 25
  },
  {
   "metadata": {},
   "cell_type": "markdown",
   "source": "### Draw line chart representing the evolution of the different proportion over the years",
   "id": "7d3898e1766e1b04"
  },
  {
   "metadata": {
    "ExecuteTime": {
     "end_time": "2025-06-11T07:01:23.834314Z",
     "start_time": "2025-06-11T07:01:23.333614Z"
    }
   },
   "cell_type": "code",
   "source": [
    "data = []\n",
    "\n",
    "for year, steps_df in steps_dataframes:\n",
    "\n",
    "    for _, row in steps_df.iterrows():\n",
    "        data.append({\n",
    "            'Year': year,\n",
    "            '% steps étant des run' : row['run_proportion'],\n",
    "            '% steps étant des uses': row['uses_proportion'],\n",
    "            '% dépôts utilisant run' : row['repo_run'],\n",
    "            '% dépôts utilisant uses': row['repo_uses'],\n",
    "        })\n",
    "prop_df = pd.DataFrame(data)\n",
    "\n",
    "prop_long_df = prop_df.melt(\n",
    "    id_vars='Year',\n",
    "    value_vars=['% steps étant des run', '% steps étant des uses', '% dépôts utilisant run', '% dépôts utilisant uses'],\n",
    "    var_name='ProportionType',\n",
    "    value_name='Percentage'\n",
    ")\n",
    "\n",
    "chart = alt.Chart(prop_long_df).mark_line(point=True).encode(\n",
    "    x=alt.X('Year:O', title=\"Année\"),\n",
    "    y=alt.Y('Percentage:Q', title=\"Pourcentage\", scale=alt.Scale(domain=[40,100])),\n",
    "    color=alt.Color('ProportionType', title=\"Type de proportion\"),\n",
    ").properties(\n",
    "    width=800,\n",
    "    height=400\n",
    ").interactive()\n",
    "\n",
    "chart.show()\n",
    "chart.save(\"../out/charts/steps_prop.png\")"
   ],
   "id": "2e1cf09025707acf",
   "outputs": [
    {
     "data": {
      "text/html": [
       "\n",
       "<style>\n",
       "  #altair-viz-c62f5d40402a4ee293bd66eee6ea2fdf.vega-embed {\n",
       "    width: 100%;\n",
       "    display: flex;\n",
       "  }\n",
       "\n",
       "  #altair-viz-c62f5d40402a4ee293bd66eee6ea2fdf.vega-embed details,\n",
       "  #altair-viz-c62f5d40402a4ee293bd66eee6ea2fdf.vega-embed details summary {\n",
       "    position: relative;\n",
       "  }\n",
       "</style>\n",
       "<div id=\"altair-viz-c62f5d40402a4ee293bd66eee6ea2fdf\"></div>\n",
       "<script type=\"text/javascript\">\n",
       "  var VEGA_DEBUG = (typeof VEGA_DEBUG == \"undefined\") ? {} : VEGA_DEBUG;\n",
       "  (function(spec, embedOpt){\n",
       "    let outputDiv = document.currentScript.previousElementSibling;\n",
       "    if (outputDiv.id !== \"altair-viz-c62f5d40402a4ee293bd66eee6ea2fdf\") {\n",
       "      outputDiv = document.getElementById(\"altair-viz-c62f5d40402a4ee293bd66eee6ea2fdf\");\n",
       "    }\n",
       "\n",
       "    const paths = {\n",
       "      \"vega\": \"https://cdn.jsdelivr.net/npm/vega@5?noext\",\n",
       "      \"vega-lib\": \"https://cdn.jsdelivr.net/npm/vega-lib?noext\",\n",
       "      \"vega-lite\": \"https://cdn.jsdelivr.net/npm/vega-lite@5.20.1?noext\",\n",
       "      \"vega-embed\": \"https://cdn.jsdelivr.net/npm/vega-embed@6?noext\",\n",
       "    };\n",
       "\n",
       "    function maybeLoadScript(lib, version) {\n",
       "      var key = `${lib.replace(\"-\", \"\")}_version`;\n",
       "      return (VEGA_DEBUG[key] == version) ?\n",
       "        Promise.resolve(paths[lib]) :\n",
       "        new Promise(function(resolve, reject) {\n",
       "          var s = document.createElement('script');\n",
       "          document.getElementsByTagName(\"head\")[0].appendChild(s);\n",
       "          s.async = true;\n",
       "          s.onload = () => {\n",
       "            VEGA_DEBUG[key] = version;\n",
       "            return resolve(paths[lib]);\n",
       "          };\n",
       "          s.onerror = () => reject(`Error loading script: ${paths[lib]}`);\n",
       "          s.src = paths[lib];\n",
       "        });\n",
       "    }\n",
       "\n",
       "    function showError(err) {\n",
       "      outputDiv.innerHTML = `<div class=\"error\" style=\"color:red;\">${err}</div>`;\n",
       "      throw err;\n",
       "    }\n",
       "\n",
       "    function displayChart(vegaEmbed) {\n",
       "      vegaEmbed(outputDiv, spec, embedOpt)\n",
       "        .catch(err => showError(`Javascript Error: ${err.message}<br>This usually means there's a typo in your chart specification. See the javascript console for the full traceback.`));\n",
       "    }\n",
       "\n",
       "    if(typeof define === \"function\" && define.amd) {\n",
       "      requirejs.config({paths});\n",
       "      let deps = [\"vega-embed\"];\n",
       "      require(deps, displayChart, err => showError(`Error loading script: ${err.message}`));\n",
       "    } else {\n",
       "      maybeLoadScript(\"vega\", \"5\")\n",
       "        .then(() => maybeLoadScript(\"vega-lite\", \"5.20.1\"))\n",
       "        .then(() => maybeLoadScript(\"vega-embed\", \"6\"))\n",
       "        .catch(showError)\n",
       "        .then(() => displayChart(vegaEmbed));\n",
       "    }\n",
       "  })({\"config\": {\"view\": {\"continuousWidth\": 300, \"continuousHeight\": 300}}, \"data\": {\"name\": \"data-b4edfbef1b6d67b9ac4b6934cdce1ce8\"}, \"mark\": {\"type\": \"line\", \"point\": true}, \"encoding\": {\"color\": {\"field\": \"ProportionType\", \"title\": \"Type de proportion\", \"type\": \"nominal\"}, \"x\": {\"field\": \"Year\", \"title\": \"Ann\\u00e9e\", \"type\": \"ordinal\"}, \"y\": {\"field\": \"Percentage\", \"scale\": {\"domain\": [40, 100]}, \"title\": \"Pourcentage\", \"type\": \"quantitative\"}}, \"height\": 400, \"params\": [{\"name\": \"param_8\", \"select\": {\"type\": \"interval\", \"encodings\": [\"x\", \"y\"]}, \"bind\": \"scales\"}], \"width\": 800, \"$schema\": \"https://vega.github.io/schema/vega-lite/v5.20.1.json\", \"datasets\": {\"data-b4edfbef1b6d67b9ac4b6934cdce1ce8\": [{\"Year\": 2019, \"ProportionType\": \"% steps \\u00e9tant des run\", \"Percentage\": 55.94}, {\"Year\": 2020, \"ProportionType\": \"% steps \\u00e9tant des run\", \"Percentage\": 50.95}, {\"Year\": 2021, \"ProportionType\": \"% steps \\u00e9tant des run\", \"Percentage\": 49.34}, {\"Year\": 2022, \"ProportionType\": \"% steps \\u00e9tant des run\", \"Percentage\": 47.86}, {\"Year\": 2023, \"ProportionType\": \"% steps \\u00e9tant des run\", \"Percentage\": 47.36}, {\"Year\": 2024, \"ProportionType\": \"% steps \\u00e9tant des run\", \"Percentage\": 47.38}, {\"Year\": 2019, \"ProportionType\": \"% steps \\u00e9tant des uses\", \"Percentage\": 44.05}, {\"Year\": 2020, \"ProportionType\": \"% steps \\u00e9tant des uses\", \"Percentage\": 49.04}, {\"Year\": 2021, \"ProportionType\": \"% steps \\u00e9tant des uses\", \"Percentage\": 50.65}, {\"Year\": 2022, \"ProportionType\": \"% steps \\u00e9tant des uses\", \"Percentage\": 52.14}, {\"Year\": 2023, \"ProportionType\": \"% steps \\u00e9tant des uses\", \"Percentage\": 52.64}, {\"Year\": 2024, \"ProportionType\": \"% steps \\u00e9tant des uses\", \"Percentage\": 52.61}, {\"Year\": 2019, \"ProportionType\": \"% d\\u00e9p\\u00f4ts utilisant run\", \"Percentage\": 86.78}, {\"Year\": 2020, \"ProportionType\": \"% d\\u00e9p\\u00f4ts utilisant run\", \"Percentage\": 90.62}, {\"Year\": 2021, \"ProportionType\": \"% d\\u00e9p\\u00f4ts utilisant run\", \"Percentage\": 94.2}, {\"Year\": 2022, \"ProportionType\": \"% d\\u00e9p\\u00f4ts utilisant run\", \"Percentage\": 94.24}, {\"Year\": 2023, \"ProportionType\": \"% d\\u00e9p\\u00f4ts utilisant run\", \"Percentage\": 94.55}, {\"Year\": 2024, \"ProportionType\": \"% d\\u00e9p\\u00f4ts utilisant run\", \"Percentage\": 94.92}, {\"Year\": 2019, \"ProportionType\": \"% d\\u00e9p\\u00f4ts utilisant uses\", \"Percentage\": 99.52}, {\"Year\": 2020, \"ProportionType\": \"% d\\u00e9p\\u00f4ts utilisant uses\", \"Percentage\": 99.65}, {\"Year\": 2021, \"ProportionType\": \"% d\\u00e9p\\u00f4ts utilisant uses\", \"Percentage\": 99.82}, {\"Year\": 2022, \"ProportionType\": \"% d\\u00e9p\\u00f4ts utilisant uses\", \"Percentage\": 99.44}, {\"Year\": 2023, \"ProportionType\": \"% d\\u00e9p\\u00f4ts utilisant uses\", \"Percentage\": 99.29}, {\"Year\": 2024, \"ProportionType\": \"% d\\u00e9p\\u00f4ts utilisant uses\", \"Percentage\": 99.28}]}}, {\"mode\": \"vega-lite\"});\n",
       "</script>"
      ],
      "text/plain": [
       "alt.Chart(...)"
      ]
     },
     "metadata": {},
     "output_type": "display_data"
    }
   ],
   "execution_count": 26
  },
  {
   "metadata": {
    "ExecuteTime": {
     "end_time": "2025-06-11T07:01:44.583300Z",
     "start_time": "2025-06-11T07:01:44.574157Z"
    }
   },
   "cell_type": "code",
   "source": [
    "for year, actions_df in top10_actions_dataframes:\n",
    "    print(f\"Year {year}:\")\n",
    "    print(actions_df.head(10))\n",
    "    print()"
   ],
   "id": "ad74ea18f404e2e1",
   "outputs": [
    {
     "name": "stdout",
     "output_type": "stream",
     "text": [
      "Year 2019:\n",
      "                    action  step_proportion  repo_proportion\n",
      "0         actions/checkout            47.24            94.15\n",
      "1       actions/setup-node            10.04            24.04\n",
      "2     actions/setup-python             4.73            10.10\n",
      "3       actions/setup-java             3.25             9.29\n",
      "4         actions-rs/cargo             3.18             1.76\n",
      "5         actions/setup-go             3.14             7.61\n",
      "6  actions/upload-artifact             2.74             5.21\n",
      "7     actions-rs/toolchain             2.05             1.84\n",
      "8       actions/setup-ruby             1.95             4.17\n",
      "9  hecrj/setup-rust-action             0.93             1.36\n",
      "\n",
      "Year 2020:\n",
      "                      action  step_proportion  repo_proportion\n",
      "0           actions/checkout            35.72            93.91\n",
      "1              actions/cache             8.22            22.28\n",
      "2    actions/upload-artifact             5.90            18.28\n",
      "3         actions/setup-node             5.23            19.99\n",
      "4       actions/setup-python             5.08            16.71\n",
      "5         actions/setup-java             2.49             9.51\n",
      "6  actions/download-artifact             2.38             5.52\n",
      "7           actions/setup-go             2.18             7.66\n",
      "8       actions-rs/toolchain             1.86             4.23\n",
      "9           actions-rs/cargo             1.77             2.96\n",
      "\n",
      "Year 2021:\n",
      "                      action  step_proportion  repo_proportion\n",
      "0           actions/checkout            33.79            97.59\n",
      "1              actions/cache             7.73            27.24\n",
      "2    actions/upload-artifact             5.76            21.72\n",
      "3       actions/setup-python             5.01            20.72\n",
      "4         actions/setup-node             4.83            21.42\n",
      "5         actions/setup-java             2.40            10.57\n",
      "6  actions/download-artifact             2.11             7.40\n",
      "7           actions/setup-go             2.05             8.03\n",
      "8       actions-rs/toolchain             1.50             4.27\n",
      "9           actions-rs/cargo             1.21             2.74\n",
      "\n",
      "Year 2022:\n",
      "                      action  step_proportion  repo_proportion\n",
      "0           actions/checkout            32.34            97.45\n",
      "1              actions/cache             6.23            25.74\n",
      "2    actions/upload-artifact             5.82            25.14\n",
      "3         actions/setup-node             4.73            23.53\n",
      "4       actions/setup-python             4.43            21.45\n",
      "5  actions/download-artifact             2.35             9.66\n",
      "6         actions/setup-java             2.24            11.34\n",
      "7           actions/setup-go             2.15             8.58\n",
      "8       actions-rs/toolchain             1.47             4.70\n",
      "9        docker/login-action             1.43             8.19\n",
      "\n",
      "Year 2023:\n",
      "                      action  step_proportion  repo_proportion\n",
      "0           actions/checkout            31.78            97.55\n",
      "1    actions/upload-artifact             5.85            28.79\n",
      "2              actions/cache             5.05            24.24\n",
      "3         actions/setup-node             4.64            25.31\n",
      "4       actions/setup-python             4.14            22.37\n",
      "5  actions/download-artifact             2.48            11.87\n",
      "6         actions/setup-java             2.17            11.80\n",
      "7           actions/setup-go             2.07             8.71\n",
      "8        docker/login-action             1.62            10.20\n",
      "9   docker/build-push-action             1.38             8.53\n",
      "\n",
      "Year 2024:\n",
      "                      action  step_proportion  repo_proportion\n",
      "0           actions/checkout            31.40            97.45\n",
      "1    actions/upload-artifact             6.01            32.15\n",
      "2         actions/setup-node             4.47            26.26\n",
      "3              actions/cache             4.36            23.82\n",
      "4       actions/setup-python             4.17            23.54\n",
      "5  actions/download-artifact             2.71            14.28\n",
      "6         actions/setup-java             2.06            12.09\n",
      "7           actions/setup-go             1.95             8.84\n",
      "8        docker/login-action             1.69            11.56\n",
      "9   docker/build-push-action             1.40             9.67\n",
      "\n"
     ]
    }
   ],
   "execution_count": 28
  },
  {
   "metadata": {},
   "cell_type": "markdown",
   "source": [
    "### Extract other information on the workflow dimensions\n",
    "- The idea is to replicate the median characteristics extraction but for the workflows.\n",
    "- Metrics that could be extracted are :\n",
    "    - Median number of jobs\n",
    "    - Median number of steps\n",
    "    - Median number of events\n",
    "    - Use of matrix strategy\n",
    "    - Use of permissions\n",
    "\n",
    "- Some of these metrics were partially or totally extracted in the previous steps.\n",
    "- Some like permissions and matrix strategy are not extracted yet."
   ],
   "id": "b738417d940b9577"
  },
  {
   "metadata": {},
   "cell_type": "markdown",
   "source": "### Extract the proportion of strategies through the different snapshots",
   "id": "1ac19ced0fb71e15"
  },
  {
   "metadata": {
    "ExecuteTime": {
     "end_time": "2025-06-11T07:01:58.912128Z",
     "start_time": "2025-06-11T07:01:51.628647Z"
    }
   },
   "cell_type": "code",
   "source": [
    "parsed_strategies = []\n",
    "\n",
    "for year, parsed_workflows in parsed_snapshots:\n",
    "    strategies = info_extractor.extract_strategies_from_parsed(parsed_workflows)\n",
    "    parsed_strategies.append((year, strategies))\n"
   ],
   "id": "10c4947aed4ac613",
   "outputs": [],
   "execution_count": 29
  },
  {
   "metadata": {
    "ExecuteTime": {
     "end_time": "2025-06-11T07:03:25.653742Z",
     "start_time": "2025-06-11T07:03:25.362618Z"
    }
   },
   "cell_type": "code",
   "source": [
    "strategies_dataframes, yearly_strategies_median = info_extractor.count_strategies(parsed_strategies, repositories)\n",
    "\n",
    "for year, strategies_df in strategies_dataframes:\n",
    "    print(f\"Year {year}:\")\n",
    "    print(strategies_df)\n",
    "    print()"
   ],
   "id": "702feadc033647e4",
   "outputs": [
    {
     "name": "stdout",
     "output_type": "stream",
     "text": [
      "Year 2019:\n",
      "   workflow_proportion  repo_proportion\n",
      "0                35.62            46.23\n",
      "\n",
      "Year 2020:\n",
      "   workflow_proportion  repo_proportion\n",
      "0                29.97            50.33\n",
      "\n",
      "Year 2021:\n",
      "   workflow_proportion  repo_proportion\n",
      "0                32.35             61.3\n",
      "\n",
      "Year 2022:\n",
      "   workflow_proportion  repo_proportion\n",
      "0                29.77            62.63\n",
      "\n",
      "Year 2023:\n",
      "   workflow_proportion  repo_proportion\n",
      "0                27.54            63.04\n",
      "\n",
      "Year 2024:\n",
      "   workflow_proportion  repo_proportion\n",
      "0                26.61            64.02\n",
      "\n"
     ]
    }
   ],
   "execution_count": 30
  },
  {
   "metadata": {},
   "cell_type": "markdown",
   "source": "### Draw a line chart for matrix strategies proportion evolution throughout the snapshots",
   "id": "f0f6bf88adf39eaa"
  },
  {
   "metadata": {
    "ExecuteTime": {
     "end_time": "2025-06-11T07:03:28.435780Z",
     "start_time": "2025-06-11T07:03:28.073388Z"
    }
   },
   "cell_type": "code",
   "source": [
    "data = []\n",
    "\n",
    "for year, strategy_df in strategies_dataframes:\n",
    "    row = strategy_df.iloc[0]\n",
    "    data.append({\n",
    "        'Year': year,\n",
    "        'Type': '% workflows matrix strategy',\n",
    "        'Percentage': row['workflow_proportion']\n",
    "    })\n",
    "\n",
    "    data.append({\n",
    "        'Year': year,\n",
    "        'Type': '% dépôts matrix strategy',\n",
    "        'Percentage': row['repo_proportion']\n",
    "    })\n",
    "\n",
    "strategy_prop_df = pd.DataFrame(data)\n",
    "\n",
    "chart = alt.Chart(strategy_prop_df).mark_line(point=True).encode(\n",
    "    x=alt.X('Year:O', title=\"Année\"),\n",
    "    y=alt.Y('Percentage:Q', title=\"Pourcentage\", scale=alt.Scale(domain=[0,70])),\n",
    "    color=alt.Color('Type:N', title=\"Type de proportion\"),\n",
    ").properties(\n",
    "    width=800,\n",
    "    height=400\n",
    ").interactive()\n",
    "\n",
    "chart.show()\n",
    "chart.save(\"../out/charts/matrix_strategy.png\")"
   ],
   "id": "3ea0bcfe06d969c9",
   "outputs": [
    {
     "data": {
      "text/html": [
       "\n",
       "<style>\n",
       "  #altair-viz-e89ed60124244de49b107cf77be69ccc.vega-embed {\n",
       "    width: 100%;\n",
       "    display: flex;\n",
       "  }\n",
       "\n",
       "  #altair-viz-e89ed60124244de49b107cf77be69ccc.vega-embed details,\n",
       "  #altair-viz-e89ed60124244de49b107cf77be69ccc.vega-embed details summary {\n",
       "    position: relative;\n",
       "  }\n",
       "</style>\n",
       "<div id=\"altair-viz-e89ed60124244de49b107cf77be69ccc\"></div>\n",
       "<script type=\"text/javascript\">\n",
       "  var VEGA_DEBUG = (typeof VEGA_DEBUG == \"undefined\") ? {} : VEGA_DEBUG;\n",
       "  (function(spec, embedOpt){\n",
       "    let outputDiv = document.currentScript.previousElementSibling;\n",
       "    if (outputDiv.id !== \"altair-viz-e89ed60124244de49b107cf77be69ccc\") {\n",
       "      outputDiv = document.getElementById(\"altair-viz-e89ed60124244de49b107cf77be69ccc\");\n",
       "    }\n",
       "\n",
       "    const paths = {\n",
       "      \"vega\": \"https://cdn.jsdelivr.net/npm/vega@5?noext\",\n",
       "      \"vega-lib\": \"https://cdn.jsdelivr.net/npm/vega-lib?noext\",\n",
       "      \"vega-lite\": \"https://cdn.jsdelivr.net/npm/vega-lite@5.20.1?noext\",\n",
       "      \"vega-embed\": \"https://cdn.jsdelivr.net/npm/vega-embed@6?noext\",\n",
       "    };\n",
       "\n",
       "    function maybeLoadScript(lib, version) {\n",
       "      var key = `${lib.replace(\"-\", \"\")}_version`;\n",
       "      return (VEGA_DEBUG[key] == version) ?\n",
       "        Promise.resolve(paths[lib]) :\n",
       "        new Promise(function(resolve, reject) {\n",
       "          var s = document.createElement('script');\n",
       "          document.getElementsByTagName(\"head\")[0].appendChild(s);\n",
       "          s.async = true;\n",
       "          s.onload = () => {\n",
       "            VEGA_DEBUG[key] = version;\n",
       "            return resolve(paths[lib]);\n",
       "          };\n",
       "          s.onerror = () => reject(`Error loading script: ${paths[lib]}`);\n",
       "          s.src = paths[lib];\n",
       "        });\n",
       "    }\n",
       "\n",
       "    function showError(err) {\n",
       "      outputDiv.innerHTML = `<div class=\"error\" style=\"color:red;\">${err}</div>`;\n",
       "      throw err;\n",
       "    }\n",
       "\n",
       "    function displayChart(vegaEmbed) {\n",
       "      vegaEmbed(outputDiv, spec, embedOpt)\n",
       "        .catch(err => showError(`Javascript Error: ${err.message}<br>This usually means there's a typo in your chart specification. See the javascript console for the full traceback.`));\n",
       "    }\n",
       "\n",
       "    if(typeof define === \"function\" && define.amd) {\n",
       "      requirejs.config({paths});\n",
       "      let deps = [\"vega-embed\"];\n",
       "      require(deps, displayChart, err => showError(`Error loading script: ${err.message}`));\n",
       "    } else {\n",
       "      maybeLoadScript(\"vega\", \"5\")\n",
       "        .then(() => maybeLoadScript(\"vega-lite\", \"5.20.1\"))\n",
       "        .then(() => maybeLoadScript(\"vega-embed\", \"6\"))\n",
       "        .catch(showError)\n",
       "        .then(() => displayChart(vegaEmbed));\n",
       "    }\n",
       "  })({\"config\": {\"view\": {\"continuousWidth\": 300, \"continuousHeight\": 300}}, \"data\": {\"name\": \"data-d0d1ed33f6761da893699454a5692573\"}, \"mark\": {\"type\": \"line\", \"point\": true}, \"encoding\": {\"color\": {\"field\": \"Type\", \"title\": \"Type de proportion\", \"type\": \"nominal\"}, \"x\": {\"field\": \"Year\", \"title\": \"Ann\\u00e9e\", \"type\": \"ordinal\"}, \"y\": {\"field\": \"Percentage\", \"scale\": {\"domain\": [0, 70]}, \"title\": \"Pourcentage\", \"type\": \"quantitative\"}}, \"height\": 400, \"params\": [{\"name\": \"param_9\", \"select\": {\"type\": \"interval\", \"encodings\": [\"x\", \"y\"]}, \"bind\": \"scales\"}], \"width\": 800, \"$schema\": \"https://vega.github.io/schema/vega-lite/v5.20.1.json\", \"datasets\": {\"data-d0d1ed33f6761da893699454a5692573\": [{\"Year\": 2019, \"Type\": \"% workflows matrix strategy\", \"Percentage\": 35.62}, {\"Year\": 2019, \"Type\": \"% d\\u00e9p\\u00f4ts matrix strategy\", \"Percentage\": 46.23}, {\"Year\": 2020, \"Type\": \"% workflows matrix strategy\", \"Percentage\": 29.97}, {\"Year\": 2020, \"Type\": \"% d\\u00e9p\\u00f4ts matrix strategy\", \"Percentage\": 50.33}, {\"Year\": 2021, \"Type\": \"% workflows matrix strategy\", \"Percentage\": 32.35}, {\"Year\": 2021, \"Type\": \"% d\\u00e9p\\u00f4ts matrix strategy\", \"Percentage\": 61.3}, {\"Year\": 2022, \"Type\": \"% workflows matrix strategy\", \"Percentage\": 29.77}, {\"Year\": 2022, \"Type\": \"% d\\u00e9p\\u00f4ts matrix strategy\", \"Percentage\": 62.63}, {\"Year\": 2023, \"Type\": \"% workflows matrix strategy\", \"Percentage\": 27.54}, {\"Year\": 2023, \"Type\": \"% d\\u00e9p\\u00f4ts matrix strategy\", \"Percentage\": 63.04}, {\"Year\": 2024, \"Type\": \"% workflows matrix strategy\", \"Percentage\": 26.61}, {\"Year\": 2024, \"Type\": \"% d\\u00e9p\\u00f4ts matrix strategy\", \"Percentage\": 64.02}]}}, {\"mode\": \"vega-lite\"});\n",
       "</script>"
      ],
      "text/plain": [
       "alt.Chart(...)"
      ]
     },
     "metadata": {},
     "output_type": "display_data"
    }
   ],
   "execution_count": 31
  },
  {
   "metadata": {},
   "cell_type": "markdown",
   "source": "### Extract the proportion of global permissions through the snapshots",
   "id": "4fb9aa86ebd37d66"
  },
  {
   "metadata": {
    "ExecuteTime": {
     "end_time": "2025-06-11T07:03:40.669955Z",
     "start_time": "2025-06-11T07:03:40.363804Z"
    }
   },
   "cell_type": "code",
   "source": [
    "parsed_global_permissions = []\n",
    "\n",
    "for year, parsed_workflows in parsed_snapshots:\n",
    "    global_permissions = info_extractor.extract_global_permissions_from_parsed(parsed_workflows)\n",
    "    parsed_global_permissions.append((year, global_permissions))"
   ],
   "id": "99cac81517e4bd0b",
   "outputs": [],
   "execution_count": 32
  },
  {
   "metadata": {
    "ExecuteTime": {
     "end_time": "2025-06-11T07:03:42.173587Z",
     "start_time": "2025-06-11T07:03:42.082139Z"
    }
   },
   "cell_type": "code",
   "source": [
    "global_permissions_dataframes = info_extractor.count_permissions(parsed_global_permissions, repositories)\n",
    "\n",
    "for year, global_permissions_df in global_permissions_dataframes:\n",
    "    print(f\"Year {year}:\")\n",
    "    print(global_permissions_df)\n",
    "    print()"
   ],
   "id": "ed23e984b988e31a",
   "outputs": [
    {
     "name": "stdout",
     "output_type": "stream",
     "text": [
      "Year 2019:\n",
      "   workflow_proportion  repo_proportion\n",
      "0                  0.0              0.0\n",
      "\n",
      "Year 2020:\n",
      "   workflow_proportion  repo_proportion\n",
      "0                  0.0              0.0\n",
      "\n",
      "Year 2021:\n",
      "   workflow_proportion  repo_proportion\n",
      "0                 0.54             1.13\n",
      "\n",
      "Year 2022:\n",
      "   workflow_proportion  repo_proportion\n",
      "0                 4.25             8.11\n",
      "\n",
      "Year 2023:\n",
      "   workflow_proportion  repo_proportion\n",
      "0                 7.69            16.83\n",
      "\n",
      "Year 2024:\n",
      "   workflow_proportion  repo_proportion\n",
      "0                10.14            22.73\n",
      "\n"
     ]
    }
   ],
   "execution_count": 33
  },
  {
   "metadata": {},
   "cell_type": "markdown",
   "source": "### Extract the proportion of repositories and workflows using jobs.permissions",
   "id": "a94577d93f54017b"
  },
  {
   "metadata": {
    "ExecuteTime": {
     "end_time": "2025-06-11T07:03:45.151006Z",
     "start_time": "2025-06-11T07:03:44.272836Z"
    }
   },
   "cell_type": "code",
   "source": [
    "parsed_jobs_permissions = []\n",
    "\n",
    "for year, parsed_workflows in parsed_snapshots:\n",
    "    jobs_permissions = info_extractor.extract_job_permissions_from_parsed(parsed_workflows)\n",
    "    parsed_jobs_permissions.append((year, jobs_permissions))"
   ],
   "id": "9dd5748299b6c03d",
   "outputs": [],
   "execution_count": 34
  },
  {
   "metadata": {
    "ExecuteTime": {
     "end_time": "2025-06-11T07:03:45.891250Z",
     "start_time": "2025-06-11T07:03:45.801213Z"
    }
   },
   "cell_type": "code",
   "source": [
    "jobs_permissions_dataframes = info_extractor.count_permissions(parsed_jobs_permissions, repositories)\n",
    "for year, jobs_permissions_df in jobs_permissions_dataframes:\n",
    "    print(f\"Year {year}:\")\n",
    "    print(jobs_permissions_df)\n",
    "    print()"
   ],
   "id": "bb50b79e39aa3c2d",
   "outputs": [
    {
     "name": "stdout",
     "output_type": "stream",
     "text": [
      "Year 2019:\n",
      "   workflow_proportion  repo_proportion\n",
      "0                  0.0              0.0\n",
      "\n",
      "Year 2020:\n",
      "   workflow_proportion  repo_proportion\n",
      "0                  0.0              0.0\n",
      "\n",
      "Year 2021:\n",
      "   workflow_proportion  repo_proportion\n",
      "0                  1.5             3.91\n",
      "\n",
      "Year 2022:\n",
      "   workflow_proportion  repo_proportion\n",
      "0                 4.94            12.74\n",
      "\n",
      "Year 2023:\n",
      "   workflow_proportion  repo_proportion\n",
      "0                 8.14            21.61\n",
      "\n",
      "Year 2024:\n",
      "   workflow_proportion  repo_proportion\n",
      "0                10.54            28.65\n",
      "\n"
     ]
    }
   ],
   "execution_count": 35
  },
  {
   "metadata": {},
   "cell_type": "markdown",
   "source": "### Draw a line chart for permissions proportion evolution throughout the snapshots",
   "id": "68196901d13f27da"
  },
  {
   "metadata": {
    "ExecuteTime": {
     "end_time": "2025-06-11T07:03:52.740245Z",
     "start_time": "2025-06-11T07:03:52.074598Z"
    }
   },
   "cell_type": "code",
   "source": [
    "data = []\n",
    "\n",
    "for year, global_df in global_permissions_dataframes:\n",
    "    row = global_df.iloc[0]\n",
    "    data.append({\n",
    "        'Year': year,\n",
    "        'Type': '% workflow permissions globales',\n",
    "        'Percentage': row['workflow_proportion']\n",
    "    })\n",
    "    data.append({\n",
    "        'Year': year,\n",
    "        'Type': '% dépôts permissions globales',\n",
    "        'Percentage': row['repo_proportion']\n",
    "    })\n",
    "\n",
    "for year, job_df in jobs_permissions_dataframes:\n",
    "    row = job_df.iloc[0]\n",
    "    data.append({\n",
    "        'Year': year,\n",
    "        'Type': '% workflow permissions de jobs',\n",
    "        'Percentage': row['workflow_proportion']\n",
    "    })\n",
    "    data.append({\n",
    "        'Year': year,\n",
    "        'Type': '% dépôts permissions de jobs',\n",
    "        'Percentage': row['repo_proportion']\n",
    "    })\n",
    "\n",
    "permissions_df = pd.DataFrame(data)\n",
    "\n",
    "chart = alt.Chart(permissions_df).mark_line(point=True).encode(\n",
    "    x=alt.X('Year:O', title=\"Année\"),\n",
    "    y=alt.Y('Percentage:Q', title=\"Pourcentage\", scale=alt.Scale(domain=[0,30])),\n",
    "    color=alt.Color('Type:N', title=\"Type de proportion\"),\n",
    ").properties(\n",
    "    width=800,\n",
    "    height=400\n",
    ").interactive()\n",
    "\n",
    "chart.show()\n",
    "chart.save(\"../out/charts/permissions.png\")\n"
   ],
   "id": "751d346d4d18c4d5",
   "outputs": [
    {
     "data": {
      "text/html": [
       "\n",
       "<style>\n",
       "  #altair-viz-925a1f18e1b34334ab9acfc09ddd0904.vega-embed {\n",
       "    width: 100%;\n",
       "    display: flex;\n",
       "  }\n",
       "\n",
       "  #altair-viz-925a1f18e1b34334ab9acfc09ddd0904.vega-embed details,\n",
       "  #altair-viz-925a1f18e1b34334ab9acfc09ddd0904.vega-embed details summary {\n",
       "    position: relative;\n",
       "  }\n",
       "</style>\n",
       "<div id=\"altair-viz-925a1f18e1b34334ab9acfc09ddd0904\"></div>\n",
       "<script type=\"text/javascript\">\n",
       "  var VEGA_DEBUG = (typeof VEGA_DEBUG == \"undefined\") ? {} : VEGA_DEBUG;\n",
       "  (function(spec, embedOpt){\n",
       "    let outputDiv = document.currentScript.previousElementSibling;\n",
       "    if (outputDiv.id !== \"altair-viz-925a1f18e1b34334ab9acfc09ddd0904\") {\n",
       "      outputDiv = document.getElementById(\"altair-viz-925a1f18e1b34334ab9acfc09ddd0904\");\n",
       "    }\n",
       "\n",
       "    const paths = {\n",
       "      \"vega\": \"https://cdn.jsdelivr.net/npm/vega@5?noext\",\n",
       "      \"vega-lib\": \"https://cdn.jsdelivr.net/npm/vega-lib?noext\",\n",
       "      \"vega-lite\": \"https://cdn.jsdelivr.net/npm/vega-lite@5.20.1?noext\",\n",
       "      \"vega-embed\": \"https://cdn.jsdelivr.net/npm/vega-embed@6?noext\",\n",
       "    };\n",
       "\n",
       "    function maybeLoadScript(lib, version) {\n",
       "      var key = `${lib.replace(\"-\", \"\")}_version`;\n",
       "      return (VEGA_DEBUG[key] == version) ?\n",
       "        Promise.resolve(paths[lib]) :\n",
       "        new Promise(function(resolve, reject) {\n",
       "          var s = document.createElement('script');\n",
       "          document.getElementsByTagName(\"head\")[0].appendChild(s);\n",
       "          s.async = true;\n",
       "          s.onload = () => {\n",
       "            VEGA_DEBUG[key] = version;\n",
       "            return resolve(paths[lib]);\n",
       "          };\n",
       "          s.onerror = () => reject(`Error loading script: ${paths[lib]}`);\n",
       "          s.src = paths[lib];\n",
       "        });\n",
       "    }\n",
       "\n",
       "    function showError(err) {\n",
       "      outputDiv.innerHTML = `<div class=\"error\" style=\"color:red;\">${err}</div>`;\n",
       "      throw err;\n",
       "    }\n",
       "\n",
       "    function displayChart(vegaEmbed) {\n",
       "      vegaEmbed(outputDiv, spec, embedOpt)\n",
       "        .catch(err => showError(`Javascript Error: ${err.message}<br>This usually means there's a typo in your chart specification. See the javascript console for the full traceback.`));\n",
       "    }\n",
       "\n",
       "    if(typeof define === \"function\" && define.amd) {\n",
       "      requirejs.config({paths});\n",
       "      let deps = [\"vega-embed\"];\n",
       "      require(deps, displayChart, err => showError(`Error loading script: ${err.message}`));\n",
       "    } else {\n",
       "      maybeLoadScript(\"vega\", \"5\")\n",
       "        .then(() => maybeLoadScript(\"vega-lite\", \"5.20.1\"))\n",
       "        .then(() => maybeLoadScript(\"vega-embed\", \"6\"))\n",
       "        .catch(showError)\n",
       "        .then(() => displayChart(vegaEmbed));\n",
       "    }\n",
       "  })({\"config\": {\"view\": {\"continuousWidth\": 300, \"continuousHeight\": 300}}, \"data\": {\"name\": \"data-23e1ab8a5abf52e1d8bb04d76cafa764\"}, \"mark\": {\"type\": \"line\", \"point\": true}, \"encoding\": {\"color\": {\"field\": \"Type\", \"title\": \"Type de proportion\", \"type\": \"nominal\"}, \"x\": {\"field\": \"Year\", \"title\": \"Ann\\u00e9e\", \"type\": \"ordinal\"}, \"y\": {\"field\": \"Percentage\", \"scale\": {\"domain\": [0, 30]}, \"title\": \"Pourcentage\", \"type\": \"quantitative\"}}, \"height\": 400, \"params\": [{\"name\": \"param_10\", \"select\": {\"type\": \"interval\", \"encodings\": [\"x\", \"y\"]}, \"bind\": \"scales\"}], \"width\": 800, \"$schema\": \"https://vega.github.io/schema/vega-lite/v5.20.1.json\", \"datasets\": {\"data-23e1ab8a5abf52e1d8bb04d76cafa764\": [{\"Year\": 2019, \"Type\": \"% workflow permissions globales\", \"Percentage\": 0.0}, {\"Year\": 2019, \"Type\": \"% d\\u00e9p\\u00f4ts permissions globales\", \"Percentage\": 0.0}, {\"Year\": 2020, \"Type\": \"% workflow permissions globales\", \"Percentage\": 0.0}, {\"Year\": 2020, \"Type\": \"% d\\u00e9p\\u00f4ts permissions globales\", \"Percentage\": 0.0}, {\"Year\": 2021, \"Type\": \"% workflow permissions globales\", \"Percentage\": 0.54}, {\"Year\": 2021, \"Type\": \"% d\\u00e9p\\u00f4ts permissions globales\", \"Percentage\": 1.13}, {\"Year\": 2022, \"Type\": \"% workflow permissions globales\", \"Percentage\": 4.25}, {\"Year\": 2022, \"Type\": \"% d\\u00e9p\\u00f4ts permissions globales\", \"Percentage\": 8.11}, {\"Year\": 2023, \"Type\": \"% workflow permissions globales\", \"Percentage\": 7.69}, {\"Year\": 2023, \"Type\": \"% d\\u00e9p\\u00f4ts permissions globales\", \"Percentage\": 16.83}, {\"Year\": 2024, \"Type\": \"% workflow permissions globales\", \"Percentage\": 10.14}, {\"Year\": 2024, \"Type\": \"% d\\u00e9p\\u00f4ts permissions globales\", \"Percentage\": 22.73}, {\"Year\": 2019, \"Type\": \"% workflow permissions de jobs\", \"Percentage\": 0.0}, {\"Year\": 2019, \"Type\": \"% d\\u00e9p\\u00f4ts permissions de jobs\", \"Percentage\": 0.0}, {\"Year\": 2020, \"Type\": \"% workflow permissions de jobs\", \"Percentage\": 0.0}, {\"Year\": 2020, \"Type\": \"% d\\u00e9p\\u00f4ts permissions de jobs\", \"Percentage\": 0.0}, {\"Year\": 2021, \"Type\": \"% workflow permissions de jobs\", \"Percentage\": 1.5}, {\"Year\": 2021, \"Type\": \"% d\\u00e9p\\u00f4ts permissions de jobs\", \"Percentage\": 3.91}, {\"Year\": 2022, \"Type\": \"% workflow permissions de jobs\", \"Percentage\": 4.94}, {\"Year\": 2022, \"Type\": \"% d\\u00e9p\\u00f4ts permissions de jobs\", \"Percentage\": 12.74}, {\"Year\": 2023, \"Type\": \"% workflow permissions de jobs\", \"Percentage\": 8.14}, {\"Year\": 2023, \"Type\": \"% d\\u00e9p\\u00f4ts permissions de jobs\", \"Percentage\": 21.61}, {\"Year\": 2024, \"Type\": \"% workflow permissions de jobs\", \"Percentage\": 10.54}, {\"Year\": 2024, \"Type\": \"% d\\u00e9p\\u00f4ts permissions de jobs\", \"Percentage\": 28.65}]}}, {\"mode\": \"vega-lite\"});\n",
       "</script>"
      ],
      "text/plain": [
       "alt.Chart(...)"
      ]
     },
     "metadata": {},
     "output_type": "display_data"
    }
   ],
   "execution_count": 36
  },
  {
   "metadata": {},
   "cell_type": "markdown",
   "source": "### Extract the jobs and different metrics on them",
   "id": "4cb118a48f8f5989"
  },
  {
   "metadata": {
    "ExecuteTime": {
     "end_time": "2025-06-11T07:04:25.424582Z",
     "start_time": "2025-06-11T07:04:25.018195Z"
    }
   },
   "cell_type": "code",
   "source": [
    "parsed_jobs = []\n",
    "\n",
    "for year, parsed_workflows in parsed_snapshots:\n",
    "    jobs = info_extractor.extract_jobs_from_parsed(parsed_workflows)\n",
    "    parsed_jobs.append((year, jobs))"
   ],
   "id": "5aaa2953bf6e9f8c",
   "outputs": [],
   "execution_count": 40
  },
  {
   "metadata": {},
   "cell_type": "markdown",
   "source": "### Median number of jobs through the different snapshots",
   "id": "2a65094e8208501c"
  },
  {
   "metadata": {
    "ExecuteTime": {
     "end_time": "2025-06-11T07:04:27.365591Z",
     "start_time": "2025-06-11T07:04:26.628208Z"
    }
   },
   "cell_type": "code",
   "source": [
    "yearly_jobs_median = info_extractor.count_jobs(parsed_jobs)\n",
    "for year, median in yearly_jobs_median:\n",
    "    print(f\"Year {year}:\")\n",
    "    print(f\"Median number of jobs per workflow: {median}\")\n",
    "    print()"
   ],
   "id": "138600e804d3a4d8",
   "outputs": [
    {
     "name": "stdout",
     "output_type": "stream",
     "text": [
      "Year 2019:\n",
      "Median number of jobs per workflow: 1.0\n",
      "\n",
      "Year 2020:\n",
      "Median number of jobs per workflow: 1.0\n",
      "\n",
      "Year 2021:\n",
      "Median number of jobs per workflow: 1.0\n",
      "\n",
      "Year 2022:\n",
      "Median number of jobs per workflow: 1.0\n",
      "\n",
      "Year 2023:\n",
      "Median number of jobs per workflow: 1.0\n",
      "\n",
      "Year 2024:\n",
      "Median number of jobs per workflow: 1.0\n",
      "\n"
     ]
    }
   ],
   "execution_count": 41
  },
  {
   "metadata": {},
   "cell_type": "markdown",
   "source": "### Median number of matrix strategies through the different snapshots",
   "id": "7b012d69b72ff465"
  },
  {
   "metadata": {
    "ExecuteTime": {
     "end_time": "2025-06-11T07:04:29.673721Z",
     "start_time": "2025-06-11T07:04:29.670937Z"
    }
   },
   "cell_type": "code",
   "source": [
    "for year, median in yearly_strategies_median:\n",
    "    print(f\"Year {year}:\")\n",
    "    print(f\"Median number of global strategies per workflow: {median}\")\n",
    "    print()"
   ],
   "id": "3fbf494d81bdef31",
   "outputs": [
    {
     "name": "stdout",
     "output_type": "stream",
     "text": [
      "Year 2019:\n",
      "Median number of global strategies per workflow: 1.0\n",
      "\n",
      "Year 2020:\n",
      "Median number of global strategies per workflow: 1.0\n",
      "\n",
      "Year 2021:\n",
      "Median number of global strategies per workflow: 1.0\n",
      "\n",
      "Year 2022:\n",
      "Median number of global strategies per workflow: 1.0\n",
      "\n",
      "Year 2023:\n",
      "Median number of global strategies per workflow: 1.0\n",
      "\n",
      "Year 2024:\n",
      "Median number of global strategies per workflow: 1.0\n",
      "\n"
     ]
    }
   ],
   "execution_count": 42
  },
  {
   "metadata": {},
   "cell_type": "markdown",
   "source": "### Median number of trigger events through the different snapshots",
   "id": "26e9bfc0602886c7"
  },
  {
   "metadata": {
    "ExecuteTime": {
     "end_time": "2025-06-11T07:04:31.594727Z",
     "start_time": "2025-06-11T07:04:31.591935Z"
    }
   },
   "cell_type": "code",
   "source": [
    "for year, median in yearly_events_medians:\n",
    "    print(f\"Year {year}:\")\n",
    "    print(f\"Median number of events per workflow: {median}\")\n",
    "    print()"
   ],
   "id": "b74e2ba5084f4a5b",
   "outputs": [
    {
     "name": "stdout",
     "output_type": "stream",
     "text": [
      "Year 2019:\n",
      "Median number of events per workflow: 1.0\n",
      "\n",
      "Year 2020:\n",
      "Median number of events per workflow: 2.0\n",
      "\n",
      "Year 2021:\n",
      "Median number of events per workflow: 2.0\n",
      "\n",
      "Year 2022:\n",
      "Median number of events per workflow: 2.0\n",
      "\n",
      "Year 2023:\n",
      "Median number of events per workflow: 2.0\n",
      "\n",
      "Year 2024:\n",
      "Median number of events per workflow: 2.0\n",
      "\n"
     ]
    }
   ],
   "execution_count": 43
  },
  {
   "metadata": {},
   "cell_type": "markdown",
   "source": "### Median number of steps through the different snapshots",
   "id": "2a691e7833003886"
  },
  {
   "metadata": {
    "ExecuteTime": {
     "end_time": "2025-06-11T07:04:34.234016Z",
     "start_time": "2025-06-11T07:04:34.231199Z"
    }
   },
   "cell_type": "code",
   "source": [
    "for year, median in yearly_steps_medians:\n",
    "    print(f\"Year {year}:\")\n",
    "    print(f\"Median number of steps per workflow: {median}\")\n",
    "    print()"
   ],
   "id": "2056ae8ff726c870",
   "outputs": [
    {
     "name": "stdout",
     "output_type": "stream",
     "text": [
      "Year 2019:\n",
      "Median number of steps per workflow: 4.0\n",
      "\n",
      "Year 2020:\n",
      "Median number of steps per workflow: 6.0\n",
      "\n",
      "Year 2021:\n",
      "Median number of steps per workflow: 6.0\n",
      "\n",
      "Year 2022:\n",
      "Median number of steps per workflow: 6.0\n",
      "\n",
      "Year 2023:\n",
      "Median number of steps per workflow: 6.0\n",
      "\n",
      "Year 2024:\n",
      "Median number of steps per workflow: 6.0\n",
      "\n"
     ]
    }
   ],
   "execution_count": 44
  },
  {
   "metadata": {},
   "cell_type": "markdown",
   "source": [
    "## Snapshot with filter the uid history of invalid workflows\n",
    "\n",
    "- This was another idea of filtering workflows that was based on deleting all records of each uid that has at least one invalid workflow (valid_yaml = False).\n",
    "- This method is more aggressive than the previous one as it will delete all the records of a uid that has at least one invalid workflow."
   ],
   "id": "db99bd6b5a72b0af"
  },
  {
   "metadata": {},
   "cell_type": "code",
   "outputs": [],
   "execution_count": null,
   "source": [
    "invalid_uids = df.loc[df['valid_yaml'] == False, 'uid'].unique()\n",
    "print(f\"Number of invalid uids : {len(invalid_uids)}\")\n",
    "print(f\"Number of records that corresponds to these invalids uids : {df['uid'].isin(invalid_uids).sum()}\\n\")\n",
    "\n",
    "print(f\"Number of records in the dataframe before : {df.shape[0]}\")\n",
    "print(f\"Total number of uids before filtering : {df['uid'].nunique()}\\n\")\n",
    "\n",
    "filtered_df2 = snapshoter.delete_uid_with_invalid_yaml(df)\n",
    "print(f\"Number of records in the dataframe once {filtered_df2.shape[0]}\")\n",
    "print(f\"Total number of uids after filtering : {filtered_df2['uid'].nunique()}\")\n",
    "\n",
    "year = 2019\n",
    "while year <= 2024:\n",
    "    # Snapshot with the second method of filtering\n",
    "    snapshot2 = snapshoter.extract_snapshot(filtered_df2, year)\n",
    "\n",
    "    # Drop the deleted workflows\n",
    "    snapshot2 = snapshot2.dropna(subset=['file_hash'])\n",
    "\n",
    "    print(f\"Year {year}:\")\n",
    "    print(f\"Number of workflows in the snapshot: {snapshot2.shape[0]}\\n\")"
   ],
   "id": "bb45963568304ea5"
  }
 ],
 "metadata": {
  "kernelspec": {
   "display_name": "Python 3",
   "language": "python",
   "name": "python3"
  },
  "language_info": {
   "codemirror_mode": {
    "name": "ipython",
    "version": 2
   },
   "file_extension": ".py",
   "mimetype": "text/x-python",
   "name": "python",
   "nbconvert_exporter": "python",
   "pygments_lexer": "ipython2",
   "version": "2.7.6"
  }
 },
 "nbformat": 4,
 "nbformat_minor": 5
}
